{
 "cells": [
  {
   "cell_type": "code",
   "execution_count": null,
   "metadata": {},
   "outputs": [],
   "source": [
    "import matplotlib.pyplot as plt # plotting\n",
    "import numpy as np\n",
    "import os # for accessing directory structure\n",
    "import pandas as pd\n",
    "import glob\n",
    "\n",
    "file_dir = './kaggle/input/crypto-data/'\n",
    "\n",
    "all_files = glob.glob(os.path.join(file_dir, \"*.csv\"))\n",
    "files_list = all_files[:9432]\n",
    "dataframes = [pd.read_csv(file).assign(file_name=os.path.basename(file).strip(\".csv\")) for file in files_list]\n",
    "combined_df = pd.concat(dataframes, ignore_index=True)\n",
    "btc_df = combined_df[combined_df['symbol'] == 'BTC']\n",
    "btc_df.to_csv(\"train_BTC_combined.csv\", index=False)"
   ]
  },
  {
   "cell_type": "code",
   "execution_count": null,
   "outputs": [],
   "source": [],
   "metadata": {
    "collapsed": false,
    "pycharm": {
     "name": "#%%\n"
    }
   }
  },
  {
   "cell_type": "code",
   "execution_count": null,
   "metadata": {},
   "outputs": [],
   "source": []
  }
 ],
 "metadata": {
  "kernelspec": {
   "display_name": "Python 3",
   "language": "python",
   "name": "python3"
  },
  "language_info": {
   "codemirror_mode": {
    "name": "ipython",
    "version": 3
   },
   "file_extension": ".py",
   "mimetype": "text/x-python",
   "name": "python",
   "nbconvert_exporter": "python",
   "pygments_lexer": "ipython3",
   "version": "3.7.6"
  }
 },
 "nbformat": 4,
 "nbformat_minor": 4
}