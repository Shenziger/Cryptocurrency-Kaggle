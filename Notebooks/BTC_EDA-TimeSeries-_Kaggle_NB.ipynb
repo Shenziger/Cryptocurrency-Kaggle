{
 "cells": [
  {
   "cell_type": "markdown",
   "metadata": {},
   "source": [
    "## Starter Notebook\n",
    "EDA Notebook on Crypto-currency Data\n",
    "Within the zipped file - there are 26000+ csv files in the current version of the dataset:"
   ]
  },
  {
   "cell_type": "code",
   "execution_count": 1,
   "metadata": {
    "_kg_hide-input": false,
    "collapsed": false,
    "jupyter": {
     "outputs_hidden": false
    },
    "pycharm": {
     "is_executing": true
    }
   },
   "outputs": [],
   "source": [
    "from mpl_toolkits.mplot3d import Axes3D\n",
    "from sklearn.preprocessing import StandardScaler\n",
    "import matplotlib.pyplot as plt # plotting\n",
    "import numpy as np\n",
    "import os # for accessing directory structure\n",
    "import pandas as pd\n",
    "import glob"
   ]
  },
  {
   "cell_type": "code",
   "execution_count": 2,
   "metadata": {
    "_kg_hide-input": false,
    "collapsed": false,
    "jupyter": {
     "outputs_hidden": false
    },
    "pycharm": {
     "is_executing": true
    }
   },
   "outputs": [],
   "source": [
    "#for dirname, _, filenames in os.walk('/kaggle/input'):\n",
    "#    for filename in filenames:\n",
    "#         print(os.path.join(dirname, filename))\n",
    "\n",
    "\n",
    "# Above code will print it all like below, this was just for the initial checking\n",
    "# I am commenting out as this folder has 26000+ file names to pring\n",
    "\n",
    "# /kaggle/input/crypto-data/train_BTC_combined.csv\n",
    "# /kaggle/input/crypto-data/Crypto-Coinmarketcap/cr_20170822-152505.csv\n",
    "# /kaggle/input/crypto-data/Crypto-Coinmarketcap/cr_20170812-020505.csv\n",
    "# /kaggle/input/crypto-data/Crypto-Coinmarketcap/cr_20170813-065506.csv\n",
    "# .....\n",
    "\n",
    "# Defining this input variable as I will be using this in few places\n",
    "file_dir = './kaggle/input/crypto-data/'\n",
    "\n",
    "# In Kaggle this file will be as below per Kaggle's file-tree-structure\n",
    "# file_dir = '/kaggle/input/crypto-data/Crypto-Coinmarketcap/'"
   ]
  },
  {
   "cell_type": "code",
   "execution_count": 3,
   "metadata": {
    "_kg_hide-input": true,
    "pycharm": {
     "is_executing": true
    }
   },
   "outputs": [],
   "source": [
    "# Distribution graphs (histogram/bar graph) of column data\n",
    "def plot_per_column_distribution(df, nGraphShown, nGraphPerRow):\n",
    "    nunique = df.nunique()\n",
    "    df = df[[col for col in df if nunique[col] > 1 and nunique[col] < 50]] # For displaying purposes, pick columns that have between 1 and 50 unique values\n",
    "    nRow, nCol = df.shape\n",
    "    columnNames = list(df)\n",
    "    nGraphRow = (nCol + nGraphPerRow - 1) / nGraphPerRow\n",
    "    plt.figure(num = None, figsize = (6 * nGraphPerRow, 8 * nGraphRow), dpi = 80, facecolor = 'w', edgecolor = 'k')\n",
    "    for i in range(min(nCol, nGraphShown)):\n",
    "        plt.subplot(nGraphRow, nGraphPerRow, i + 1)\n",
    "        columnDf = df.iloc[:, i]\n",
    "        if (not np.issubdtype(type(columnDf.iloc[0]), np.number)):\n",
    "            valueCounts = columnDf.value_counts()\n",
    "            valueCounts.plot.bar()\n",
    "        else:\n",
    "            columnDf.hist()\n",
    "        plt.ylabel('counts')\n",
    "        plt.xticks(rotation = 90)\n",
    "        plt.title(f'{columnNames[i]} (column {i})')\n",
    "    plt.tight_layout(pad = 1.0, w_pad = 1.0, h_pad = 1.0)\n",
    "    plt.show()\n"
   ]
  },
  {
   "cell_type": "code",
   "execution_count": 4,
   "metadata": {
    "_kg_hide-input": true,
    "pycharm": {
     "is_executing": true
    }
   },
   "outputs": [],
   "source": [
    "# Correlation matrix\n",
    "def plot_correlation_matrix(df, graphWidth):\n",
    "    filename = df.dataframeName\n",
    "    df = df.dropna('columns') # drop columns with NaN\n",
    "    df = df[[col for col in df if df[col].nunique() > 1]] # keep columns where there are more than 1 unique values\n",
    "    if df.shape[1] < 2:\n",
    "        print(f'No correlation plots shown: The number of non-NaN or constant columns ({df.shape[1]}) is less than 2')\n",
    "        return\n",
    "    corr = df.corr()\n",
    "    plt.figure(num=None, figsize=(graphWidth, graphWidth), dpi=80, facecolor='w', edgecolor='k')\n",
    "    corrMat = plt.matshow(corr, fignum = 1)\n",
    "    plt.xticks(range(len(corr.columns)), corr.columns, rotation=90)\n",
    "    plt.yticks(range(len(corr.columns)), corr.columns)\n",
    "    plt.gca().xaxis.tick_bottom()\n",
    "    plt.colorbar(corrMat)\n",
    "    plt.title(f'Correlation Matrix for {filename}', fontsize=15)\n",
    "    plt.show()\n"
   ]
  },
  {
   "cell_type": "code",
   "execution_count": 5,
   "metadata": {
    "_kg_hide-input": true,
    "pycharm": {
     "is_executing": true
    }
   },
   "outputs": [],
   "source": [
    "# Scatter and density plots\n",
    "def plot_scatter_matrix(df, plotSize, textSize):\n",
    "    df = df.select_dtypes(include =[np.number]) # keep only numerical columns\n",
    "    # Remove rows and columns that would lead to df being singular\n",
    "    df = df.dropna('columns')\n",
    "    df = df[[col for col in df if df[col].nunique() > 1]] # keep columns where there are more than 1 unique values\n",
    "    columnNames = list(df)\n",
    "    if len(columnNames) > 10: # reduce the number of columns for matrix inversion of kernel density plots\n",
    "        columnNames = columnNames[:10]\n",
    "    df = df[columnNames]\n",
    "    ax = pd.plotting.scatter_matrix(df, alpha=0.75, figsize=[plotSize, plotSize], diagonal='kde')\n",
    "    corrs = df.corr().values\n",
    "    for i, j in zip(*plt.np.triu_indices_from(ax, k = 1)):\n",
    "        ax[i, j].annotate('Corr. coef = %.3f' % corrs[i, j], (0.8, 0.2), xycoords='axes fraction', ha='center', va='center', size=textSize)\n",
    "    plt.suptitle('Scatter and Density Plot')\n",
    "    plt.show()"
   ]
  },
  {
   "cell_type": "code",
   "execution_count": 6,
   "metadata": {
    "collapsed": false,
    "jupyter": {
     "outputs_hidden": false
    },
    "pycharm": {
     "is_executing": true,
     "name": "#%%\n"
    }
   },
   "outputs": [],
   "source": [
    "# First defining variables for the first 2 files to see their structure\n",
    "\n",
    "nRowsRead = 1000 # specify 'None' if want to read whole file\n",
    "# These .csv may have more rows in reality, but we are only loading/previewing the first 1000 rows\n",
    "df1 = pd.read_csv(file_dir+'cr_20170804-034052.csv', delimiter=',', nrows = nRowsRead)\n",
    "df2 = pd.read_csv(file_dir+'cr_20170804-035004.csv', delimiter=',', nrows = nRowsRead)\n"
   ]
  },
  {
   "cell_type": "code",
   "execution_count": 7,
   "metadata": {
    "_kg_hide-input": false,
    "collapsed": false,
    "jupyter": {
     "outputs_hidden": false
    },
    "pycharm": {
     "is_executing": true
    }
   },
   "outputs": [
    {
     "name": "stdout",
     "output_type": "stream",
     "text": [
      "There are 1000 rows and 18 columns\n"
     ]
    }
   ],
   "source": [
    "# Let's check 1st file: /kaggle/input/crypto-data/cr_20170804-034052.csv\n",
    "nRowsRead = 1000 # specify 'None' if want to read whole file\n",
    "# cr_20170804-034052.csv may have more rows in reality, but we are only loading/previewing the first 1000 rows\n",
    "# df1.dataframeName = 'cr_20170804-034052.csv'\n",
    "nRow, nCol = df1.shape\n",
    "print(f'There are {nRow} rows and {nCol} columns')"
   ]
  },
  {
   "cell_type": "code",
   "execution_count": 8,
   "metadata": {
    "_kg_hide-input": false,
    "collapsed": false,
    "jupyter": {
     "outputs_hidden": false
    },
    "pycharm": {
     "is_executing": true
    }
   },
   "outputs": [
    {
     "data": {
      "text/html": [
       "<div>\n",
       "<style scoped>\n",
       "    .dataframe tbody tr th:only-of-type {\n",
       "        vertical-align: middle;\n",
       "    }\n",
       "\n",
       "    .dataframe tbody tr th {\n",
       "        vertical-align: top;\n",
       "    }\n",
       "\n",
       "    .dataframe thead th {\n",
       "        text-align: right;\n",
       "    }\n",
       "</style>\n",
       "<table border=\"1\" class=\"dataframe\">\n",
       "  <thead>\n",
       "    <tr style=\"text-align: right;\">\n",
       "      <th></th>\n",
       "      <th>symbol</th>\n",
       "      <th>ranking</th>\n",
       "      <th>by</th>\n",
       "      <th>market</th>\n",
       "      <th>cap</th>\n",
       "      <th>name</th>\n",
       "      <th>market.1</th>\n",
       "      <th>cap.1</th>\n",
       "      <th>price</th>\n",
       "      <th>circulating</th>\n",
       "      <th>supply</th>\n",
       "      <th>volume</th>\n",
       "      <th>%</th>\n",
       "      <th>1h</th>\n",
       "      <th>%.1</th>\n",
       "      <th>24h</th>\n",
       "      <th>%.2</th>\n",
       "      <th>1wk</th>\n",
       "    </tr>\n",
       "  </thead>\n",
       "  <tbody>\n",
       "    <tr>\n",
       "      <th>0</th>\n",
       "      <td>GMB</td>\n",
       "      <td>1011</td>\n",
       "      <td>Gambleo</td>\n",
       "      <td>?</td>\n",
       "      <td>NaN</td>\n",
       "      <td>$0.000895</td>\n",
       "      <td>?</td>\n",
       "      <td>*</td>\n",
       "      <td>Low</td>\n",
       "      <td>Vol</td>\n",
       "      <td>?</td>\n",
       "      <td>?</td>\n",
       "      <td>NaN</td>\n",
       "      <td>NaN</td>\n",
       "      <td>NaN</td>\n",
       "      <td>NaN</td>\n",
       "      <td>NaN</td>\n",
       "      <td>NaN</td>\n",
       "    </tr>\n",
       "    <tr>\n",
       "      <th>1</th>\n",
       "      <td>FTC</td>\n",
       "      <td>164</td>\n",
       "      <td>Feathercoin</td>\n",
       "      <td>$9,481,236</td>\n",
       "      <td>$0.055794</td>\n",
       "      <td>169932600</td>\n",
       "      <td>$1,267,140</td>\n",
       "      <td>-0.05%</td>\n",
       "      <td>10.49%</td>\n",
       "      <td>4.99%</td>\n",
       "      <td>NaN</td>\n",
       "      <td>NaN</td>\n",
       "      <td>NaN</td>\n",
       "      <td>NaN</td>\n",
       "      <td>NaN</td>\n",
       "      <td>NaN</td>\n",
       "      <td>NaN</td>\n",
       "      <td>NaN</td>\n",
       "    </tr>\n",
       "    <tr>\n",
       "      <th>2</th>\n",
       "      <td>HCC</td>\n",
       "      <td>953</td>\n",
       "      <td>Happy</td>\n",
       "      <td>Creator...</td>\n",
       "      <td>?</td>\n",
       "      <td>NaN</td>\n",
       "      <td>$0.000108</td>\n",
       "      <td>?</td>\n",
       "      <td>*</td>\n",
       "      <td>Low</td>\n",
       "      <td>Vol</td>\n",
       "      <td>-0.02%</td>\n",
       "      <td>8.39%</td>\n",
       "      <td>NaN</td>\n",
       "      <td>NaN</td>\n",
       "      <td>NaN</td>\n",
       "      <td>NaN</td>\n",
       "      <td>NaN</td>\n",
       "    </tr>\n",
       "    <tr>\n",
       "      <th>3</th>\n",
       "      <td>BRX</td>\n",
       "      <td>288</td>\n",
       "      <td>Breakout</td>\n",
       "      <td>Stake</td>\n",
       "      <td>$1,793,819</td>\n",
       "      <td>$0.286183</td>\n",
       "      <td>6268082</td>\n",
       "      <td>*</td>\n",
       "      <td>$4,778</td>\n",
       "      <td>-4.53%</td>\n",
       "      <td>3.35%</td>\n",
       "      <td>NaN</td>\n",
       "      <td>NaN</td>\n",
       "      <td>NaN</td>\n",
       "      <td>NaN</td>\n",
       "      <td>NaN</td>\n",
       "      <td>NaN</td>\n",
       "      <td>NaN</td>\n",
       "    </tr>\n",
       "    <tr>\n",
       "      <th>4</th>\n",
       "      <td>UNRC</td>\n",
       "      <td>872</td>\n",
       "      <td>UniversalRoya...</td>\n",
       "      <td>?</td>\n",
       "      <td>NaN</td>\n",
       "      <td>$0.005857</td>\n",
       "      <td>?</td>\n",
       "      <td>*</td>\n",
       "      <td>$664</td>\n",
       "      <td>3.98%</td>\n",
       "      <td>-7.83%</td>\n",
       "      <td>NaN</td>\n",
       "      <td>NaN</td>\n",
       "      <td>NaN</td>\n",
       "      <td>NaN</td>\n",
       "      <td>NaN</td>\n",
       "      <td>NaN</td>\n",
       "      <td>NaN</td>\n",
       "    </tr>\n",
       "  </tbody>\n",
       "</table>\n",
       "</div>"
      ],
      "text/plain": [
       "  symbol  ranking                by       market          cap       name  \\\n",
       "0    GMB     1011           Gambleo            ?          NaN  $0.000895   \n",
       "1    FTC      164       Feathercoin  $9,481,236     $0.055794  169932600   \n",
       "2    HCC      953             Happy   Creator...            ?        NaN   \n",
       "3    BRX      288          Breakout        Stake  $1,793,819   $0.286183   \n",
       "4   UNRC      872  UniversalRoya...            ?          NaN  $0.005857   \n",
       "\n",
       "     market.1   cap.1   price circulating  supply  volume      %   1h  %.1  \\\n",
       "0           ?       *     Low         Vol       ?       ?    NaN  NaN  NaN   \n",
       "1  $1,267,140  -0.05%  10.49%       4.99%     NaN     NaN    NaN  NaN  NaN   \n",
       "2   $0.000108       ?       *         Low     Vol  -0.02%  8.39%  NaN  NaN   \n",
       "3     6268082       *  $4,778      -4.53%   3.35%     NaN    NaN  NaN  NaN   \n",
       "4           ?       *    $664       3.98%  -7.83%     NaN    NaN  NaN  NaN   \n",
       "\n",
       "   24h  %.2  1wk  \n",
       "0  NaN  NaN  NaN  \n",
       "1  NaN  NaN  NaN  \n",
       "2  NaN  NaN  NaN  \n",
       "3  NaN  NaN  NaN  \n",
       "4  NaN  NaN  NaN  "
      ]
     },
     "execution_count": 8,
     "metadata": {},
     "output_type": "execute_result"
    }
   ],
   "source": [
    "# Let's take a quick look at what the data looks like:\n",
    "df1.head(5)"
   ]
  },
  {
   "cell_type": "markdown",
   "metadata": {},
   "source": [
    "Distribution graphs (histogram/bar graph) of sampled columns:"
   ]
  },
  {
   "cell_type": "code",
   "execution_count": 9,
   "metadata": {
    "_kg_hide-input": false,
    "collapsed": false,
    "jupyter": {
     "outputs_hidden": false
    },
    "pycharm": {
     "is_executing": true
    }
   },
   "outputs": [],
   "source": [
    "# plot_per_column_distribution(df1, 10, 5)"
   ]
  },
  {
   "cell_type": "code",
   "execution_count": 10,
   "metadata": {
    "_kg_hide-input": false,
    "collapsed": false,
    "jupyter": {
     "outputs_hidden": false
    },
    "pycharm": {
     "is_executing": true
    }
   },
   "outputs": [
    {
     "name": "stdout",
     "output_type": "stream",
     "text": [
      "There are 1000 rows and 10 columns\n"
     ]
    }
   ],
   "source": [
    "# Let's check 2nd file: /kaggle/input/crypto-data/cr_20170804-035004.csv\n",
    "df2.dataframeName = 'cr_20170804-035004.csv'\n",
    "nRow, nCol = df2.shape\n",
    "print(f'There are {nRow} rows and {nCol} columns')"
   ]
  },
  {
   "cell_type": "code",
   "execution_count": 11,
   "metadata": {
    "_kg_hide-input": false,
    "collapsed": false,
    "jupyter": {
     "outputs_hidden": false
    },
    "pycharm": {
     "is_executing": true
    }
   },
   "outputs": [
    {
     "data": {
      "text/html": [
       "<div>\n",
       "<style scoped>\n",
       "    .dataframe tbody tr th:only-of-type {\n",
       "        vertical-align: middle;\n",
       "    }\n",
       "\n",
       "    .dataframe tbody tr th {\n",
       "        vertical-align: top;\n",
       "    }\n",
       "\n",
       "    .dataframe thead th {\n",
       "        text-align: right;\n",
       "    }\n",
       "</style>\n",
       "<table border=\"1\" class=\"dataframe\">\n",
       "  <thead>\n",
       "    <tr style=\"text-align: right;\">\n",
       "      <th></th>\n",
       "      <th>symbol</th>\n",
       "      <th>ranking by market cap</th>\n",
       "      <th>name</th>\n",
       "      <th>market cap</th>\n",
       "      <th>price</th>\n",
       "      <th>circulating supply</th>\n",
       "      <th>volume</th>\n",
       "      <th>% 1h</th>\n",
       "      <th>% 24h</th>\n",
       "      <th>% 1wk</th>\n",
       "    </tr>\n",
       "  </thead>\n",
       "  <tbody>\n",
       "    <tr>\n",
       "      <th>0</th>\n",
       "      <td>XBY</td>\n",
       "      <td>190</td>\n",
       "      <td>XtraBYtes</td>\n",
       "      <td>$7,422,935</td>\n",
       "      <td>$0.011420</td>\n",
       "      <td>650,000,000</td>\n",
       "      <td>*</td>\n",
       "      <td>$16,273</td>\n",
       "      <td>-1.36%</td>\n",
       "      <td>-0.03%</td>\n",
       "    </tr>\n",
       "    <tr>\n",
       "      <th>1</th>\n",
       "      <td>CPN</td>\n",
       "      <td>637</td>\n",
       "      <td>CompuCoin</td>\n",
       "      <td>$57,962</td>\n",
       "      <td>$0.002955</td>\n",
       "      <td>19,615,019</td>\n",
       "      <td>Low Vol</td>\n",
       "      <td>0.34%</td>\n",
       "      <td>-4.69%</td>\n",
       "      <td>-31.49%</td>\n",
       "    </tr>\n",
       "    <tr>\n",
       "      <th>2</th>\n",
       "      <td>CHEAP</td>\n",
       "      <td>976</td>\n",
       "      <td>Cheapcoin</td>\n",
       "      <td>?</td>\n",
       "      <td>$0.000112</td>\n",
       "      <td>?</td>\n",
       "      <td>*</td>\n",
       "      <td>Low Vol</td>\n",
       "      <td>0.02%</td>\n",
       "      <td>105.40%</td>\n",
       "    </tr>\n",
       "    <tr>\n",
       "      <th>3</th>\n",
       "      <td>BLAS</td>\n",
       "      <td>700</td>\n",
       "      <td>BlakeStar</td>\n",
       "      <td>$27,044</td>\n",
       "      <td>$0.000112</td>\n",
       "      <td>242,418,240</td>\n",
       "      <td>Low Vol</td>\n",
       "      <td>0.02%</td>\n",
       "      <td>-5.80%</td>\n",
       "      <td>?</td>\n",
       "    </tr>\n",
       "    <tr>\n",
       "      <th>4</th>\n",
       "      <td>CPC</td>\n",
       "      <td>341</td>\n",
       "      <td>Capricoin</td>\n",
       "      <td>$848,890</td>\n",
       "      <td>$0.426568</td>\n",
       "      <td>1,990,045</td>\n",
       "      <td>*</td>\n",
       "      <td>$18,457</td>\n",
       "      <td>-0.49%</td>\n",
       "      <td>3.66%</td>\n",
       "    </tr>\n",
       "  </tbody>\n",
       "</table>\n",
       "</div>"
      ],
      "text/plain": [
       "  symbol  ranking by market cap       name   market cap      price  \\\n",
       "0    XBY                    190  XtraBYtes  $7,422,935   $0.011420   \n",
       "1    CPN                    637  CompuCoin     $57,962   $0.002955   \n",
       "2  CHEAP                    976  Cheapcoin           ?   $0.000112   \n",
       "3   BLAS                    700  BlakeStar     $27,044   $0.000112   \n",
       "4    CPC                    341  Capricoin    $848,890   $0.426568   \n",
       "\n",
       "  circulating supply   volume     % 1h   % 24h    % 1wk  \n",
       "0        650,000,000        *  $16,273  -1.36%   -0.03%  \n",
       "1         19,615,019  Low Vol    0.34%  -4.69%  -31.49%  \n",
       "2                  ?        *  Low Vol   0.02%  105.40%  \n",
       "3        242,418,240  Low Vol    0.02%  -5.80%        ?  \n",
       "4          1,990,045        *  $18,457  -0.49%    3.66%  "
      ]
     },
     "execution_count": 11,
     "metadata": {},
     "output_type": "execute_result"
    }
   ],
   "source": [
    "# Let's take a quick look at what the data looks like:\n",
    "df2.head(5)"
   ]
  },
  {
   "cell_type": "markdown",
   "metadata": {},
   "source": [
    "Distribution graphs (histogram/bar graph) of sampled columns:"
   ]
  },
  {
   "cell_type": "code",
   "execution_count": 12,
   "metadata": {
    "_kg_hide-input": false,
    "collapsed": false,
    "jupyter": {
     "outputs_hidden": false
    },
    "pycharm": {
     "is_executing": true
    }
   },
   "outputs": [],
   "source": [
    "# plot_per_column_distribution(df2, 10, 5)"
   ]
  },
  {
   "cell_type": "code",
   "execution_count": 13,
   "metadata": {
    "collapsed": false,
    "jupyter": {
     "outputs_hidden": false
    },
    "pycharm": {
     "is_executing": true,
     "name": "#%%\n"
    }
   },
   "outputs": [
    {
     "name": "stdout",
     "output_type": "stream",
     "text": [
      "(1000, 18)\n",
      "symbol          object\n",
      "ranking          int64\n",
      "by              object\n",
      "market          object\n",
      "cap             object\n",
      "name            object\n",
      "market.1        object\n",
      "cap.1           object\n",
      "price           object\n",
      "circulating     object\n",
      "supply          object\n",
      "volume          object\n",
      "%               object\n",
      "1h              object\n",
      "%.1            float64\n",
      "24h            float64\n",
      "%.2            float64\n",
      "1wk            float64\n",
      "dtype: object\n"
     ]
    }
   ],
   "source": [
    "print(df1.shape)\n",
    "print(df1.dtypes)"
   ]
  },
  {
   "cell_type": "code",
   "execution_count": 14,
   "metadata": {
    "collapsed": false,
    "jupyter": {
     "outputs_hidden": false
    },
    "pycharm": {
     "is_executing": true,
     "name": "#%%\n"
    }
   },
   "outputs": [
    {
     "name": "stdout",
     "output_type": "stream",
     "text": [
      "9432\n"
     ]
    }
   ],
   "source": [
    "# Given I have 26,000+ .csv files, I dont have enough GPU power to combine all of them\n",
    "# either in Kaggle Kernel or in my local Machine. Hence, I will take 9432 of those files.\n",
    "# There's no precise reason behind the number 9432 - I just could copy that many files at a time in my machine\n",
    "# combine those 9432 file's contents to a single pandas data-frame\n",
    "# So let's print all the files in the directory.\n",
    "\n",
    "!ls $file_dir | wc -l  # 9432\n"
   ]
  },
  {
   "cell_type": "code",
   "execution_count": 15,
   "metadata": {
    "collapsed": false,
    "jupyter": {
     "outputs_hidden": false
    },
    "pycharm": {
     "is_executing": true,
     "name": "#%%\n"
    }
   },
   "outputs": [
    {
     "data": {
      "text/html": [
       "<div>\n",
       "<style scoped>\n",
       "    .dataframe tbody tr th:only-of-type {\n",
       "        vertical-align: middle;\n",
       "    }\n",
       "\n",
       "    .dataframe tbody tr th {\n",
       "        vertical-align: top;\n",
       "    }\n",
       "\n",
       "    .dataframe thead th {\n",
       "        text-align: right;\n",
       "    }\n",
       "</style>\n",
       "<table border=\"1\" class=\"dataframe\">\n",
       "  <thead>\n",
       "    <tr style=\"text-align: right;\">\n",
       "      <th></th>\n",
       "      <th>symbol</th>\n",
       "      <th>ranking by market cap</th>\n",
       "      <th>name</th>\n",
       "      <th>market cap</th>\n",
       "      <th>price</th>\n",
       "      <th>circulating supply</th>\n",
       "      <th>volume</th>\n",
       "      <th>% 1h</th>\n",
       "      <th>% 24h</th>\n",
       "      <th>% 1wk</th>\n",
       "    </tr>\n",
       "  </thead>\n",
       "  <tbody>\n",
       "    <tr>\n",
       "      <th>0</th>\n",
       "      <td>XBY</td>\n",
       "      <td>224</td>\n",
       "      <td>XtraBYtes</td>\n",
       "      <td>$5,760,242</td>\n",
       "      <td>$0.008862</td>\n",
       "      <td>650,000,000</td>\n",
       "      <td>*</td>\n",
       "      <td>$10,278</td>\n",
       "      <td>-5.60%</td>\n",
       "      <td>-0.55%</td>\n",
       "    </tr>\n",
       "    <tr>\n",
       "      <th>1</th>\n",
       "      <td>CPN</td>\n",
       "      <td>698</td>\n",
       "      <td>CompuCoin</td>\n",
       "      <td>$59,253</td>\n",
       "      <td>$0.003021</td>\n",
       "      <td>19,615,019</td>\n",
       "      <td>Low Vol</td>\n",
       "      <td>-1.19%</td>\n",
       "      <td>-17.47%</td>\n",
       "      <td>14.35%</td>\n",
       "    </tr>\n",
       "    <tr>\n",
       "      <th>2</th>\n",
       "      <td>CHEAP</td>\n",
       "      <td>941</td>\n",
       "      <td>Cheapcoin</td>\n",
       "      <td>?</td>\n",
       "      <td>$0.000085</td>\n",
       "      <td>?</td>\n",
       "      <td>*</td>\n",
       "      <td>Low Vol</td>\n",
       "      <td>-2.59%</td>\n",
       "      <td>4.71%</td>\n",
       "    </tr>\n",
       "    <tr>\n",
       "      <th>3</th>\n",
       "      <td>BLAS</td>\n",
       "      <td>381</td>\n",
       "      <td>BlakeStar</td>\n",
       "      <td>$811,319</td>\n",
       "      <td>$0.003321</td>\n",
       "      <td>244,268,640</td>\n",
       "      <td>$81,686</td>\n",
       "      <td>-2.83%</td>\n",
       "      <td>15.00%</td>\n",
       "      <td>526.99%</td>\n",
       "    </tr>\n",
       "    <tr>\n",
       "      <th>4</th>\n",
       "      <td>CPC</td>\n",
       "      <td>386</td>\n",
       "      <td>Capricoin</td>\n",
       "      <td>$774,826</td>\n",
       "      <td>$0.389351</td>\n",
       "      <td>1,990,045</td>\n",
       "      <td>*</td>\n",
       "      <td>$24,731</td>\n",
       "      <td>-4.53%</td>\n",
       "      <td>-8.95%</td>\n",
       "    </tr>\n",
       "  </tbody>\n",
       "</table>\n",
       "</div>"
      ],
      "text/plain": [
       "  symbol  ranking by market cap       name   market cap      price  \\\n",
       "0    XBY                    224  XtraBYtes  $5,760,242   $0.008862   \n",
       "1    CPN                    698  CompuCoin     $59,253   $0.003021   \n",
       "2  CHEAP                    941  Cheapcoin           ?   $0.000085   \n",
       "3   BLAS                    381  BlakeStar    $811,319   $0.003321   \n",
       "4    CPC                    386  Capricoin    $774,826   $0.389351   \n",
       "\n",
       "  circulating supply   volume     % 1h    % 24h    % 1wk  \n",
       "0        650,000,000        *  $10,278   -5.60%   -0.55%  \n",
       "1         19,615,019  Low Vol   -1.19%  -17.47%   14.35%  \n",
       "2                  ?        *  Low Vol   -2.59%    4.71%  \n",
       "3        244,268,640  $81,686   -2.83%   15.00%  526.99%  \n",
       "4          1,990,045        *  $24,731   -4.53%   -8.95%  "
      ]
     },
     "execution_count": 15,
     "metadata": {},
     "output_type": "execute_result"
    }
   ],
   "source": [
    "# Defining a variable for to hold a Python-list of .csv files in that directory\n",
    "# files_list = glob.glob(os.path.join(file_dir, \"*.csv\"))\n",
    "all_files = glob.glob(os.path.join(file_dir, \"*.csv\"))\n",
    "\n",
    "# lets take the first 1400 .csv file (from which I shall create a combined-dataframe)\n",
    "# Note in the original .zipped folder (uploaded to Kaggle) there are 26,000+ files.\n",
    "# But for the sake of running this data in local file-system.\n",
    "files_list = all_files[:9432]\n",
    "\n",
    "# lets create dataframes and print them to see if it working\n",
    "\n",
    "df1 = pd.read_csv(files_list[0])\n",
    "df2 = pd.read_csv(files_list[1])\n",
    "\n",
    "df1.head()"
   ]
  },
  {
   "cell_type": "code",
   "execution_count": 16,
   "metadata": {
    "collapsed": false,
    "jupyter": {
     "outputs_hidden": false
    },
    "pycharm": {
     "is_executing": true,
     "name": "#%%\n"
    }
   },
   "outputs": [
    {
     "data": {
      "text/html": [
       "<div>\n",
       "<style scoped>\n",
       "    .dataframe tbody tr th:only-of-type {\n",
       "        vertical-align: middle;\n",
       "    }\n",
       "\n",
       "    .dataframe tbody tr th {\n",
       "        vertical-align: top;\n",
       "    }\n",
       "\n",
       "    .dataframe thead th {\n",
       "        text-align: right;\n",
       "    }\n",
       "</style>\n",
       "<table border=\"1\" class=\"dataframe\">\n",
       "  <thead>\n",
       "    <tr style=\"text-align: right;\">\n",
       "      <th></th>\n",
       "      <th>symbol</th>\n",
       "      <th>ranking by market cap</th>\n",
       "      <th>name</th>\n",
       "      <th>market cap</th>\n",
       "      <th>price</th>\n",
       "      <th>circulating supply</th>\n",
       "      <th>volume</th>\n",
       "      <th>% 1h</th>\n",
       "      <th>% 24h</th>\n",
       "      <th>% 1wk</th>\n",
       "    </tr>\n",
       "  </thead>\n",
       "  <tbody>\n",
       "    <tr>\n",
       "      <th>0</th>\n",
       "      <td>MIU</td>\n",
       "      <td>1043</td>\n",
       "      <td>MIYUCoin</td>\n",
       "      <td>?</td>\n",
       "      <td>$0.000047</td>\n",
       "      <td>?</td>\n",
       "      <td>Low Vol</td>\n",
       "      <td>0.53%</td>\n",
       "      <td>2.81%</td>\n",
       "      <td>11.19%</td>\n",
       "    </tr>\n",
       "    <tr>\n",
       "      <th>1</th>\n",
       "      <td>XBY</td>\n",
       "      <td>196</td>\n",
       "      <td>XTRABYTES</td>\n",
       "      <td>$11,860,841</td>\n",
       "      <td>$0.028140</td>\n",
       "      <td>421,500,000</td>\n",
       "      <td>*</td>\n",
       "      <td>$146,279</td>\n",
       "      <td>2.54%</td>\n",
       "      <td>21.30%</td>\n",
       "    </tr>\n",
       "    <tr>\n",
       "      <th>2</th>\n",
       "      <td>CPN</td>\n",
       "      <td>704</td>\n",
       "      <td>CompuCoin</td>\n",
       "      <td>$65,942</td>\n",
       "      <td>$0.003362</td>\n",
       "      <td>19,615,019</td>\n",
       "      <td>Low Vol</td>\n",
       "      <td>0.74%</td>\n",
       "      <td>7.33%</td>\n",
       "      <td>-16.30%</td>\n",
       "    </tr>\n",
       "    <tr>\n",
       "      <th>3</th>\n",
       "      <td>CHEAP</td>\n",
       "      <td>1094</td>\n",
       "      <td>Cheapcoin</td>\n",
       "      <td>?</td>\n",
       "      <td>$0.000092</td>\n",
       "      <td>?</td>\n",
       "      <td>*</td>\n",
       "      <td>Low Vol</td>\n",
       "      <td>?</td>\n",
       "      <td>1.15%</td>\n",
       "    </tr>\n",
       "    <tr>\n",
       "      <th>4</th>\n",
       "      <td>BLAS</td>\n",
       "      <td>479</td>\n",
       "      <td>BlakeStar</td>\n",
       "      <td>$155,576</td>\n",
       "      <td>$0.000630</td>\n",
       "      <td>246,894,112</td>\n",
       "      <td>$4,413</td>\n",
       "      <td>15.64%</td>\n",
       "      <td>6.42%</td>\n",
       "      <td>69.75%</td>\n",
       "    </tr>\n",
       "  </tbody>\n",
       "</table>\n",
       "</div>"
      ],
      "text/plain": [
       "  symbol  ranking by market cap       name    market cap      price  \\\n",
       "0    MIU                   1043   MIYUCoin            ?   $0.000047   \n",
       "1    XBY                    196  XTRABYTES  $11,860,841   $0.028140   \n",
       "2    CPN                    704  CompuCoin      $65,942   $0.003362   \n",
       "3  CHEAP                   1094  Cheapcoin            ?   $0.000092   \n",
       "4   BLAS                    479  BlakeStar     $155,576   $0.000630   \n",
       "\n",
       "  circulating supply   volume      % 1h  % 24h    % 1wk  \n",
       "0                  ?  Low Vol     0.53%  2.81%   11.19%  \n",
       "1        421,500,000        *  $146,279  2.54%   21.30%  \n",
       "2         19,615,019  Low Vol     0.74%  7.33%  -16.30%  \n",
       "3                  ?        *   Low Vol      ?    1.15%  \n",
       "4        246,894,112   $4,413    15.64%  6.42%   69.75%  "
      ]
     },
     "execution_count": 16,
     "metadata": {},
     "output_type": "execute_result"
    }
   ],
   "source": [
    "df2.head()"
   ]
  },
  {
   "cell_type": "markdown",
   "metadata": {
    "jupyter": {
     "outputs_hidden": false
    },
    "pycharm": {
     "name": "#%% md\n"
    }
   },
   "source": [
    "### Code to combine 9432 .csv files into a single dataframe and then\n",
    "### Filter data for 'Symbol' column == 'BTC'\n",
    "### generating a .csv file out that combined-single dataframe to work with.\n",
    "\n",
    "As we can see above, all these files have the same columns so it seems reasonable to concatenate everything into one dataframe. However, I want to keep track of the file names because that's the only reference to the date of the records.\n",
    "\n",
    "- First, creating a list of dataframes with the filenames in a \"file_name\" column\n",
    "- Then concatenate them all into one big dataframe\n",
    "\n",
    "#### The  below are the scripts for that, but I have commented-out all of these lines,\n",
    "#### as obviously I dont want to run this huge process-intensive steps every time\n",
    "#### of creating a single DataFrame out of 9432 .csv files."
   ]
  },
  {
   "cell_type": "code",
   "execution_count": 17,
   "metadata": {
    "collapsed": false,
    "jupyter": {
     "outputs_hidden": false
    },
    "pycharm": {
     "is_executing": true,
     "name": "#%%\n"
    }
   },
   "outputs": [],
   "source": [
    "# dataframes = [pd.read_csv(file).assign(file_name=os.path.basename(file).strip(\".csv\")) for file in files_list]\n",
    "# combined_df = pd.concat(dataframes, ignore_index=True)\n",
    "# combined_df.head()"
   ]
  },
  {
   "cell_type": "code",
   "execution_count": 18,
   "metadata": {
    "collapsed": false,
    "jupyter": {
     "outputs_hidden": false
    },
    "pycharm": {
     "is_executing": true,
     "name": "#%%\n"
    }
   },
   "outputs": [],
   "source": [
    "# combined_df.shape"
   ]
  },
  {
   "cell_type": "markdown",
   "metadata": {},
   "source": [
    "##### The above dataframe has all the SYMBOLS of all the crypto-currencies as was in the individual .csv files.\n",
    "##### But now I want to extract ONLY the symbol 'BTC' for Bitcoin for the further analysis.\n",
    "\n",
    "Below is the code for that."
   ]
  },
  {
   "cell_type": "code",
   "execution_count": 19,
   "metadata": {
    "collapsed": false,
    "jupyter": {
     "outputs_hidden": false
    },
    "pycharm": {
     "is_executing": true,
     "name": "#%%\n"
    }
   },
   "outputs": [],
   "source": [
    "# Creating a dataframe, by filtering only the rows where the column 'Symbol' is 'BTC'\n",
    "\n",
    "# btc_df = combined_df[combined_df['symbol'] == 'BTC']\n",
    "# btc_df.shape"
   ]
  },
  {
   "cell_type": "markdown",
   "metadata": {
    "pycharm": {
     "name": "#%% md\n"
    }
   },
   "source": [
    "#### Now generating a .csv file contain which will be used as a training dataset\n",
    "#### This file is created out that combined-single dataframe (that I earlier created from 9432 .csv files )\n",
    "as obviously I dont want to run this huge process-intensive step of creating a single\n",
    "Data-Frame out of 9432 .csv files.\n",
    "\n",
    "Below code is commented out as well, because I have run this script just once to create the file.\n",
    "And then I have saved the file (to be used as an input) both in Kaggle and also for my local machine"
   ]
  },
  {
   "cell_type": "code",
   "execution_count": 20,
   "metadata": {
    "collapsed": false,
    "jupyter": {
     "outputs_hidden": false
    },
    "pycharm": {
     "is_executing": true,
     "name": "#%%\n"
    }
   },
   "outputs": [],
   "source": [
    "# btc_df.to_csv(\"train_BTC_combined.csv\", index=False)\n",
    "\n",
    "# Passing index=False so as not to not write out an 'unnamed' index column to the combined dataframe"
   ]
  },
  {
   "cell_type": "code",
   "execution_count": 21,
   "metadata": {
    "collapsed": false,
    "jupyter": {
     "outputs_hidden": false
    },
    "pycharm": {
     "is_executing": true,
     "name": "#%%\n"
    }
   },
   "outputs": [
    {
     "data": {
      "text/html": [
       "<div>\n",
       "<style scoped>\n",
       "    .dataframe tbody tr th:only-of-type {\n",
       "        vertical-align: middle;\n",
       "    }\n",
       "\n",
       "    .dataframe tbody tr th {\n",
       "        vertical-align: top;\n",
       "    }\n",
       "\n",
       "    .dataframe thead th {\n",
       "        text-align: right;\n",
       "    }\n",
       "</style>\n",
       "<table border=\"1\" class=\"dataframe\">\n",
       "  <thead>\n",
       "    <tr style=\"text-align: right;\">\n",
       "      <th></th>\n",
       "      <th>symbol</th>\n",
       "      <th>ranking by market cap</th>\n",
       "      <th>name</th>\n",
       "      <th>market cap</th>\n",
       "      <th>price</th>\n",
       "      <th>circulating supply</th>\n",
       "      <th>volume</th>\n",
       "      <th>% 1h</th>\n",
       "      <th>% 24h</th>\n",
       "      <th>% 1wk</th>\n",
       "      <th>...</th>\n",
       "      <th>market.1</th>\n",
       "      <th>cap.1</th>\n",
       "      <th>circulating</th>\n",
       "      <th>supply</th>\n",
       "      <th>%</th>\n",
       "      <th>1h</th>\n",
       "      <th>%.1</th>\n",
       "      <th>24h</th>\n",
       "      <th>%.2</th>\n",
       "      <th>1wk</th>\n",
       "    </tr>\n",
       "  </thead>\n",
       "  <tbody>\n",
       "    <tr>\n",
       "      <th>0</th>\n",
       "      <td>BTC</td>\n",
       "      <td>1.0</td>\n",
       "      <td>Bitcoin</td>\n",
       "      <td>$70,846,063,125</td>\n",
       "      <td>$4291.75</td>\n",
       "      <td>16,507,500</td>\n",
       "      <td>$2,814,510,000</td>\n",
       "      <td>-2.16%</td>\n",
       "      <td>5.57%</td>\n",
       "      <td>24.99%</td>\n",
       "      <td>...</td>\n",
       "      <td>NaN</td>\n",
       "      <td>NaN</td>\n",
       "      <td>NaN</td>\n",
       "      <td>NaN</td>\n",
       "      <td>NaN</td>\n",
       "      <td>NaN</td>\n",
       "      <td>NaN</td>\n",
       "      <td>NaN</td>\n",
       "      <td>NaN</td>\n",
       "      <td>NaN</td>\n",
       "    </tr>\n",
       "    <tr>\n",
       "      <th>1</th>\n",
       "      <td>BTC</td>\n",
       "      <td>1.0</td>\n",
       "      <td>Bitcoin</td>\n",
       "      <td>$76,715,293,809</td>\n",
       "      <td>$4639.63</td>\n",
       "      <td>16,534,787</td>\n",
       "      <td>$1,731,360,000</td>\n",
       "      <td>0.56%</td>\n",
       "      <td>2.73%</td>\n",
       "      <td>10.53%</td>\n",
       "      <td>...</td>\n",
       "      <td>NaN</td>\n",
       "      <td>NaN</td>\n",
       "      <td>NaN</td>\n",
       "      <td>NaN</td>\n",
       "      <td>NaN</td>\n",
       "      <td>NaN</td>\n",
       "      <td>NaN</td>\n",
       "      <td>NaN</td>\n",
       "      <td>NaN</td>\n",
       "      <td>NaN</td>\n",
       "    </tr>\n",
       "    <tr>\n",
       "      <th>2</th>\n",
       "      <td>BTC</td>\n",
       "      <td>1.0</td>\n",
       "      <td>Bitcoin</td>\n",
       "      <td>$71,411,773,702</td>\n",
       "      <td>$4316.74</td>\n",
       "      <td>16,542,987</td>\n",
       "      <td>$2,080,400,000</td>\n",
       "      <td>-2.51%</td>\n",
       "      <td>-6.91%</td>\n",
       "      <td>0.54%</td>\n",
       "      <td>...</td>\n",
       "      <td>NaN</td>\n",
       "      <td>NaN</td>\n",
       "      <td>NaN</td>\n",
       "      <td>NaN</td>\n",
       "      <td>NaN</td>\n",
       "      <td>NaN</td>\n",
       "      <td>NaN</td>\n",
       "      <td>NaN</td>\n",
       "      <td>NaN</td>\n",
       "      <td>NaN</td>\n",
       "    </tr>\n",
       "    <tr>\n",
       "      <th>3</th>\n",
       "      <td>BTC</td>\n",
       "      <td>1.0</td>\n",
       "      <td>Bitcoin</td>\n",
       "      <td>$67,158,717,638</td>\n",
       "      <td>$4066.51</td>\n",
       "      <td>16,515,075</td>\n",
       "      <td>$2,796,620,000</td>\n",
       "      <td>-0.71%</td>\n",
       "      <td>-5.92%</td>\n",
       "      <td>9.26%</td>\n",
       "      <td>...</td>\n",
       "      <td>NaN</td>\n",
       "      <td>NaN</td>\n",
       "      <td>NaN</td>\n",
       "      <td>NaN</td>\n",
       "      <td>NaN</td>\n",
       "      <td>NaN</td>\n",
       "      <td>NaN</td>\n",
       "      <td>NaN</td>\n",
       "      <td>NaN</td>\n",
       "      <td>NaN</td>\n",
       "    </tr>\n",
       "    <tr>\n",
       "      <th>4</th>\n",
       "      <td>BTC</td>\n",
       "      <td>1.0</td>\n",
       "      <td>Bitcoin</td>\n",
       "      <td>$67,243,714,005</td>\n",
       "      <td>$4071.86</td>\n",
       "      <td>16,514,250</td>\n",
       "      <td>$2,611,450,000</td>\n",
       "      <td>-1.38%</td>\n",
       "      <td>-5.83%</td>\n",
       "      <td>13.93%</td>\n",
       "      <td>...</td>\n",
       "      <td>NaN</td>\n",
       "      <td>NaN</td>\n",
       "      <td>NaN</td>\n",
       "      <td>NaN</td>\n",
       "      <td>NaN</td>\n",
       "      <td>NaN</td>\n",
       "      <td>NaN</td>\n",
       "      <td>NaN</td>\n",
       "      <td>NaN</td>\n",
       "      <td>NaN</td>\n",
       "    </tr>\n",
       "  </tbody>\n",
       "</table>\n",
       "<p>5 rows × 25 columns</p>\n",
       "</div>"
      ],
      "text/plain": [
       "  symbol  ranking by market cap     name        market cap     price  \\\n",
       "0    BTC                    1.0  Bitcoin  $70,846,063,125   $4291.75   \n",
       "1    BTC                    1.0  Bitcoin  $76,715,293,809   $4639.63   \n",
       "2    BTC                    1.0  Bitcoin  $71,411,773,702   $4316.74   \n",
       "3    BTC                    1.0  Bitcoin  $67,158,717,638   $4066.51   \n",
       "4    BTC                    1.0  Bitcoin  $67,243,714,005   $4071.86   \n",
       "\n",
       "  circulating supply          volume    % 1h   % 24h   % 1wk  ... market.1  \\\n",
       "0         16,507,500  $2,814,510,000  -2.16%   5.57%  24.99%  ...      NaN   \n",
       "1         16,534,787  $1,731,360,000   0.56%   2.73%  10.53%  ...      NaN   \n",
       "2         16,542,987  $2,080,400,000  -2.51%  -6.91%   0.54%  ...      NaN   \n",
       "3         16,515,075  $2,796,620,000  -0.71%  -5.92%   9.26%  ...      NaN   \n",
       "4         16,514,250  $2,611,450,000  -1.38%  -5.83%  13.93%  ...      NaN   \n",
       "\n",
       "   cap.1 circulating supply   %  1h %.1 24h  %.2  1wk  \n",
       "0    NaN         NaN    NaN NaN NaN NaN NaN  NaN  NaN  \n",
       "1    NaN         NaN    NaN NaN NaN NaN NaN  NaN  NaN  \n",
       "2    NaN         NaN    NaN NaN NaN NaN NaN  NaN  NaN  \n",
       "3    NaN         NaN    NaN NaN NaN NaN NaN  NaN  NaN  \n",
       "4    NaN         NaN    NaN NaN NaN NaN NaN  NaN  NaN  \n",
       "\n",
       "[5 rows x 25 columns]"
      ]
     },
     "execution_count": 21,
     "metadata": {},
     "output_type": "execute_result"
    }
   ],
   "source": [
    "# Now that I have already created a .csv with the combined dataframe for BTC, lets use that going forward.\n",
    "original_btc_train = pd.read_csv(\"train_BTC_combined.csv\")\n",
    "\n",
    "# The same code above will be as below in Kaggle because of the Kaggle's file-tree-structure for uploaded input-data\n",
    "# original_btc_train = pd.read_csv(\"/kaggle/input/crypto-data/train_BTC_combined.csv\")\n",
    "\n",
    "original_btc_train.head()"
   ]
  },
  {
   "cell_type": "code",
   "execution_count": 22,
   "metadata": {
    "collapsed": false,
    "jupyter": {
     "outputs_hidden": false
    },
    "pycharm": {
     "is_executing": true,
     "name": "#%%\n"
    }
   },
   "outputs": [
    {
     "data": {
      "text/plain": [
       "(9431, 25)"
      ]
     },
     "execution_count": 22,
     "metadata": {},
     "output_type": "execute_result"
    }
   ],
   "source": [
    "original_btc_train.shape"
   ]
  },
  {
   "cell_type": "markdown",
   "source": [
    "Lets analyze the dataframe with .info() method. This method prints a concise summary of the data frame, including the column names and their data types, the number of non-null values, the amount of memory used by the data frame."
   ],
   "metadata": {
    "collapsed": false,
    "pycharm": {
     "name": "#%% md\n"
    }
   }
  },
  {
   "cell_type": "code",
   "execution_count": 23,
   "metadata": {
    "collapsed": false,
    "jupyter": {
     "outputs_hidden": false
    },
    "pycharm": {
     "name": "#%%\n"
    }
   },
   "outputs": [
    {
     "name": "stdout",
     "output_type": "stream",
     "text": [
      "<class 'pandas.core.frame.DataFrame'>\n",
      "RangeIndex: 9431 entries, 0 to 9430\n",
      "Data columns (total 25 columns):\n",
      " #   Column                 Non-Null Count  Dtype  \n",
      "---  ------                 --------------  -----  \n",
      " 0   symbol                 9431 non-null   object \n",
      " 1   ranking by market cap  9430 non-null   float64\n",
      " 2   name                   9431 non-null   object \n",
      " 3   market cap             9430 non-null   object \n",
      " 4   price                  9431 non-null   object \n",
      " 5   circulating supply     9430 non-null   object \n",
      " 6   volume                 9430 non-null   object \n",
      " 7   % 1h                   9430 non-null   object \n",
      " 8   % 24h                  9430 non-null   object \n",
      " 9   % 1wk                  9430 non-null   object \n",
      " 10  file_name              9431 non-null   object \n",
      " 11  ranking                1 non-null      float64\n",
      " 12  by                     1 non-null      object \n",
      " 13  market                 1 non-null      object \n",
      " 14  cap                    1 non-null      object \n",
      " 15  market.1               1 non-null      object \n",
      " 16  cap.1                  1 non-null      object \n",
      " 17  circulating            1 non-null      object \n",
      " 18  supply                 0 non-null      float64\n",
      " 19  %                      0 non-null      float64\n",
      " 20  1h                     0 non-null      float64\n",
      " 21  %.1                    0 non-null      float64\n",
      " 22  24h                    0 non-null      float64\n",
      " 23  %.2                    0 non-null      float64\n",
      " 24  1wk                    0 non-null      float64\n",
      "dtypes: float64(9), object(16)\n",
      "memory usage: 1.8+ MB\n"
     ]
    }
   ],
   "source": [
    "original_btc_train.info()"
   ]
  },
  {
   "cell_type": "markdown",
   "source": [
    "As shown above, the data sets do not contain null values but some of the columns where I expected numerical or float values, instead contain object Dtype like the 'market cap' column.\n",
    "\n",
    "Also starting with 'file_name' upto '1wk' columns dont have"
   ],
   "metadata": {
    "collapsed": false,
    "pycharm": {
     "name": "#%% md\n"
    }
   }
  },
  {
   "cell_type": "code",
   "execution_count": 24,
   "metadata": {
    "collapsed": false,
    "jupyter": {
     "outputs_hidden": false
    },
    "pycharm": {
     "is_executing": true,
     "name": "#%%\n"
    }
   },
   "outputs": [
    {
     "name": "stdout",
     "output_type": "stream",
     "text": [
      "All Features list ['symbol', 'ranking by market cap', 'name', 'market cap', 'price', 'circulating supply', 'volume', '% 1h', '% 24h', '% 1wk', 'file_name', 'ranking', 'by', 'market', 'cap', 'market.1', 'cap.1', 'circulating', 'supply', '%', '1h', '%.1', '24h', '%.2', '1wk']\n",
      "\n",
      "Missing Values symbol                   False\n",
      "ranking by market cap     True\n",
      "name                     False\n",
      "market cap                True\n",
      "price                    False\n",
      "circulating supply        True\n",
      "volume                    True\n",
      "% 1h                      True\n",
      "% 24h                     True\n",
      "% 1wk                     True\n",
      "file_name                False\n",
      "ranking                   True\n",
      "by                        True\n",
      "market                    True\n",
      "cap                       True\n",
      "market.1                  True\n",
      "cap.1                     True\n",
      "circulating               True\n",
      "supply                    True\n",
      "%                         True\n",
      "1h                        True\n",
      "%.1                       True\n",
      "24h                       True\n",
      "%.2                       True\n",
      "1wk                       True\n",
      "dtype: bool\n",
      "\n",
      "Unique Values  symbol                      1\n",
      "ranking by market cap       1\n",
      "name                        2\n",
      "market cap               9181\n",
      "price                    8789\n",
      "circulating supply       2001\n",
      "volume                   8969\n",
      "% 1h                      612\n",
      "% 24h                    2021\n",
      "% 1wk                    3370\n",
      "file_name                9431\n",
      "ranking                     1\n",
      "by                          1\n",
      "market                      1\n",
      "cap                         1\n",
      "market.1                    1\n",
      "cap.1                       1\n",
      "circulating                 1\n",
      "supply                      0\n",
      "%                           0\n",
      "1h                          0\n",
      "%.1                         0\n",
      "24h                         0\n",
      "%.2                         0\n",
      "1wk                         0\n",
      "dtype: int64\n"
     ]
    }
   ],
   "source": [
    "# All Features List\n",
    "print(\"All Features list\", original_btc_train.columns.tolist())\n",
    "print(\"\\nMissing Values\", original_btc_train.isnull().any())\n",
    "print(\"\\nUnique Values \", original_btc_train.nunique())"
   ]
  },
  {
   "cell_type": "code",
   "execution_count": 25,
   "metadata": {
    "collapsed": false,
    "jupyter": {
     "outputs_hidden": false
    },
    "pycharm": {
     "is_executing": true,
     "name": "#%%\n"
    }
   },
   "outputs": [
    {
     "data": {
      "text/plain": [
       "0       70846063125 \n",
       "1       76715293809 \n",
       "2       71411773702 \n",
       "3       67158717638 \n",
       "4       67243714005 \n",
       "            ...     \n",
       "9426    71308175058 \n",
       "9427    70475225454 \n",
       "9428    72348215185 \n",
       "9429    68520412389 \n",
       "9430    67490059171 \n",
       "Name: market cap, Length: 9431, dtype: object"
      ]
     },
     "execution_count": 25,
     "metadata": {},
     "output_type": "execute_result"
    }
   ],
   "source": [
    "# Remove the '$' and the extra commas from the 'market cap' column\n",
    "\n",
    "# In the real world data set, to see if there are are non-numeric values in the column.\n",
    "# my first approach was to try to use astype() as below commented out line\n",
    "# original_btc_train['market cap'].astype('float')\n",
    "# The output would be - could not convert string to float: '$70,846,063,125 '\n",
    "\n",
    "# So now, let’s try removing the ‘$’ and ‘,’ using str.replace :\n",
    "original_btc_train['market cap'] =original_btc_train['market cap'].str.replace(',', '')\n",
    "original_btc_train['market cap'] =original_btc_train['market cap'].str.replace('$', '')\n",
    "original_btc_train['market cap']"
   ]
  },
  {
   "cell_type": "code",
   "execution_count": 26,
   "metadata": {
    "collapsed": false,
    "jupyter": {
     "outputs_hidden": false
    },
    "pycharm": {
     "is_executing": true,
     "name": "#%%\n"
    }
   },
   "outputs": [
    {
     "data": {
      "text/html": [
       "<div>\n",
       "<style scoped>\n",
       "    .dataframe tbody tr th:only-of-type {\n",
       "        vertical-align: middle;\n",
       "    }\n",
       "\n",
       "    .dataframe tbody tr th {\n",
       "        vertical-align: top;\n",
       "    }\n",
       "\n",
       "    .dataframe thead th {\n",
       "        text-align: right;\n",
       "    }\n",
       "</style>\n",
       "<table border=\"1\" class=\"dataframe\">\n",
       "  <thead>\n",
       "    <tr style=\"text-align: right;\">\n",
       "      <th></th>\n",
       "      <th>symbol</th>\n",
       "      <th>ranking by market cap</th>\n",
       "      <th>name</th>\n",
       "      <th>market cap</th>\n",
       "      <th>price</th>\n",
       "      <th>circulating supply</th>\n",
       "      <th>volume</th>\n",
       "      <th>% 1h</th>\n",
       "      <th>% 24h</th>\n",
       "      <th>% 1wk</th>\n",
       "      <th>...</th>\n",
       "      <th>market.1</th>\n",
       "      <th>cap.1</th>\n",
       "      <th>circulating</th>\n",
       "      <th>supply</th>\n",
       "      <th>%</th>\n",
       "      <th>1h</th>\n",
       "      <th>%.1</th>\n",
       "      <th>24h</th>\n",
       "      <th>%.2</th>\n",
       "      <th>1wk</th>\n",
       "    </tr>\n",
       "  </thead>\n",
       "  <tbody>\n",
       "    <tr>\n",
       "      <th>0</th>\n",
       "      <td>BTC</td>\n",
       "      <td>1.0</td>\n",
       "      <td>Bitcoin</td>\n",
       "      <td>70846063125</td>\n",
       "      <td>$4291.75</td>\n",
       "      <td>16,507,500</td>\n",
       "      <td>$2,814,510,000</td>\n",
       "      <td>-2.16%</td>\n",
       "      <td>5.57%</td>\n",
       "      <td>24.99%</td>\n",
       "      <td>...</td>\n",
       "      <td>NaN</td>\n",
       "      <td>NaN</td>\n",
       "      <td>NaN</td>\n",
       "      <td>NaN</td>\n",
       "      <td>NaN</td>\n",
       "      <td>NaN</td>\n",
       "      <td>NaN</td>\n",
       "      <td>NaN</td>\n",
       "      <td>NaN</td>\n",
       "      <td>NaN</td>\n",
       "    </tr>\n",
       "    <tr>\n",
       "      <th>1</th>\n",
       "      <td>BTC</td>\n",
       "      <td>1.0</td>\n",
       "      <td>Bitcoin</td>\n",
       "      <td>76715293809</td>\n",
       "      <td>$4639.63</td>\n",
       "      <td>16,534,787</td>\n",
       "      <td>$1,731,360,000</td>\n",
       "      <td>0.56%</td>\n",
       "      <td>2.73%</td>\n",
       "      <td>10.53%</td>\n",
       "      <td>...</td>\n",
       "      <td>NaN</td>\n",
       "      <td>NaN</td>\n",
       "      <td>NaN</td>\n",
       "      <td>NaN</td>\n",
       "      <td>NaN</td>\n",
       "      <td>NaN</td>\n",
       "      <td>NaN</td>\n",
       "      <td>NaN</td>\n",
       "      <td>NaN</td>\n",
       "      <td>NaN</td>\n",
       "    </tr>\n",
       "    <tr>\n",
       "      <th>2</th>\n",
       "      <td>BTC</td>\n",
       "      <td>1.0</td>\n",
       "      <td>Bitcoin</td>\n",
       "      <td>71411773702</td>\n",
       "      <td>$4316.74</td>\n",
       "      <td>16,542,987</td>\n",
       "      <td>$2,080,400,000</td>\n",
       "      <td>-2.51%</td>\n",
       "      <td>-6.91%</td>\n",
       "      <td>0.54%</td>\n",
       "      <td>...</td>\n",
       "      <td>NaN</td>\n",
       "      <td>NaN</td>\n",
       "      <td>NaN</td>\n",
       "      <td>NaN</td>\n",
       "      <td>NaN</td>\n",
       "      <td>NaN</td>\n",
       "      <td>NaN</td>\n",
       "      <td>NaN</td>\n",
       "      <td>NaN</td>\n",
       "      <td>NaN</td>\n",
       "    </tr>\n",
       "    <tr>\n",
       "      <th>3</th>\n",
       "      <td>BTC</td>\n",
       "      <td>1.0</td>\n",
       "      <td>Bitcoin</td>\n",
       "      <td>67158717638</td>\n",
       "      <td>$4066.51</td>\n",
       "      <td>16,515,075</td>\n",
       "      <td>$2,796,620,000</td>\n",
       "      <td>-0.71%</td>\n",
       "      <td>-5.92%</td>\n",
       "      <td>9.26%</td>\n",
       "      <td>...</td>\n",
       "      <td>NaN</td>\n",
       "      <td>NaN</td>\n",
       "      <td>NaN</td>\n",
       "      <td>NaN</td>\n",
       "      <td>NaN</td>\n",
       "      <td>NaN</td>\n",
       "      <td>NaN</td>\n",
       "      <td>NaN</td>\n",
       "      <td>NaN</td>\n",
       "      <td>NaN</td>\n",
       "    </tr>\n",
       "    <tr>\n",
       "      <th>4</th>\n",
       "      <td>BTC</td>\n",
       "      <td>1.0</td>\n",
       "      <td>Bitcoin</td>\n",
       "      <td>67243714005</td>\n",
       "      <td>$4071.86</td>\n",
       "      <td>16,514,250</td>\n",
       "      <td>$2,611,450,000</td>\n",
       "      <td>-1.38%</td>\n",
       "      <td>-5.83%</td>\n",
       "      <td>13.93%</td>\n",
       "      <td>...</td>\n",
       "      <td>NaN</td>\n",
       "      <td>NaN</td>\n",
       "      <td>NaN</td>\n",
       "      <td>NaN</td>\n",
       "      <td>NaN</td>\n",
       "      <td>NaN</td>\n",
       "      <td>NaN</td>\n",
       "      <td>NaN</td>\n",
       "      <td>NaN</td>\n",
       "      <td>NaN</td>\n",
       "    </tr>\n",
       "  </tbody>\n",
       "</table>\n",
       "<p>5 rows × 25 columns</p>\n",
       "</div>"
      ],
      "text/plain": [
       "  symbol  ranking by market cap     name    market cap     price  \\\n",
       "0    BTC                    1.0  Bitcoin  70846063125   $4291.75   \n",
       "1    BTC                    1.0  Bitcoin  76715293809   $4639.63   \n",
       "2    BTC                    1.0  Bitcoin  71411773702   $4316.74   \n",
       "3    BTC                    1.0  Bitcoin  67158717638   $4066.51   \n",
       "4    BTC                    1.0  Bitcoin  67243714005   $4071.86   \n",
       "\n",
       "  circulating supply          volume    % 1h   % 24h   % 1wk  ... market.1  \\\n",
       "0         16,507,500  $2,814,510,000  -2.16%   5.57%  24.99%  ...      NaN   \n",
       "1         16,534,787  $1,731,360,000   0.56%   2.73%  10.53%  ...      NaN   \n",
       "2         16,542,987  $2,080,400,000  -2.51%  -6.91%   0.54%  ...      NaN   \n",
       "3         16,515,075  $2,796,620,000  -0.71%  -5.92%   9.26%  ...      NaN   \n",
       "4         16,514,250  $2,611,450,000  -1.38%  -5.83%  13.93%  ...      NaN   \n",
       "\n",
       "   cap.1 circulating supply   %  1h %.1 24h  %.2  1wk  \n",
       "0    NaN         NaN    NaN NaN NaN NaN NaN  NaN  NaN  \n",
       "1    NaN         NaN    NaN NaN NaN NaN NaN  NaN  NaN  \n",
       "2    NaN         NaN    NaN NaN NaN NaN NaN  NaN  NaN  \n",
       "3    NaN         NaN    NaN NaN NaN NaN NaN  NaN  NaN  \n",
       "4    NaN         NaN    NaN NaN NaN NaN NaN  NaN  NaN  \n",
       "\n",
       "[5 rows x 25 columns]"
      ]
     },
     "execution_count": 26,
     "metadata": {},
     "output_type": "execute_result"
    }
   ],
   "source": [
    "original_btc_train.head()"
   ]
  },
  {
   "cell_type": "code",
   "execution_count": 27,
   "metadata": {
    "collapsed": false,
    "jupyter": {
     "outputs_hidden": false
    },
    "pycharm": {
     "is_executing": true,
     "name": "#%%\n"
    }
   },
   "outputs": [
    {
     "data": {
      "text/plain": [
       "0       7.084606e+10\n",
       "1       7.671529e+10\n",
       "2       7.141177e+10\n",
       "3       6.715872e+10\n",
       "4       6.724371e+10\n",
       "            ...     \n",
       "9426    7.130818e+10\n",
       "9427    7.047523e+10\n",
       "9428    7.234822e+10\n",
       "9429    6.852041e+10\n",
       "9430    6.749006e+10\n",
       "Name: market cap, Length: 9431, dtype: float64"
      ]
     },
     "execution_count": 27,
     "metadata": {},
     "output_type": "execute_result"
    }
   ],
   "source": [
    "# and now if I run below\n",
    "original_btc_train['market cap'].astype('float')"
   ]
  },
  {
   "cell_type": "code",
   "execution_count": 28,
   "metadata": {
    "collapsed": false,
    "jupyter": {
     "outputs_hidden": false
    },
    "pycharm": {
     "is_executing": true,
     "name": "#%%\n"
    }
   },
   "outputs": [
    {
     "data": {
      "text/html": [
       "<div>\n",
       "<style scoped>\n",
       "    .dataframe tbody tr th:only-of-type {\n",
       "        vertical-align: middle;\n",
       "    }\n",
       "\n",
       "    .dataframe tbody tr th {\n",
       "        vertical-align: top;\n",
       "    }\n",
       "\n",
       "    .dataframe thead th {\n",
       "        text-align: right;\n",
       "    }\n",
       "</style>\n",
       "<table border=\"1\" class=\"dataframe\">\n",
       "  <thead>\n",
       "    <tr style=\"text-align: right;\">\n",
       "      <th></th>\n",
       "      <th>ranking by market cap</th>\n",
       "      <th>name</th>\n",
       "      <th>market cap</th>\n",
       "      <th>price</th>\n",
       "      <th>circulating supply</th>\n",
       "      <th>volume</th>\n",
       "      <th>% 1h</th>\n",
       "      <th>% 24h</th>\n",
       "      <th>% 1wk</th>\n",
       "      <th>file_name</th>\n",
       "      <th>...</th>\n",
       "      <th>market.1</th>\n",
       "      <th>cap.1</th>\n",
       "      <th>circulating</th>\n",
       "      <th>supply</th>\n",
       "      <th>%</th>\n",
       "      <th>1h</th>\n",
       "      <th>%.1</th>\n",
       "      <th>24h</th>\n",
       "      <th>%.2</th>\n",
       "      <th>1wk</th>\n",
       "    </tr>\n",
       "    <tr>\n",
       "      <th>symbol</th>\n",
       "      <th></th>\n",
       "      <th></th>\n",
       "      <th></th>\n",
       "      <th></th>\n",
       "      <th></th>\n",
       "      <th></th>\n",
       "      <th></th>\n",
       "      <th></th>\n",
       "      <th></th>\n",
       "      <th></th>\n",
       "      <th></th>\n",
       "      <th></th>\n",
       "      <th></th>\n",
       "      <th></th>\n",
       "      <th></th>\n",
       "      <th></th>\n",
       "      <th></th>\n",
       "      <th></th>\n",
       "      <th></th>\n",
       "      <th></th>\n",
       "      <th></th>\n",
       "    </tr>\n",
       "  </thead>\n",
       "  <tbody>\n",
       "    <tr>\n",
       "      <th>BTC</th>\n",
       "      <td>1.0</td>\n",
       "      <td>Bitcoin</td>\n",
       "      <td>70846063125</td>\n",
       "      <td>$4291.75</td>\n",
       "      <td>16,507,500</td>\n",
       "      <td>$2,814,510,000</td>\n",
       "      <td>-2.16%</td>\n",
       "      <td>5.57%</td>\n",
       "      <td>24.99%</td>\n",
       "      <td>r_20170815-071005</td>\n",
       "      <td>...</td>\n",
       "      <td>NaN</td>\n",
       "      <td>NaN</td>\n",
       "      <td>NaN</td>\n",
       "      <td>NaN</td>\n",
       "      <td>NaN</td>\n",
       "      <td>NaN</td>\n",
       "      <td>NaN</td>\n",
       "      <td>NaN</td>\n",
       "      <td>NaN</td>\n",
       "      <td>NaN</td>\n",
       "    </tr>\n",
       "    <tr>\n",
       "      <th>BTC</th>\n",
       "      <td>1.0</td>\n",
       "      <td>Bitcoin</td>\n",
       "      <td>76715293809</td>\n",
       "      <td>$4639.63</td>\n",
       "      <td>16,534,787</td>\n",
       "      <td>$1,731,360,000</td>\n",
       "      <td>0.56%</td>\n",
       "      <td>2.73%</td>\n",
       "      <td>10.53%</td>\n",
       "      <td>r_20170831-114005</td>\n",
       "      <td>...</td>\n",
       "      <td>NaN</td>\n",
       "      <td>NaN</td>\n",
       "      <td>NaN</td>\n",
       "      <td>NaN</td>\n",
       "      <td>NaN</td>\n",
       "      <td>NaN</td>\n",
       "      <td>NaN</td>\n",
       "      <td>NaN</td>\n",
       "      <td>NaN</td>\n",
       "      <td>NaN</td>\n",
       "    </tr>\n",
       "    <tr>\n",
       "      <th>BTC</th>\n",
       "      <td>1.0</td>\n",
       "      <td>Bitcoin</td>\n",
       "      <td>71411773702</td>\n",
       "      <td>$4316.74</td>\n",
       "      <td>16,542,987</td>\n",
       "      <td>$2,080,400,000</td>\n",
       "      <td>-2.51%</td>\n",
       "      <td>-6.91%</td>\n",
       "      <td>0.54%</td>\n",
       "      <td>r_20170904-085005</td>\n",
       "      <td>...</td>\n",
       "      <td>NaN</td>\n",
       "      <td>NaN</td>\n",
       "      <td>NaN</td>\n",
       "      <td>NaN</td>\n",
       "      <td>NaN</td>\n",
       "      <td>NaN</td>\n",
       "      <td>NaN</td>\n",
       "      <td>NaN</td>\n",
       "      <td>NaN</td>\n",
       "      <td>NaN</td>\n",
       "    </tr>\n",
       "    <tr>\n",
       "      <th>BTC</th>\n",
       "      <td>1.0</td>\n",
       "      <td>Bitcoin</td>\n",
       "      <td>67158717638</td>\n",
       "      <td>$4066.51</td>\n",
       "      <td>16,515,075</td>\n",
       "      <td>$2,796,620,000</td>\n",
       "      <td>-0.71%</td>\n",
       "      <td>-5.92%</td>\n",
       "      <td>9.26%</td>\n",
       "      <td>r_20170819-065505</td>\n",
       "      <td>...</td>\n",
       "      <td>NaN</td>\n",
       "      <td>NaN</td>\n",
       "      <td>NaN</td>\n",
       "      <td>NaN</td>\n",
       "      <td>NaN</td>\n",
       "      <td>NaN</td>\n",
       "      <td>NaN</td>\n",
       "      <td>NaN</td>\n",
       "      <td>NaN</td>\n",
       "      <td>NaN</td>\n",
       "    </tr>\n",
       "    <tr>\n",
       "      <th>BTC</th>\n",
       "      <td>1.0</td>\n",
       "      <td>Bitcoin</td>\n",
       "      <td>67243714005</td>\n",
       "      <td>$4071.86</td>\n",
       "      <td>16,514,250</td>\n",
       "      <td>$2,611,450,000</td>\n",
       "      <td>-1.38%</td>\n",
       "      <td>-5.83%</td>\n",
       "      <td>13.93%</td>\n",
       "      <td>r_20170818-210005</td>\n",
       "      <td>...</td>\n",
       "      <td>NaN</td>\n",
       "      <td>NaN</td>\n",
       "      <td>NaN</td>\n",
       "      <td>NaN</td>\n",
       "      <td>NaN</td>\n",
       "      <td>NaN</td>\n",
       "      <td>NaN</td>\n",
       "      <td>NaN</td>\n",
       "      <td>NaN</td>\n",
       "      <td>NaN</td>\n",
       "    </tr>\n",
       "  </tbody>\n",
       "</table>\n",
       "<p>5 rows × 24 columns</p>\n",
       "</div>"
      ],
      "text/plain": [
       "        ranking by market cap     name    market cap     price  \\\n",
       "symbol                                                           \n",
       "BTC                       1.0  Bitcoin  70846063125   $4291.75   \n",
       "BTC                       1.0  Bitcoin  76715293809   $4639.63   \n",
       "BTC                       1.0  Bitcoin  71411773702   $4316.74   \n",
       "BTC                       1.0  Bitcoin  67158717638   $4066.51   \n",
       "BTC                       1.0  Bitcoin  67243714005   $4071.86   \n",
       "\n",
       "       circulating supply          volume    % 1h   % 24h   % 1wk  \\\n",
       "symbol                                                              \n",
       "BTC            16,507,500  $2,814,510,000  -2.16%   5.57%  24.99%   \n",
       "BTC            16,534,787  $1,731,360,000   0.56%   2.73%  10.53%   \n",
       "BTC            16,542,987  $2,080,400,000  -2.51%  -6.91%   0.54%   \n",
       "BTC            16,515,075  $2,796,620,000  -0.71%  -5.92%   9.26%   \n",
       "BTC            16,514,250  $2,611,450,000  -1.38%  -5.83%  13.93%   \n",
       "\n",
       "                file_name  ...  market.1 cap.1 circulating supply   %  1h %.1  \\\n",
       "symbol                     ...                                                  \n",
       "BTC     r_20170815-071005  ...       NaN   NaN         NaN    NaN NaN NaN NaN   \n",
       "BTC     r_20170831-114005  ...       NaN   NaN         NaN    NaN NaN NaN NaN   \n",
       "BTC     r_20170904-085005  ...       NaN   NaN         NaN    NaN NaN NaN NaN   \n",
       "BTC     r_20170819-065505  ...       NaN   NaN         NaN    NaN NaN NaN NaN   \n",
       "BTC     r_20170818-210005  ...       NaN   NaN         NaN    NaN NaN NaN NaN   \n",
       "\n",
       "        24h  %.2  1wk  \n",
       "symbol                 \n",
       "BTC     NaN  NaN  NaN  \n",
       "BTC     NaN  NaN  NaN  \n",
       "BTC     NaN  NaN  NaN  \n",
       "BTC     NaN  NaN  NaN  \n",
       "BTC     NaN  NaN  NaN  \n",
       "\n",
       "[5 rows x 24 columns]"
      ]
     },
     "execution_count": 28,
     "metadata": {},
     "output_type": "execute_result"
    }
   ],
   "source": [
    "btc_train = original_btc_train.set_index('symbol')\n",
    "btc_train.head()"
   ]
  },
  {
   "cell_type": "code",
   "execution_count": 29,
   "metadata": {
    "collapsed": false,
    "jupyter": {
     "outputs_hidden": false
    },
    "pycharm": {
     "is_executing": true,
     "name": "#%%\n"
    }
   },
   "outputs": [
    {
     "data": {
      "text/html": [
       "<div>\n",
       "<style scoped>\n",
       "    .dataframe tbody tr th:only-of-type {\n",
       "        vertical-align: middle;\n",
       "    }\n",
       "\n",
       "    .dataframe tbody tr th {\n",
       "        vertical-align: top;\n",
       "    }\n",
       "\n",
       "    .dataframe thead th {\n",
       "        text-align: right;\n",
       "    }\n",
       "</style>\n",
       "<table border=\"1\" class=\"dataframe\">\n",
       "  <thead>\n",
       "    <tr style=\"text-align: right;\">\n",
       "      <th></th>\n",
       "      <th>market cap</th>\n",
       "    </tr>\n",
       "    <tr>\n",
       "      <th>symbol</th>\n",
       "      <th></th>\n",
       "    </tr>\n",
       "  </thead>\n",
       "  <tbody>\n",
       "    <tr>\n",
       "      <th>BTC</th>\n",
       "      <td>70846063125</td>\n",
       "    </tr>\n",
       "    <tr>\n",
       "      <th>BTC</th>\n",
       "      <td>76715293809</td>\n",
       "    </tr>\n",
       "    <tr>\n",
       "      <th>BTC</th>\n",
       "      <td>71411773702</td>\n",
       "    </tr>\n",
       "    <tr>\n",
       "      <th>BTC</th>\n",
       "      <td>67158717638</td>\n",
       "    </tr>\n",
       "    <tr>\n",
       "      <th>BTC</th>\n",
       "      <td>67243714005</td>\n",
       "    </tr>\n",
       "  </tbody>\n",
       "</table>\n",
       "</div>"
      ],
      "text/plain": [
       "          market cap\n",
       "symbol              \n",
       "BTC     70846063125 \n",
       "BTC     76715293809 \n",
       "BTC     71411773702 \n",
       "BTC     67158717638 \n",
       "BTC     67243714005 "
      ]
     },
     "execution_count": 29,
     "metadata": {},
     "output_type": "execute_result"
    }
   ],
   "source": [
    "market_cap = btc_train[['market cap']]\n",
    "market_cap.head()"
   ]
  },
  {
   "cell_type": "markdown",
   "metadata": {
    "pycharm": {
     "name": "#%% md\n"
    }
   },
   "source": [
    "### Rolling Mean (Moving Average) — to determine trend\n",
    "\n",
    "A simple moving average, also called a rolling or running average is formed by computing the average price of a security over a specific number of periods. Most moving averages are based on closing prices; for example, a 5-day simple moving average is the five-day sum of closing prices divided by five. As its name implies, a moving average is an average that moves. Old data is dropped as new data becomes available, causing the average to move along the time scale. The example below shows a 5-day moving average evolving over three days.\n",
    "\n",
    "```\n",
    "Daily Closing Prices: 11,12,13,14,15,16,17\n",
    "\n",
    "First day of 5-day SMA: (11 + 12 + 13 + 14 + 15) / 5 = 13\n",
    "\n",
    "Second day of 5-day SMA: (12 + 13 + 14 + 15 + 16) / 5 = 14\n",
    "\n",
    "Third day of 5-day SMA: (13 + 14 + 15 + 16 + 17) / 5 = 15\n",
    "```\n",
    "The first day of the moving average simply covers the last five days. The second day of the moving average drops the first data point (11) and adds the new data point (16).\n",
    "\n",
    "The moving average is used to analyze the time-series data by calculating averages of different subsets of the complete dataset. Since it involves taking the average of the dataset over time, it is also called a moving mean (MM) or rolling mean. Moving averages are widely used in finance to determine trends in the market and in environmental engineering to evaluate standards for environmental quality such as the concentration of pollutants.\n",
    "\n",
    "Rolling mean/Moving Average (MA) smooths out price data by creating a constantly updated average price. This is useful to cut down “noise” in our price chart. Furthermore, this Moving Average could act as “Resistance” meaning from the downtrend and uptrend of stocks you could expect it will follow the trend and less likely to deviate outside its resistance point."
   ]
  },
  {
   "cell_type": "code",
   "execution_count": 30,
   "metadata": {
    "collapsed": false,
    "jupyter": {
     "outputs_hidden": false
    },
    "pycharm": {
     "is_executing": true,
     "name": "#%%\n"
    }
   },
   "outputs": [
    {
     "data": {
      "text/html": [
       "<div>\n",
       "<style scoped>\n",
       "    .dataframe tbody tr th:only-of-type {\n",
       "        vertical-align: middle;\n",
       "    }\n",
       "\n",
       "    .dataframe tbody tr th {\n",
       "        vertical-align: top;\n",
       "    }\n",
       "\n",
       "    .dataframe thead th {\n",
       "        text-align: right;\n",
       "    }\n",
       "</style>\n",
       "<table border=\"1\" class=\"dataframe\">\n",
       "  <thead>\n",
       "    <tr style=\"text-align: right;\">\n",
       "      <th></th>\n",
       "      <th>market cap</th>\n",
       "    </tr>\n",
       "    <tr>\n",
       "      <th>symbol</th>\n",
       "      <th></th>\n",
       "    </tr>\n",
       "  </thead>\n",
       "  <tbody>\n",
       "    <tr>\n",
       "      <th>BTC</th>\n",
       "      <td>NaN</td>\n",
       "    </tr>\n",
       "    <tr>\n",
       "      <th>BTC</th>\n",
       "      <td>NaN</td>\n",
       "    </tr>\n",
       "    <tr>\n",
       "      <th>BTC</th>\n",
       "      <td>7.299104e+10</td>\n",
       "    </tr>\n",
       "    <tr>\n",
       "      <th>BTC</th>\n",
       "      <td>7.176193e+10</td>\n",
       "    </tr>\n",
       "    <tr>\n",
       "      <th>BTC</th>\n",
       "      <td>6.860474e+10</td>\n",
       "    </tr>\n",
       "    <tr>\n",
       "      <th>...</th>\n",
       "      <td>...</td>\n",
       "    </tr>\n",
       "    <tr>\n",
       "      <th>BTC</th>\n",
       "      <td>7.052990e+10</td>\n",
       "    </tr>\n",
       "    <tr>\n",
       "      <th>BTC</th>\n",
       "      <td>6.962013e+10</td>\n",
       "    </tr>\n",
       "    <tr>\n",
       "      <th>BTC</th>\n",
       "      <td>7.137721e+10</td>\n",
       "    </tr>\n",
       "    <tr>\n",
       "      <th>BTC</th>\n",
       "      <td>7.044795e+10</td>\n",
       "    </tr>\n",
       "    <tr>\n",
       "      <th>BTC</th>\n",
       "      <td>6.945290e+10</td>\n",
       "    </tr>\n",
       "  </tbody>\n",
       "</table>\n",
       "<p>9431 rows × 1 columns</p>\n",
       "</div>"
      ],
      "text/plain": [
       "          market cap\n",
       "symbol              \n",
       "BTC              NaN\n",
       "BTC              NaN\n",
       "BTC     7.299104e+10\n",
       "BTC     7.176193e+10\n",
       "BTC     6.860474e+10\n",
       "...              ...\n",
       "BTC     7.052990e+10\n",
       "BTC     6.962013e+10\n",
       "BTC     7.137721e+10\n",
       "BTC     7.044795e+10\n",
       "BTC     6.945290e+10\n",
       "\n",
       "[9431 rows x 1 columns]"
      ]
     },
     "execution_count": 30,
     "metadata": {},
     "output_type": "execute_result"
    }
   ],
   "source": [
    "market_cap.rolling(window=3).mean()"
   ]
  },
  {
   "cell_type": "code",
   "execution_count": 31,
   "metadata": {
    "collapsed": false,
    "jupyter": {
     "outputs_hidden": false
    },
    "pycharm": {
     "is_executing": true,
     "name": "#%%\n"
    }
   },
   "outputs": [
    {
     "name": "stderr",
     "output_type": "stream",
     "text": [
      "/home/paul/anaconda3/lib/python3.7/site-packages/ipykernel_launcher.py:1: SettingWithCopyWarning: \n",
      "A value is trying to be set on a copy of a slice from a DataFrame.\n",
      "Try using .loc[row_indexer,col_indexer] = value instead\n",
      "\n",
      "See the caveats in the documentation: https://pandas.pydata.org/pandas-docs/stable/user_guide/indexing.html#returning-a-view-versus-a-copy\n",
      "  \"\"\"Entry point for launching an IPython kernel.\n"
     ]
    },
    {
     "data": {
      "text/html": [
       "<div>\n",
       "<style scoped>\n",
       "    .dataframe tbody tr th:only-of-type {\n",
       "        vertical-align: middle;\n",
       "    }\n",
       "\n",
       "    .dataframe tbody tr th {\n",
       "        vertical-align: top;\n",
       "    }\n",
       "\n",
       "    .dataframe thead th {\n",
       "        text-align: right;\n",
       "    }\n",
       "</style>\n",
       "<table border=\"1\" class=\"dataframe\">\n",
       "  <thead>\n",
       "    <tr style=\"text-align: right;\">\n",
       "      <th></th>\n",
       "      <th>market cap</th>\n",
       "      <th>ma_rolling_3</th>\n",
       "    </tr>\n",
       "    <tr>\n",
       "      <th>symbol</th>\n",
       "      <th></th>\n",
       "      <th></th>\n",
       "    </tr>\n",
       "  </thead>\n",
       "  <tbody>\n",
       "    <tr>\n",
       "      <th>BTC</th>\n",
       "      <td>70846063125</td>\n",
       "      <td>NaN</td>\n",
       "    </tr>\n",
       "    <tr>\n",
       "      <th>BTC</th>\n",
       "      <td>76715293809</td>\n",
       "      <td>NaN</td>\n",
       "    </tr>\n",
       "    <tr>\n",
       "      <th>BTC</th>\n",
       "      <td>71411773702</td>\n",
       "      <td>NaN</td>\n",
       "    </tr>\n",
       "    <tr>\n",
       "      <th>BTC</th>\n",
       "      <td>67158717638</td>\n",
       "      <td>7.299104e+10</td>\n",
       "    </tr>\n",
       "    <tr>\n",
       "      <th>BTC</th>\n",
       "      <td>67243714005</td>\n",
       "      <td>7.176193e+10</td>\n",
       "    </tr>\n",
       "    <tr>\n",
       "      <th>...</th>\n",
       "      <td>...</td>\n",
       "      <td>...</td>\n",
       "    </tr>\n",
       "    <tr>\n",
       "      <th>BTC</th>\n",
       "      <td>71308175058</td>\n",
       "      <td>6.985996e+10</td>\n",
       "    </tr>\n",
       "    <tr>\n",
       "      <th>BTC</th>\n",
       "      <td>70475225454</td>\n",
       "      <td>7.052990e+10</td>\n",
       "    </tr>\n",
       "    <tr>\n",
       "      <th>BTC</th>\n",
       "      <td>72348215185</td>\n",
       "      <td>6.962013e+10</td>\n",
       "    </tr>\n",
       "    <tr>\n",
       "      <th>BTC</th>\n",
       "      <td>68520412389</td>\n",
       "      <td>7.137721e+10</td>\n",
       "    </tr>\n",
       "    <tr>\n",
       "      <th>BTC</th>\n",
       "      <td>67490059171</td>\n",
       "      <td>7.044795e+10</td>\n",
       "    </tr>\n",
       "  </tbody>\n",
       "</table>\n",
       "<p>9431 rows × 2 columns</p>\n",
       "</div>"
      ],
      "text/plain": [
       "          market cap  ma_rolling_3\n",
       "symbol                            \n",
       "BTC     70846063125            NaN\n",
       "BTC     76715293809            NaN\n",
       "BTC     71411773702            NaN\n",
       "BTC     67158717638   7.299104e+10\n",
       "BTC     67243714005   7.176193e+10\n",
       "...              ...           ...\n",
       "BTC     71308175058   6.985996e+10\n",
       "BTC     70475225454   7.052990e+10\n",
       "BTC     72348215185   6.962013e+10\n",
       "BTC     68520412389   7.137721e+10\n",
       "BTC     67490059171   7.044795e+10\n",
       "\n",
       "[9431 rows x 2 columns]"
      ]
     },
     "execution_count": 31,
     "metadata": {},
     "output_type": "execute_result"
    }
   ],
   "source": [
    "market_cap['ma_rolling_3'] = market_cap['market cap'].rolling(window=3).mean().shift(1)\n",
    "market_cap"
   ]
  },
  {
   "cell_type": "code",
   "execution_count": 32,
   "metadata": {
    "collapsed": false,
    "jupyter": {
     "outputs_hidden": false
    },
    "pycharm": {
     "is_executing": true,
     "name": "#%%\n"
    }
   },
   "outputs": [
    {
     "data": {
      "text/plain": [
       "<matplotlib.axes._subplots.AxesSubplot at 0x7f97a7d1c2d0>"
      ]
     },
     "execution_count": 32,
     "metadata": {},
     "output_type": "execute_result"
    },
    {
     "data": {
      "image/png": "[encoded data removed]",
      "text/plain": [
       "<Figure size 432x288 with 1 Axes>"
      ]
     },
     "metadata": {
      "needs_background": "light"
     },
     "output_type": "display_data"
    }
   ],
   "source": [
    "market_cap.plot()\n",
    "\n"
   ]
  }
 ],
 "metadata": {
  "kernelspec": {
   "display_name": "Python 3",
   "language": "python",
   "name": "python3"
  },
  "language_info": {
   "codemirror_mode": {
    "name": "ipython",
    "version": 3
   },
   "file_extension": ".py",
   "mimetype": "text/x-python",
   "name": "python",
   "nbconvert_exporter": "python",
   "pygments_lexer": "ipython3",
   "version": "3.7.6"
  }
 },
 "nbformat": 4,
 "nbformat_minor": 4
}