{
 "cells": [
  {
   "cell_type": "markdown",
   "metadata": {},
   "source": [
    "## Starter Notebook\n",
    "EDA Notebook on Crypto-currency Data\n",
    "Within the zipped file - there are 26000+ csv files in the current version of the dataset:"
   ]
  },
  {
   "cell_type": "code",
   "execution_count": 136,
   "metadata": {
    "_kg_hide-input": false,
    "collapsed": false,
    "jupyter": {
     "outputs_hidden": false
    }
   },
   "outputs": [],
   "source": [
    "from mpl_toolkits.mplot3d import Axes3D\n",
    "from sklearn.preprocessing import StandardScaler\n",
    "import matplotlib.pyplot as plt # plotting\n",
    "import numpy as np\n",
    "import os # for accessing directory structure\n",
    "import pandas as pd\n",
    "import glob"
   ]
  },
  {
   "cell_type": "code",
   "execution_count": 137,
   "metadata": {
    "_kg_hide-input": false,
    "collapsed": false,
    "jupyter": {
     "outputs_hidden": false
    }
   },
   "outputs": [],
   "source": [
    "#for dirname, _, filenames in os.walk('/kaggle/input'):\n",
    "#    for filename in filenames:\n",
    "#         print(os.path.join(dirname, filename))\n",
    "\n",
    "\n",
    "# Above code will print it all like below, this was just for the initial checking\n",
    "# I am commenting out as this folder has 26000+ file names to pring\n",
    "\n",
    "# /kaggle/input/crypto-data/train_BTC_combined.csv\n",
    "# /kaggle/input/crypto-data/Crypto-Coinmarketcap/cr_20170822-152505.csv\n",
    "# /kaggle/input/crypto-data/Crypto-Coinmarketcap/cr_20170812-020505.csv\n",
    "# /kaggle/input/crypto-data/Crypto-Coinmarketcap/cr_20170813-065506.csv\n",
    "# .....\n",
    "\n",
    "# Defining this input variable as I will be using this in few places\n",
    "file_dir = './kaggle/input/crypto-data/'\n",
    "\n",
    "# In Kaggle this file will be as below per Kaggle's file-structure\n",
    "# file_dir = '/kaggle/input/crypto-data/Crypto-Coinmarketcap/'"
   ]
  },
  {
   "cell_type": "code",
   "execution_count": 138,
   "metadata": {
    "_kg_hide-input": true
   },
   "outputs": [],
   "source": [
    "# Distribution graphs (histogram/bar graph) of column data\n",
    "def plot_per_column_distribution(df, nGraphShown, nGraphPerRow):\n",
    "    nunique = df.nunique()\n",
    "    df = df[[col for col in df if nunique[col] > 1 and nunique[col] < 50]] # For displaying purposes, pick columns that have between 1 and 50 unique values\n",
    "    nRow, nCol = df.shape\n",
    "    columnNames = list(df)\n",
    "    nGraphRow = (nCol + nGraphPerRow - 1) / nGraphPerRow\n",
    "    plt.figure(num = None, figsize = (6 * nGraphPerRow, 8 * nGraphRow), dpi = 80, facecolor = 'w', edgecolor = 'k')\n",
    "    for i in range(min(nCol, nGraphShown)):\n",
    "        plt.subplot(nGraphRow, nGraphPerRow, i + 1)\n",
    "        columnDf = df.iloc[:, i]\n",
    "        if (not np.issubdtype(type(columnDf.iloc[0]), np.number)):\n",
    "            valueCounts = columnDf.value_counts()\n",
    "            valueCounts.plot.bar()\n",
    "        else:\n",
    "            columnDf.hist()\n",
    "        plt.ylabel('counts')\n",
    "        plt.xticks(rotation = 90)\n",
    "        plt.title(f'{columnNames[i]} (column {i})')\n",
    "    plt.tight_layout(pad = 1.0, w_pad = 1.0, h_pad = 1.0)\n",
    "    plt.show()\n"
   ]
  },
  {
   "cell_type": "code",
   "execution_count": 139,
   "metadata": {
    "_kg_hide-input": true
   },
   "outputs": [],
   "source": [
    "# Correlation matrix\n",
    "def plot_correlation_matrix(df, graphWidth):\n",
    "    filename = df.dataframeName\n",
    "    df = df.dropna('columns') # drop columns with NaN\n",
    "    df = df[[col for col in df if df[col].nunique() > 1]] # keep columns where there are more than 1 unique values\n",
    "    if df.shape[1] < 2:\n",
    "        print(f'No correlation plots shown: The number of non-NaN or constant columns ({df.shape[1]}) is less than 2')\n",
    "        return\n",
    "    corr = df.corr()\n",
    "    plt.figure(num=None, figsize=(graphWidth, graphWidth), dpi=80, facecolor='w', edgecolor='k')\n",
    "    corrMat = plt.matshow(corr, fignum = 1)\n",
    "    plt.xticks(range(len(corr.columns)), corr.columns, rotation=90)\n",
    "    plt.yticks(range(len(corr.columns)), corr.columns)\n",
    "    plt.gca().xaxis.tick_bottom()\n",
    "    plt.colorbar(corrMat)\n",
    "    plt.title(f'Correlation Matrix for {filename}', fontsize=15)\n",
    "    plt.show()\n"
   ]
  },
  {
   "cell_type": "code",
   "execution_count": 140,
   "metadata": {
    "_kg_hide-input": true
   },
   "outputs": [],
   "source": [
    "# Scatter and density plots\n",
    "def plot_scatter_matrix(df, plotSize, textSize):\n",
    "    df = df.select_dtypes(include =[np.number]) # keep only numerical columns\n",
    "    # Remove rows and columns that would lead to df being singular\n",
    "    df = df.dropna('columns')\n",
    "    df = df[[col for col in df if df[col].nunique() > 1]] # keep columns where there are more than 1 unique values\n",
    "    columnNames = list(df)\n",
    "    if len(columnNames) > 10: # reduce the number of columns for matrix inversion of kernel density plots\n",
    "        columnNames = columnNames[:10]\n",
    "    df = df[columnNames]\n",
    "    ax = pd.plotting.scatter_matrix(df, alpha=0.75, figsize=[plotSize, plotSize], diagonal='kde')\n",
    "    corrs = df.corr().values\n",
    "    for i, j in zip(*plt.np.triu_indices_from(ax, k = 1)):\n",
    "        ax[i, j].annotate('Corr. coef = %.3f' % corrs[i, j], (0.8, 0.2), xycoords='axes fraction', ha='center', va='center', size=textSize)\n",
    "    plt.suptitle('Scatter and Density Plot')\n",
    "    plt.show()"
   ]
  },
  {
   "cell_type": "code",
   "execution_count": 141,
   "metadata": {
    "collapsed": false,
    "jupyter": {
     "outputs_hidden": false
    },
    "pycharm": {
     "name": "#%%\n"
    }
   },
   "outputs": [],
   "source": [
    "# First defining variables for the first 2 files to see their structure\n",
    "\n",
    "nRowsRead = 1000 # specify 'None' if want to read whole file\n",
    "# These .csv may have more rows in reality, but we are only loading/previewing the first 1000 rows\n",
    "df1 = pd.read_csv(file_dir+'cr_20170804-034052.csv', delimiter=',', nrows = nRowsRead)\n",
    "df2 = pd.read_csv(file_dir+'cr_20170804-035004.csv', delimiter=',', nrows = nRowsRead)\n"
   ]
  },
  {
   "cell_type": "code",
   "execution_count": 142,
   "metadata": {
    "_kg_hide-input": false,
    "collapsed": false,
    "jupyter": {
     "outputs_hidden": false
    }
   },
   "outputs": [
    {
     "name": "stdout",
     "output_type": "stream",
     "text": [
      "There are 1000 rows and 18 columns\n"
     ]
    }
   ],
   "source": [
    "# Let's check 1st file: /kaggle/input/crypto-data/cr_20170804-034052.csv\n",
    "nRowsRead = 1000 # specify 'None' if want to read whole file\n",
    "# cr_20170804-034052.csv may have more rows in reality, but we are only loading/previewing the first 1000 rows\n",
    "# df1.dataframeName = 'cr_20170804-034052.csv'\n",
    "nRow, nCol = df1.shape\n",
    "print(f'There are {nRow} rows and {nCol} columns')"
   ]
  },
  {
   "cell_type": "code",
   "execution_count": 143,
   "metadata": {
    "_kg_hide-input": false,
    "collapsed": false,
    "jupyter": {
     "outputs_hidden": false
    }
   },
   "outputs": [
    {
     "data": {
      "text/html": [
       "<div>\n",
       "<style scoped>\n",
       "    .dataframe tbody tr th:only-of-type {\n",
       "        vertical-align: middle;\n",
       "    }\n",
       "\n",
       "    .dataframe tbody tr th {\n",
       "        vertical-align: top;\n",
       "    }\n",
       "\n",
       "    .dataframe thead th {\n",
       "        text-align: right;\n",
       "    }\n",
       "</style>\n",
       "<table border=\"1\" class=\"dataframe\">\n",
       "  <thead>\n",
       "    <tr style=\"text-align: right;\">\n",
       "      <th></th>\n",
       "      <th>symbol</th>\n",
       "      <th>ranking</th>\n",
       "      <th>by</th>\n",
       "      <th>market</th>\n",
       "      <th>cap</th>\n",
       "      <th>name</th>\n",
       "      <th>market.1</th>\n",
       "      <th>cap.1</th>\n",
       "      <th>price</th>\n",
       "      <th>circulating</th>\n",
       "      <th>supply</th>\n",
       "      <th>volume</th>\n",
       "      <th>%</th>\n",
       "      <th>1h</th>\n",
       "      <th>%.1</th>\n",
       "      <th>24h</th>\n",
       "      <th>%.2</th>\n",
       "      <th>1wk</th>\n",
       "    </tr>\n",
       "  </thead>\n",
       "  <tbody>\n",
       "    <tr>\n",
       "      <th>0</th>\n",
       "      <td>GMB</td>\n",
       "      <td>1011</td>\n",
       "      <td>Gambleo</td>\n",
       "      <td>?</td>\n",
       "      <td>NaN</td>\n",
       "      <td>$0.000895</td>\n",
       "      <td>?</td>\n",
       "      <td>*</td>\n",
       "      <td>Low</td>\n",
       "      <td>Vol</td>\n",
       "      <td>?</td>\n",
       "      <td>?</td>\n",
       "      <td>NaN</td>\n",
       "      <td>NaN</td>\n",
       "      <td>NaN</td>\n",
       "      <td>NaN</td>\n",
       "      <td>NaN</td>\n",
       "      <td>NaN</td>\n",
       "    </tr>\n",
       "    <tr>\n",
       "      <th>1</th>\n",
       "      <td>FTC</td>\n",
       "      <td>164</td>\n",
       "      <td>Feathercoin</td>\n",
       "      <td>$9,481,236</td>\n",
       "      <td>$0.055794</td>\n",
       "      <td>169932600</td>\n",
       "      <td>$1,267,140</td>\n",
       "      <td>-0.05%</td>\n",
       "      <td>10.49%</td>\n",
       "      <td>4.99%</td>\n",
       "      <td>NaN</td>\n",
       "      <td>NaN</td>\n",
       "      <td>NaN</td>\n",
       "      <td>NaN</td>\n",
       "      <td>NaN</td>\n",
       "      <td>NaN</td>\n",
       "      <td>NaN</td>\n",
       "      <td>NaN</td>\n",
       "    </tr>\n",
       "    <tr>\n",
       "      <th>2</th>\n",
       "      <td>HCC</td>\n",
       "      <td>953</td>\n",
       "      <td>Happy</td>\n",
       "      <td>Creator...</td>\n",
       "      <td>?</td>\n",
       "      <td>NaN</td>\n",
       "      <td>$0.000108</td>\n",
       "      <td>?</td>\n",
       "      <td>*</td>\n",
       "      <td>Low</td>\n",
       "      <td>Vol</td>\n",
       "      <td>-0.02%</td>\n",
       "      <td>8.39%</td>\n",
       "      <td>NaN</td>\n",
       "      <td>NaN</td>\n",
       "      <td>NaN</td>\n",
       "      <td>NaN</td>\n",
       "      <td>NaN</td>\n",
       "    </tr>\n",
       "    <tr>\n",
       "      <th>3</th>\n",
       "      <td>BRX</td>\n",
       "      <td>288</td>\n",
       "      <td>Breakout</td>\n",
       "      <td>Stake</td>\n",
       "      <td>$1,793,819</td>\n",
       "      <td>$0.286183</td>\n",
       "      <td>6268082</td>\n",
       "      <td>*</td>\n",
       "      <td>$4,778</td>\n",
       "      <td>-4.53%</td>\n",
       "      <td>3.35%</td>\n",
       "      <td>NaN</td>\n",
       "      <td>NaN</td>\n",
       "      <td>NaN</td>\n",
       "      <td>NaN</td>\n",
       "      <td>NaN</td>\n",
       "      <td>NaN</td>\n",
       "      <td>NaN</td>\n",
       "    </tr>\n",
       "    <tr>\n",
       "      <th>4</th>\n",
       "      <td>UNRC</td>\n",
       "      <td>872</td>\n",
       "      <td>UniversalRoya...</td>\n",
       "      <td>?</td>\n",
       "      <td>NaN</td>\n",
       "      <td>$0.005857</td>\n",
       "      <td>?</td>\n",
       "      <td>*</td>\n",
       "      <td>$664</td>\n",
       "      <td>3.98%</td>\n",
       "      <td>-7.83%</td>\n",
       "      <td>NaN</td>\n",
       "      <td>NaN</td>\n",
       "      <td>NaN</td>\n",
       "      <td>NaN</td>\n",
       "      <td>NaN</td>\n",
       "      <td>NaN</td>\n",
       "      <td>NaN</td>\n",
       "    </tr>\n",
       "  </tbody>\n",
       "</table>\n",
       "</div>"
      ],
      "text/plain": [
       "  symbol  ranking                by       market          cap       name  \\\n",
       "0    GMB     1011           Gambleo            ?          NaN  $0.000895   \n",
       "1    FTC      164       Feathercoin  $9,481,236     $0.055794  169932600   \n",
       "2    HCC      953             Happy   Creator...            ?        NaN   \n",
       "3    BRX      288          Breakout        Stake  $1,793,819   $0.286183   \n",
       "4   UNRC      872  UniversalRoya...            ?          NaN  $0.005857   \n",
       "\n",
       "     market.1   cap.1   price circulating  supply  volume      %   1h  %.1  \\\n",
       "0           ?       *     Low         Vol       ?       ?    NaN  NaN  NaN   \n",
       "1  $1,267,140  -0.05%  10.49%       4.99%     NaN     NaN    NaN  NaN  NaN   \n",
       "2   $0.000108       ?       *         Low     Vol  -0.02%  8.39%  NaN  NaN   \n",
       "3     6268082       *  $4,778      -4.53%   3.35%     NaN    NaN  NaN  NaN   \n",
       "4           ?       *    $664       3.98%  -7.83%     NaN    NaN  NaN  NaN   \n",
       "\n",
       "   24h  %.2  1wk  \n",
       "0  NaN  NaN  NaN  \n",
       "1  NaN  NaN  NaN  \n",
       "2  NaN  NaN  NaN  \n",
       "3  NaN  NaN  NaN  \n",
       "4  NaN  NaN  NaN  "
      ]
     },
     "execution_count": 143,
     "metadata": {},
     "output_type": "execute_result"
    }
   ],
   "source": [
    "# Let's take a quick look at what the data looks like:\n",
    "df1.head(5)"
   ]
  },
  {
   "cell_type": "markdown",
   "metadata": {},
   "source": [
    "Distribution graphs (histogram/bar graph) of sampled columns:"
   ]
  },
  {
   "cell_type": "code",
   "execution_count": 144,
   "metadata": {
    "_kg_hide-input": false,
    "collapsed": false,
    "jupyter": {
     "outputs_hidden": false
    }
   },
   "outputs": [
    {
     "data": {
      "image/png": "[encoded data removed]",
      "text/plain": [
       "<Figure size 2400x768 with 2 Axes>"
      ]
     },
     "metadata": {},
     "output_type": "display_data"
    }
   ],
   "source": [
    "# plot_per_column_distribution(df1, 10, 5)"
   ]
  },
  {
   "cell_type": "code",
   "execution_count": 145,
   "metadata": {
    "_kg_hide-input": false,
    "collapsed": false,
    "jupyter": {
     "outputs_hidden": false
    }
   },
   "outputs": [
    {
     "name": "stdout",
     "output_type": "stream",
     "text": [
      "There are 1000 rows and 10 columns\n"
     ]
    }
   ],
   "source": [
    "# Let's check 2nd file: /kaggle/input/crypto-data/cr_20170804-035004.csv\n",
    "df2.dataframeName = 'cr_20170804-035004.csv'\n",
    "nRow, nCol = df2.shape\n",
    "print(f'There are {nRow} rows and {nCol} columns')"
   ]
  },
  {
   "cell_type": "code",
   "execution_count": 146,
   "metadata": {
    "_kg_hide-input": false,
    "collapsed": false,
    "jupyter": {
     "outputs_hidden": false
    }
   },
   "outputs": [
    {
     "data": {
      "text/html": [
       "<div>\n",
       "<style scoped>\n",
       "    .dataframe tbody tr th:only-of-type {\n",
       "        vertical-align: middle;\n",
       "    }\n",
       "\n",
       "    .dataframe tbody tr th {\n",
       "        vertical-align: top;\n",
       "    }\n",
       "\n",
       "    .dataframe thead th {\n",
       "        text-align: right;\n",
       "    }\n",
       "</style>\n",
       "<table border=\"1\" class=\"dataframe\">\n",
       "  <thead>\n",
       "    <tr style=\"text-align: right;\">\n",
       "      <th></th>\n",
       "      <th>symbol</th>\n",
       "      <th>ranking by market cap</th>\n",
       "      <th>name</th>\n",
       "      <th>market cap</th>\n",
       "      <th>price</th>\n",
       "      <th>circulating supply</th>\n",
       "      <th>volume</th>\n",
       "      <th>% 1h</th>\n",
       "      <th>% 24h</th>\n",
       "      <th>% 1wk</th>\n",
       "    </tr>\n",
       "  </thead>\n",
       "  <tbody>\n",
       "    <tr>\n",
       "      <th>0</th>\n",
       "      <td>XBY</td>\n",
       "      <td>190</td>\n",
       "      <td>XtraBYtes</td>\n",
       "      <td>$7,422,935</td>\n",
       "      <td>$0.011420</td>\n",
       "      <td>650,000,000</td>\n",
       "      <td>*</td>\n",
       "      <td>$16,273</td>\n",
       "      <td>-1.36%</td>\n",
       "      <td>-0.03%</td>\n",
       "    </tr>\n",
       "    <tr>\n",
       "      <th>1</th>\n",
       "      <td>CPN</td>\n",
       "      <td>637</td>\n",
       "      <td>CompuCoin</td>\n",
       "      <td>$57,962</td>\n",
       "      <td>$0.002955</td>\n",
       "      <td>19,615,019</td>\n",
       "      <td>Low Vol</td>\n",
       "      <td>0.34%</td>\n",
       "      <td>-4.69%</td>\n",
       "      <td>-31.49%</td>\n",
       "    </tr>\n",
       "    <tr>\n",
       "      <th>2</th>\n",
       "      <td>CHEAP</td>\n",
       "      <td>976</td>\n",
       "      <td>Cheapcoin</td>\n",
       "      <td>?</td>\n",
       "      <td>$0.000112</td>\n",
       "      <td>?</td>\n",
       "      <td>*</td>\n",
       "      <td>Low Vol</td>\n",
       "      <td>0.02%</td>\n",
       "      <td>105.40%</td>\n",
       "    </tr>\n",
       "    <tr>\n",
       "      <th>3</th>\n",
       "      <td>BLAS</td>\n",
       "      <td>700</td>\n",
       "      <td>BlakeStar</td>\n",
       "      <td>$27,044</td>\n",
       "      <td>$0.000112</td>\n",
       "      <td>242,418,240</td>\n",
       "      <td>Low Vol</td>\n",
       "      <td>0.02%</td>\n",
       "      <td>-5.80%</td>\n",
       "      <td>?</td>\n",
       "    </tr>\n",
       "    <tr>\n",
       "      <th>4</th>\n",
       "      <td>CPC</td>\n",
       "      <td>341</td>\n",
       "      <td>Capricoin</td>\n",
       "      <td>$848,890</td>\n",
       "      <td>$0.426568</td>\n",
       "      <td>1,990,045</td>\n",
       "      <td>*</td>\n",
       "      <td>$18,457</td>\n",
       "      <td>-0.49%</td>\n",
       "      <td>3.66%</td>\n",
       "    </tr>\n",
       "  </tbody>\n",
       "</table>\n",
       "</div>"
      ],
      "text/plain": [
       "  symbol  ranking by market cap       name   market cap      price  \\\n",
       "0    XBY                    190  XtraBYtes  $7,422,935   $0.011420   \n",
       "1    CPN                    637  CompuCoin     $57,962   $0.002955   \n",
       "2  CHEAP                    976  Cheapcoin           ?   $0.000112   \n",
       "3   BLAS                    700  BlakeStar     $27,044   $0.000112   \n",
       "4    CPC                    341  Capricoin    $848,890   $0.426568   \n",
       "\n",
       "  circulating supply   volume     % 1h   % 24h    % 1wk  \n",
       "0        650,000,000        *  $16,273  -1.36%   -0.03%  \n",
       "1         19,615,019  Low Vol    0.34%  -4.69%  -31.49%  \n",
       "2                  ?        *  Low Vol   0.02%  105.40%  \n",
       "3        242,418,240  Low Vol    0.02%  -5.80%        ?  \n",
       "4          1,990,045        *  $18,457  -0.49%    3.66%  "
      ]
     },
     "execution_count": 146,
     "metadata": {},
     "output_type": "execute_result"
    }
   ],
   "source": [
    "# Let's take a quick look at what the data looks like:\n",
    "df2.head(5)"
   ]
  },
  {
   "cell_type": "markdown",
   "metadata": {},
   "source": [
    "Distribution graphs (histogram/bar graph) of sampled columns:"
   ]
  },
  {
   "cell_type": "code",
   "execution_count": 147,
   "metadata": {
    "_kg_hide-input": false,
    "collapsed": false,
    "jupyter": {
     "outputs_hidden": false
    }
   },
   "outputs": [
    {
     "data": {
      "text/plain": [
       "<Figure size 2400x512 with 0 Axes>"
      ]
     },
     "metadata": {},
     "output_type": "display_data"
    }
   ],
   "source": [
    "# plot_per_column_distribution(df2, 10, 5)"
   ]
  },
  {
   "cell_type": "code",
   "execution_count": 148,
   "metadata": {
    "collapsed": false,
    "jupyter": {
     "outputs_hidden": false
    },
    "pycharm": {
     "name": "#%%\n"
    }
   },
   "outputs": [
    {
     "name": "stdout",
     "output_type": "stream",
     "text": [
      "(1000, 18)\n",
      "symbol          object\n",
      "ranking          int64\n",
      "by              object\n",
      "market          object\n",
      "cap             object\n",
      "name            object\n",
      "market.1        object\n",
      "cap.1           object\n",
      "price           object\n",
      "circulating     object\n",
      "supply          object\n",
      "volume          object\n",
      "%               object\n",
      "1h              object\n",
      "%.1            float64\n",
      "24h            float64\n",
      "%.2            float64\n",
      "1wk            float64\n",
      "dtype: object\n"
     ]
    }
   ],
   "source": [
    "print(df1.shape)\n",
    "print(df1.dtypes)"
   ]
  },
  {
   "cell_type": "code",
   "execution_count": 149,
   "metadata": {
    "collapsed": false,
    "jupyter": {
     "outputs_hidden": false
    },
    "pycharm": {
     "name": "#%%\n"
    }
   },
   "outputs": [
    {
     "name": "stdout",
     "output_type": "stream",
     "text": [
      "9432\n"
     ]
    }
   ],
   "source": [
    "# Given I have 26,000+ .csv files, I will take 9432 of them and then\n",
    "# There's no precise reason behind the number 9432 - I just could copy that many files at a time in my machine\n",
    "# combine those 9432 file's contents to a single pandas data-frame\n",
    "# So let's print all the files in the directory.\n",
    "\n",
    "!ls $file_dir | wc -l  # 9432\n"
   ]
  },
  {
   "cell_type": "code",
   "execution_count": 150,
   "metadata": {
    "collapsed": false,
    "jupyter": {
     "outputs_hidden": false
    },
    "pycharm": {
     "name": "#%%\n"
    }
   },
   "outputs": [
    {
     "data": {
      "text/html": [
       "<div>\n",
       "<style scoped>\n",
       "    .dataframe tbody tr th:only-of-type {\n",
       "        vertical-align: middle;\n",
       "    }\n",
       "\n",
       "    .dataframe tbody tr th {\n",
       "        vertical-align: top;\n",
       "    }\n",
       "\n",
       "    .dataframe thead th {\n",
       "        text-align: right;\n",
       "    }\n",
       "</style>\n",
       "<table border=\"1\" class=\"dataframe\">\n",
       "  <thead>\n",
       "    <tr style=\"text-align: right;\">\n",
       "      <th></th>\n",
       "      <th>symbol</th>\n",
       "      <th>ranking by market cap</th>\n",
       "      <th>name</th>\n",
       "      <th>market cap</th>\n",
       "      <th>price</th>\n",
       "      <th>circulating supply</th>\n",
       "      <th>volume</th>\n",
       "      <th>% 1h</th>\n",
       "      <th>% 24h</th>\n",
       "      <th>% 1wk</th>\n",
       "    </tr>\n",
       "  </thead>\n",
       "  <tbody>\n",
       "    <tr>\n",
       "      <th>0</th>\n",
       "      <td>XBY</td>\n",
       "      <td>224</td>\n",
       "      <td>XtraBYtes</td>\n",
       "      <td>$5,760,242</td>\n",
       "      <td>$0.008862</td>\n",
       "      <td>650,000,000</td>\n",
       "      <td>*</td>\n",
       "      <td>$10,278</td>\n",
       "      <td>-5.60%</td>\n",
       "      <td>-0.55%</td>\n",
       "    </tr>\n",
       "    <tr>\n",
       "      <th>1</th>\n",
       "      <td>CPN</td>\n",
       "      <td>698</td>\n",
       "      <td>CompuCoin</td>\n",
       "      <td>$59,253</td>\n",
       "      <td>$0.003021</td>\n",
       "      <td>19,615,019</td>\n",
       "      <td>Low Vol</td>\n",
       "      <td>-1.19%</td>\n",
       "      <td>-17.47%</td>\n",
       "      <td>14.35%</td>\n",
       "    </tr>\n",
       "    <tr>\n",
       "      <th>2</th>\n",
       "      <td>CHEAP</td>\n",
       "      <td>941</td>\n",
       "      <td>Cheapcoin</td>\n",
       "      <td>?</td>\n",
       "      <td>$0.000085</td>\n",
       "      <td>?</td>\n",
       "      <td>*</td>\n",
       "      <td>Low Vol</td>\n",
       "      <td>-2.59%</td>\n",
       "      <td>4.71%</td>\n",
       "    </tr>\n",
       "    <tr>\n",
       "      <th>3</th>\n",
       "      <td>BLAS</td>\n",
       "      <td>381</td>\n",
       "      <td>BlakeStar</td>\n",
       "      <td>$811,319</td>\n",
       "      <td>$0.003321</td>\n",
       "      <td>244,268,640</td>\n",
       "      <td>$81,686</td>\n",
       "      <td>-2.83%</td>\n",
       "      <td>15.00%</td>\n",
       "      <td>526.99%</td>\n",
       "    </tr>\n",
       "    <tr>\n",
       "      <th>4</th>\n",
       "      <td>CPC</td>\n",
       "      <td>386</td>\n",
       "      <td>Capricoin</td>\n",
       "      <td>$774,826</td>\n",
       "      <td>$0.389351</td>\n",
       "      <td>1,990,045</td>\n",
       "      <td>*</td>\n",
       "      <td>$24,731</td>\n",
       "      <td>-4.53%</td>\n",
       "      <td>-8.95%</td>\n",
       "    </tr>\n",
       "  </tbody>\n",
       "</table>\n",
       "</div>"
      ],
      "text/plain": [
       "  symbol  ranking by market cap       name   market cap      price  \\\n",
       "0    XBY                    224  XtraBYtes  $5,760,242   $0.008862   \n",
       "1    CPN                    698  CompuCoin     $59,253   $0.003021   \n",
       "2  CHEAP                    941  Cheapcoin           ?   $0.000085   \n",
       "3   BLAS                    381  BlakeStar    $811,319   $0.003321   \n",
       "4    CPC                    386  Capricoin    $774,826   $0.389351   \n",
       "\n",
       "  circulating supply   volume     % 1h    % 24h    % 1wk  \n",
       "0        650,000,000        *  $10,278   -5.60%   -0.55%  \n",
       "1         19,615,019  Low Vol   -1.19%  -17.47%   14.35%  \n",
       "2                  ?        *  Low Vol   -2.59%    4.71%  \n",
       "3        244,268,640  $81,686   -2.83%   15.00%  526.99%  \n",
       "4          1,990,045        *  $24,731   -4.53%   -8.95%  "
      ]
     },
     "execution_count": 150,
     "metadata": {},
     "output_type": "execute_result"
    }
   ],
   "source": [
    "# Defining a variable for to hold a Python-list of .csv files in that directory\n",
    "# files_list = glob.glob(os.path.join(file_dir, \"*.csv\"))\n",
    "all_files = glob.glob(os.path.join(file_dir, \"*.csv\"))\n",
    "\n",
    "# lets take the first 1400 .csv file (from which I shall create a combined-dataframe)\n",
    "# Note in the original .zipped folder (uploaded to Kaggle) there are 26,000+ files.\n",
    "# But for the sake of running this data in local file-system.\n",
    "files_list = all_files[:9432]\n",
    "\n",
    "# lets create dataframes and print them to see if it working\n",
    "\n",
    "df1 = pd.read_csv(files_list[0])\n",
    "df2 = pd.read_csv(files_list[1])\n",
    "\n",
    "df1.head()"
   ]
  },
  {
   "cell_type": "code",
   "execution_count": 151,
   "metadata": {
    "collapsed": false,
    "jupyter": {
     "outputs_hidden": false
    },
    "pycharm": {
     "name": "#%%\n"
    }
   },
   "outputs": [
    {
     "data": {
      "text/html": [
       "<div>\n",
       "<style scoped>\n",
       "    .dataframe tbody tr th:only-of-type {\n",
       "        vertical-align: middle;\n",
       "    }\n",
       "\n",
       "    .dataframe tbody tr th {\n",
       "        vertical-align: top;\n",
       "    }\n",
       "\n",
       "    .dataframe thead th {\n",
       "        text-align: right;\n",
       "    }\n",
       "</style>\n",
       "<table border=\"1\" class=\"dataframe\">\n",
       "  <thead>\n",
       "    <tr style=\"text-align: right;\">\n",
       "      <th></th>\n",
       "      <th>symbol</th>\n",
       "      <th>ranking by market cap</th>\n",
       "      <th>name</th>\n",
       "      <th>market cap</th>\n",
       "      <th>price</th>\n",
       "      <th>circulating supply</th>\n",
       "      <th>volume</th>\n",
       "      <th>% 1h</th>\n",
       "      <th>% 24h</th>\n",
       "      <th>% 1wk</th>\n",
       "    </tr>\n",
       "  </thead>\n",
       "  <tbody>\n",
       "    <tr>\n",
       "      <th>0</th>\n",
       "      <td>MIU</td>\n",
       "      <td>1043</td>\n",
       "      <td>MIYUCoin</td>\n",
       "      <td>?</td>\n",
       "      <td>$0.000047</td>\n",
       "      <td>?</td>\n",
       "      <td>Low Vol</td>\n",
       "      <td>0.53%</td>\n",
       "      <td>2.81%</td>\n",
       "      <td>11.19%</td>\n",
       "    </tr>\n",
       "    <tr>\n",
       "      <th>1</th>\n",
       "      <td>XBY</td>\n",
       "      <td>196</td>\n",
       "      <td>XTRABYTES</td>\n",
       "      <td>$11,860,841</td>\n",
       "      <td>$0.028140</td>\n",
       "      <td>421,500,000</td>\n",
       "      <td>*</td>\n",
       "      <td>$146,279</td>\n",
       "      <td>2.54%</td>\n",
       "      <td>21.30%</td>\n",
       "    </tr>\n",
       "    <tr>\n",
       "      <th>2</th>\n",
       "      <td>CPN</td>\n",
       "      <td>704</td>\n",
       "      <td>CompuCoin</td>\n",
       "      <td>$65,942</td>\n",
       "      <td>$0.003362</td>\n",
       "      <td>19,615,019</td>\n",
       "      <td>Low Vol</td>\n",
       "      <td>0.74%</td>\n",
       "      <td>7.33%</td>\n",
       "      <td>-16.30%</td>\n",
       "    </tr>\n",
       "    <tr>\n",
       "      <th>3</th>\n",
       "      <td>CHEAP</td>\n",
       "      <td>1094</td>\n",
       "      <td>Cheapcoin</td>\n",
       "      <td>?</td>\n",
       "      <td>$0.000092</td>\n",
       "      <td>?</td>\n",
       "      <td>*</td>\n",
       "      <td>Low Vol</td>\n",
       "      <td>?</td>\n",
       "      <td>1.15%</td>\n",
       "    </tr>\n",
       "    <tr>\n",
       "      <th>4</th>\n",
       "      <td>BLAS</td>\n",
       "      <td>479</td>\n",
       "      <td>BlakeStar</td>\n",
       "      <td>$155,576</td>\n",
       "      <td>$0.000630</td>\n",
       "      <td>246,894,112</td>\n",
       "      <td>$4,413</td>\n",
       "      <td>15.64%</td>\n",
       "      <td>6.42%</td>\n",
       "      <td>69.75%</td>\n",
       "    </tr>\n",
       "  </tbody>\n",
       "</table>\n",
       "</div>"
      ],
      "text/plain": [
       "  symbol  ranking by market cap       name    market cap      price  \\\n",
       "0    MIU                   1043   MIYUCoin            ?   $0.000047   \n",
       "1    XBY                    196  XTRABYTES  $11,860,841   $0.028140   \n",
       "2    CPN                    704  CompuCoin      $65,942   $0.003362   \n",
       "3  CHEAP                   1094  Cheapcoin            ?   $0.000092   \n",
       "4   BLAS                    479  BlakeStar     $155,576   $0.000630   \n",
       "\n",
       "  circulating supply   volume      % 1h  % 24h    % 1wk  \n",
       "0                  ?  Low Vol     0.53%  2.81%   11.19%  \n",
       "1        421,500,000        *  $146,279  2.54%   21.30%  \n",
       "2         19,615,019  Low Vol     0.74%  7.33%  -16.30%  \n",
       "3                  ?        *   Low Vol      ?    1.15%  \n",
       "4        246,894,112   $4,413    15.64%  6.42%   69.75%  "
      ]
     },
     "execution_count": 151,
     "metadata": {},
     "output_type": "execute_result"
    }
   ],
   "source": [
    "df2.head()"
   ]
  },
  {
   "cell_type": "markdown",
   "metadata": {
    "jupyter": {
     "outputs_hidden": false
    },
    "pycharm": {
     "name": "#%% md\n"
    }
   },
   "source": [
    "### Code to combine 9432 .csv files into a single dataframe and then\n",
    "### Filter data for 'Symbol' column == 'BTC'\n",
    "### generating a .csv file out that combined-single dataframe to work with.\n",
    "\n",
    "As we can see above, all these files have the same columns so it seems reasonable to concatenate everything into one dataframe. However, I want to keep track of the file names because that's the only reference to the date of the records.\n",
    "\n",
    "- First, creating a list of dataframes with the filenames in a \"file_name\" column\n",
    "- Then concatenate them all into one big dataframe\n",
    "\n",
    "#### The  below are the scripts for that, but I have commented-out all of these lines,\n",
    "#### as obviously I dont want to run this huge process-intensive steps every time\n",
    "#### of creating a single DataFrame out of 9432 .csv files."
   ]
  },
  {
   "cell_type": "code",
   "execution_count": null,
   "metadata": {
    "collapsed": false,
    "jupyter": {
     "outputs_hidden": false
    },
    "pycharm": {
     "name": "#%%\n"
    }
   },
   "outputs": [],
   "source": [
    "# dataframes = [pd.read_csv(file).assign(file_name=os.path.basename(file).strip(\".csv\")) for file in files_list]\n",
    "# combined_df = pd.concat(dataframes, ignore_index=True)\n",
    "# combined_df.head()"
   ]
  },
  {
   "cell_type": "code",
   "execution_count": null,
   "metadata": {
    "collapsed": false,
    "jupyter": {
     "outputs_hidden": false
    },
    "pycharm": {
     "name": "#%%\n"
    }
   },
   "outputs": [],
   "source": [
    "# combined_df.shape"
   ]
  },
  {
   "cell_type": "markdown",
   "metadata": {},
   "source": [
    "##### The above dataframe has all the SYMBOLS of all the crypto-currencies as was in the individual .csv files.\n",
    "##### But now I want to extract ONLY the symbol 'BTC' for Bitcoin for the further analysis.\n",
    "\n",
    "Below is the code for that."
   ]
  },
  {
   "cell_type": "code",
   "execution_count": null,
   "metadata": {
    "collapsed": false,
    "jupyter": {
     "outputs_hidden": false
    },
    "pycharm": {
     "name": "#%%\n"
    }
   },
   "outputs": [],
   "source": [
    "# Creating a dataframe, by filtering only the rows where the column 'Symbol' is 'BTC'\n",
    "\n",
    "# btc_df = combined_df[combined_df['symbol'] == 'BTC']\n",
    "# btc_df.shape"
   ]
  },
  {
   "cell_type": "code",
   "execution_count": null,
   "metadata": {
    "collapsed": false,
    "jupyter": {
     "outputs_hidden": false
    },
    "pycharm": {
     "name": "#%%\n"
    }
   },
   "outputs": [],
   "source": [
    "# Now generating a .csv file which will be used as a training dataset\n",
    "# out that combined-single dataframe (that I earlier created from 9432 .csv files )\n",
    "# as obviously I dont want to run this huge process-intensive step of creating a single\n",
    "# Data-Frame out of 9432 .csv files.\n",
    "# Passing index=False so as not to not write out an 'unnamed' index column to the combined dataframe\n",
    "\n",
    "# btc_df.to_csv(\"train_BTC_combined.csv\", index=False)"
   ]
  },
  {
   "cell_type": "code",
   "execution_count": null,
   "metadata": {
    "collapsed": false,
    "jupyter": {
     "outputs_hidden": false
    },
    "pycharm": {
     "name": "#%%\n"
    }
   },
   "outputs": [],
   "source": [
    "original_btc_train = pd.read_csv(\"train_BTC_combined.csv\")\n",
    "\n",
    "# The same code above will be as below in Kaggle because of the Kaggle's file-tree structure for uploaded input-data\n",
    "# original_btc_train = pd.read_csv(\"/kaggle/input/crypto-data/train_BTC_combined.csv\")\n",
    "\n",
    "original_btc_train.head()"
   ]
  },
  {
   "cell_type": "code",
   "execution_count": null,
   "metadata": {
    "collapsed": false,
    "jupyter": {
     "outputs_hidden": false
    },
    "pycharm": {
     "name": "#%%\n"
    }
   },
   "outputs": [],
   "source": [
    "original_btc_train.shape"
   ]
  },
  {
   "cell_type": "code",
   "execution_count": null,
   "metadata": {
    "collapsed": false,
    "jupyter": {
     "outputs_hidden": false
    },
    "pycharm": {
     "name": "#%%\n"
    }
   },
   "outputs": [],
   "source": [
    "# All Features List\n",
    "print(\"All Features list\", original_btc_train.columns.tolist())\n",
    "print(\"\\nMissing Values\", original_btc_train.isnull().any())\n",
    "print(\"\\nUnique Values \", original_btc_train.nunique())"
   ]
  }
 ],
 "metadata": {
  "kernelspec": {
   "display_name": "Python 3",
   "language": "python",
   "name": "python3"
  },
  "language_info": {
   "codemirror_mode": {
    "name": "ipython",
    "version": 3
   },
   "file_extension": ".py",
   "mimetype": "text/x-python",
   "name": "python",
   "nbconvert_exporter": "python",
   "pygments_lexer": "ipython3",
   "version": "3.7.6"
  }
 },
 "nbformat": 4,
 "nbformat_minor": 4
}