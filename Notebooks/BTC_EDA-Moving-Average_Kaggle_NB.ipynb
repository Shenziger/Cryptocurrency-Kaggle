{
 "cells": [
  {
   "cell_type": "markdown",
   "metadata": {},
   "source": [
    "## Exploratory Data Analysis-focusing on Moveing Averages with Crypto-currency Data\n",
    "\n",
    "Our starting point is this Kaggle Dataset which is a zipped file with 26000+ `.csv` files containing all Crypto-Symbol's data.\n",
    "\n",
    "### What is Moving Average\n",
    "\n",
    "##### Moving averages are one of the most often-cited data-parameter in the space of Stock market trading, technical analysis of market. And beyond its use in financial time series this is intensively used in signal processing to neural networks and it is being used quite extensively many other fields. Basically any data that is in a sequence.\n",
    "\n",
    "The most commonly used Moving Averages (MAs) are the simple and exponential moving average. Simple Moving Average (SMA) takes the average over some set number of time periods. So a 10 period SMA would be over 10 periods (usually meaning 10 trading days).\n",
    "\n",
    "Rolling mean/Moving Average (MA) smooths out price data by creating a constantly updated average price. This is useful to cut down “noise” in our price chart. Furthermore, this Moving Average could act as “Resistance” meaning from the downtrend and uptrend of stocks you could expect it will follow the trend and less likely to deviate outside its resistance point.\n",
    "\n",
    "#### Factors to choose the Simple Moving Average (SMA) window or period\n",
    "\n",
    "In order to find the best period of an SMA, we first need to know how long we are going to keep the stock in our portfolio. If we are swing traders, we may want to keep it for 5–10 business days. If we are position traders, maybe we must raise this threshold to 40–60 days. If we are portfolio traders and use moving averages as a technical filter in our stock screening plan, maybe we can focus on 200–300 days.\n",
    "\n",
    "---\n",
    "\n",
    "### Now some real-world Exploratory Data Analysis with real Crypto-currency data from Coinbase\n"
   ]
  },
  {
   "cell_type": "code",
   "execution_count": 214,
   "metadata": {
    "_kg_hide-input": false,
    "collapsed": false,
    "jupyter": {
     "outputs_hidden": false
    },
    "pycharm": {
     "is_executing": true
    }
   },
   "outputs": [],
   "source": [
    "from mpl_toolkits.mplot3d import Axes3D\n",
    "from sklearn.preprocessing import StandardScaler\n",
    "import matplotlib.pyplot as plt # plotting\n",
    "import numpy as np\n",
    "import os # for accessing directory structure\n",
    "import pandas as pd\n",
    "import glob"
   ]
  },
  {
   "cell_type": "code",
   "execution_count": 215,
   "metadata": {
    "_kg_hide-input": false,
    "jupyter": {
     "source_hidden": true
    },
    "pycharm": {
     "is_executing": true
    }
   },
   "outputs": [],
   "source": [
    "#for dirname, _, filenames in os.walk('/kaggle/input'):\n",
    "#    for filename in filenames:\n",
    "#         print(os.path.join(dirname, filename))\n",
    "\n",
    "\n",
    "# Above code will print it all like below, this was just for the initial checking\n",
    "# I am commenting out as this folder has 26000+ file names to pring\n",
    "\n",
    "# /kaggle/input/crypto-data/train_BTC_combined.csv\n",
    "# /kaggle/input/crypto-data/Crypto-Coinmarketcap/cr_20170822-152505.csv\n",
    "# /kaggle/input/crypto-data/Crypto-Coinmarketcap/cr_20170812-020505.csv\n",
    "# /kaggle/input/crypto-data/Crypto-Coinmarketcap/cr_20170813-065506.csv\n",
    "# .....\n",
    "\n",
    "# Defining this input variable as I will be using this in few places\n",
    "file_dir = './kaggle/input/crypto-data/'\n",
    "\n",
    "# In Kaggle this file will be as below per Kaggle's file-tree-structure\n",
    "# file_dir = '/kaggle/input/crypto-data/Crypto-Coinmarketcap/'"
   ]
  },
  {
   "cell_type": "code",
   "execution_count": 216,
   "metadata": {
    "collapsed": false,
    "jupyter": {
     "outputs_hidden": false
    },
    "pycharm": {
     "is_executing": true,
     "name": "#%%\n"
    }
   },
   "outputs": [],
   "source": [
    "# First defining variables for the first 2 files to see their structure\n",
    "\n",
    "nRowsRead = 1000 # specify 'None' if want to read whole file\n",
    "# These .csv may have more rows in reality, but we are only loading/previewing the first 1000 rows\n",
    "df1 = pd.read_csv(file_dir+'cr_20170804-034052.csv', delimiter=',', nrows = nRowsRead)\n",
    "df2 = pd.read_csv(file_dir+'cr_20170804-035004.csv', delimiter=',', nrows = nRowsRead)\n"
   ]
  },
  {
   "cell_type": "code",
   "execution_count": 217,
   "metadata": {
    "_kg_hide-input": false,
    "collapsed": false,
    "jupyter": {
     "outputs_hidden": false
    },
    "pycharm": {
     "is_executing": true
    }
   },
   "outputs": [
    {
     "name": "stdout",
     "output_type": "stream",
     "text": [
      "There are 1000 rows and 18 columns\n"
     ]
    }
   ],
   "source": [
    "# Let's check 1st file: /kaggle/input/crypto-data/cr_20170804-034052.csv\n",
    "nRowsRead = 1000 # specify 'None' if want to read whole file\n",
    "# cr_20170804-034052.csv may have more rows in reality, but we are only loading/previewing the first 1000 rows\n",
    "# df1.dataframeName = 'cr_20170804-034052.csv'\n",
    "nRow, nCol = df1.shape\n",
    "print(f'There are {nRow} rows and {nCol} columns')"
   ]
  },
  {
   "cell_type": "code",
   "execution_count": 218,
   "metadata": {
    "_kg_hide-input": false,
    "collapsed": false,
    "jupyter": {
     "outputs_hidden": false
    },
    "pycharm": {
     "is_executing": true
    }
   },
   "outputs": [
    {
     "data": {
      "text/html": [
       "<div>\n",
       "<style scoped>\n",
       "    .dataframe tbody tr th:only-of-type {\n",
       "        vertical-align: middle;\n",
       "    }\n",
       "\n",
       "    .dataframe tbody tr th {\n",
       "        vertical-align: top;\n",
       "    }\n",
       "\n",
       "    .dataframe thead th {\n",
       "        text-align: right;\n",
       "    }\n",
       "</style>\n",
       "<table border=\"1\" class=\"dataframe\">\n",
       "  <thead>\n",
       "    <tr style=\"text-align: right;\">\n",
       "      <th></th>\n",
       "      <th>symbol</th>\n",
       "      <th>ranking</th>\n",
       "      <th>by</th>\n",
       "      <th>market</th>\n",
       "      <th>cap</th>\n",
       "      <th>name</th>\n",
       "      <th>market.1</th>\n",
       "      <th>cap.1</th>\n",
       "      <th>price</th>\n",
       "      <th>circulating</th>\n",
       "      <th>supply</th>\n",
       "      <th>volume</th>\n",
       "      <th>%</th>\n",
       "      <th>1h</th>\n",
       "      <th>%.1</th>\n",
       "      <th>24h</th>\n",
       "      <th>%.2</th>\n",
       "      <th>1wk</th>\n",
       "    </tr>\n",
       "  </thead>\n",
       "  <tbody>\n",
       "    <tr>\n",
       "      <th>0</th>\n",
       "      <td>GMB</td>\n",
       "      <td>1011</td>\n",
       "      <td>Gambleo</td>\n",
       "      <td>?</td>\n",
       "      <td>NaN</td>\n",
       "      <td>$0.000895</td>\n",
       "      <td>?</td>\n",
       "      <td>*</td>\n",
       "      <td>Low</td>\n",
       "      <td>Vol</td>\n",
       "      <td>?</td>\n",
       "      <td>?</td>\n",
       "      <td>NaN</td>\n",
       "      <td>NaN</td>\n",
       "      <td>NaN</td>\n",
       "      <td>NaN</td>\n",
       "      <td>NaN</td>\n",
       "      <td>NaN</td>\n",
       "    </tr>\n",
       "    <tr>\n",
       "      <th>1</th>\n",
       "      <td>FTC</td>\n",
       "      <td>164</td>\n",
       "      <td>Feathercoin</td>\n",
       "      <td>$9,481,236</td>\n",
       "      <td>$0.055794</td>\n",
       "      <td>169932600</td>\n",
       "      <td>$1,267,140</td>\n",
       "      <td>-0.05%</td>\n",
       "      <td>10.49%</td>\n",
       "      <td>4.99%</td>\n",
       "      <td>NaN</td>\n",
       "      <td>NaN</td>\n",
       "      <td>NaN</td>\n",
       "      <td>NaN</td>\n",
       "      <td>NaN</td>\n",
       "      <td>NaN</td>\n",
       "      <td>NaN</td>\n",
       "      <td>NaN</td>\n",
       "    </tr>\n",
       "    <tr>\n",
       "      <th>2</th>\n",
       "      <td>HCC</td>\n",
       "      <td>953</td>\n",
       "      <td>Happy</td>\n",
       "      <td>Creator...</td>\n",
       "      <td>?</td>\n",
       "      <td>NaN</td>\n",
       "      <td>$0.000108</td>\n",
       "      <td>?</td>\n",
       "      <td>*</td>\n",
       "      <td>Low</td>\n",
       "      <td>Vol</td>\n",
       "      <td>-0.02%</td>\n",
       "      <td>8.39%</td>\n",
       "      <td>NaN</td>\n",
       "      <td>NaN</td>\n",
       "      <td>NaN</td>\n",
       "      <td>NaN</td>\n",
       "      <td>NaN</td>\n",
       "    </tr>\n",
       "    <tr>\n",
       "      <th>3</th>\n",
       "      <td>BRX</td>\n",
       "      <td>288</td>\n",
       "      <td>Breakout</td>\n",
       "      <td>Stake</td>\n",
       "      <td>$1,793,819</td>\n",
       "      <td>$0.286183</td>\n",
       "      <td>6268082</td>\n",
       "      <td>*</td>\n",
       "      <td>$4,778</td>\n",
       "      <td>-4.53%</td>\n",
       "      <td>3.35%</td>\n",
       "      <td>NaN</td>\n",
       "      <td>NaN</td>\n",
       "      <td>NaN</td>\n",
       "      <td>NaN</td>\n",
       "      <td>NaN</td>\n",
       "      <td>NaN</td>\n",
       "      <td>NaN</td>\n",
       "    </tr>\n",
       "    <tr>\n",
       "      <th>4</th>\n",
       "      <td>UNRC</td>\n",
       "      <td>872</td>\n",
       "      <td>UniversalRoya...</td>\n",
       "      <td>?</td>\n",
       "      <td>NaN</td>\n",
       "      <td>$0.005857</td>\n",
       "      <td>?</td>\n",
       "      <td>*</td>\n",
       "      <td>$664</td>\n",
       "      <td>3.98%</td>\n",
       "      <td>-7.83%</td>\n",
       "      <td>NaN</td>\n",
       "      <td>NaN</td>\n",
       "      <td>NaN</td>\n",
       "      <td>NaN</td>\n",
       "      <td>NaN</td>\n",
       "      <td>NaN</td>\n",
       "      <td>NaN</td>\n",
       "    </tr>\n",
       "  </tbody>\n",
       "</table>\n",
       "</div>"
      ],
      "text/plain": [
       "  symbol  ranking                by       market          cap       name  \\\n",
       "0    GMB     1011           Gambleo            ?          NaN  $0.000895   \n",
       "1    FTC      164       Feathercoin  $9,481,236     $0.055794  169932600   \n",
       "2    HCC      953             Happy   Creator...            ?        NaN   \n",
       "3    BRX      288          Breakout        Stake  $1,793,819   $0.286183   \n",
       "4   UNRC      872  UniversalRoya...            ?          NaN  $0.005857   \n",
       "\n",
       "     market.1   cap.1   price circulating  supply  volume      %   1h  %.1  \\\n",
       "0           ?       *     Low         Vol       ?       ?    NaN  NaN  NaN   \n",
       "1  $1,267,140  -0.05%  10.49%       4.99%     NaN     NaN    NaN  NaN  NaN   \n",
       "2   $0.000108       ?       *         Low     Vol  -0.02%  8.39%  NaN  NaN   \n",
       "3     6268082       *  $4,778      -4.53%   3.35%     NaN    NaN  NaN  NaN   \n",
       "4           ?       *    $664       3.98%  -7.83%     NaN    NaN  NaN  NaN   \n",
       "\n",
       "   24h  %.2  1wk  \n",
       "0  NaN  NaN  NaN  \n",
       "1  NaN  NaN  NaN  \n",
       "2  NaN  NaN  NaN  \n",
       "3  NaN  NaN  NaN  \n",
       "4  NaN  NaN  NaN  "
      ]
     },
     "execution_count": 218,
     "metadata": {},
     "output_type": "execute_result"
    }
   ],
   "source": [
    "# Let's take a quick look at what the data looks like:\n",
    "df1.head(5)"
   ]
  },
  {
   "cell_type": "markdown",
   "metadata": {},
   "source": [
    "Distribution graphs (histogram/bar graph) of sampled columns:"
   ]
  },
  {
   "cell_type": "code",
   "execution_count": 219,
   "metadata": {
    "_kg_hide-input": false,
    "collapsed": false,
    "jupyter": {
     "outputs_hidden": false
    },
    "pycharm": {
     "is_executing": true
    }
   },
   "outputs": [],
   "source": [
    "# plot_per_column_distribution(df1, 10, 5)"
   ]
  },
  {
   "cell_type": "code",
   "execution_count": 220,
   "metadata": {
    "_kg_hide-input": false,
    "collapsed": false,
    "jupyter": {
     "outputs_hidden": false
    },
    "pycharm": {
     "is_executing": true
    }
   },
   "outputs": [
    {
     "name": "stdout",
     "output_type": "stream",
     "text": [
      "There are 1000 rows and 10 columns\n"
     ]
    }
   ],
   "source": [
    "# Let's check 2nd file: /kaggle/input/crypto-data/cr_20170804-035004.csv\n",
    "df2.dataframeName = 'cr_20170804-035004.csv'\n",
    "nRow, nCol = df2.shape\n",
    "print(f'There are {nRow} rows and {nCol} columns')"
   ]
  },
  {
   "cell_type": "code",
   "execution_count": 221,
   "metadata": {
    "_kg_hide-input": false,
    "collapsed": false,
    "jupyter": {
     "outputs_hidden": false
    },
    "pycharm": {
     "is_executing": true
    }
   },
   "outputs": [
    {
     "data": {
      "text/html": [
       "<div>\n",
       "<style scoped>\n",
       "    .dataframe tbody tr th:only-of-type {\n",
       "        vertical-align: middle;\n",
       "    }\n",
       "\n",
       "    .dataframe tbody tr th {\n",
       "        vertical-align: top;\n",
       "    }\n",
       "\n",
       "    .dataframe thead th {\n",
       "        text-align: right;\n",
       "    }\n",
       "</style>\n",
       "<table border=\"1\" class=\"dataframe\">\n",
       "  <thead>\n",
       "    <tr style=\"text-align: right;\">\n",
       "      <th></th>\n",
       "      <th>symbol</th>\n",
       "      <th>ranking by market cap</th>\n",
       "      <th>name</th>\n",
       "      <th>market cap</th>\n",
       "      <th>price</th>\n",
       "      <th>circulating supply</th>\n",
       "      <th>volume</th>\n",
       "      <th>% 1h</th>\n",
       "      <th>% 24h</th>\n",
       "      <th>% 1wk</th>\n",
       "    </tr>\n",
       "  </thead>\n",
       "  <tbody>\n",
       "    <tr>\n",
       "      <th>0</th>\n",
       "      <td>XBY</td>\n",
       "      <td>190</td>\n",
       "      <td>XtraBYtes</td>\n",
       "      <td>$7,422,935</td>\n",
       "      <td>$0.011420</td>\n",
       "      <td>650,000,000</td>\n",
       "      <td>*</td>\n",
       "      <td>$16,273</td>\n",
       "      <td>-1.36%</td>\n",
       "      <td>-0.03%</td>\n",
       "    </tr>\n",
       "    <tr>\n",
       "      <th>1</th>\n",
       "      <td>CPN</td>\n",
       "      <td>637</td>\n",
       "      <td>CompuCoin</td>\n",
       "      <td>$57,962</td>\n",
       "      <td>$0.002955</td>\n",
       "      <td>19,615,019</td>\n",
       "      <td>Low Vol</td>\n",
       "      <td>0.34%</td>\n",
       "      <td>-4.69%</td>\n",
       "      <td>-31.49%</td>\n",
       "    </tr>\n",
       "    <tr>\n",
       "      <th>2</th>\n",
       "      <td>CHEAP</td>\n",
       "      <td>976</td>\n",
       "      <td>Cheapcoin</td>\n",
       "      <td>?</td>\n",
       "      <td>$0.000112</td>\n",
       "      <td>?</td>\n",
       "      <td>*</td>\n",
       "      <td>Low Vol</td>\n",
       "      <td>0.02%</td>\n",
       "      <td>105.40%</td>\n",
       "    </tr>\n",
       "    <tr>\n",
       "      <th>3</th>\n",
       "      <td>BLAS</td>\n",
       "      <td>700</td>\n",
       "      <td>BlakeStar</td>\n",
       "      <td>$27,044</td>\n",
       "      <td>$0.000112</td>\n",
       "      <td>242,418,240</td>\n",
       "      <td>Low Vol</td>\n",
       "      <td>0.02%</td>\n",
       "      <td>-5.80%</td>\n",
       "      <td>?</td>\n",
       "    </tr>\n",
       "    <tr>\n",
       "      <th>4</th>\n",
       "      <td>CPC</td>\n",
       "      <td>341</td>\n",
       "      <td>Capricoin</td>\n",
       "      <td>$848,890</td>\n",
       "      <td>$0.426568</td>\n",
       "      <td>1,990,045</td>\n",
       "      <td>*</td>\n",
       "      <td>$18,457</td>\n",
       "      <td>-0.49%</td>\n",
       "      <td>3.66%</td>\n",
       "    </tr>\n",
       "  </tbody>\n",
       "</table>\n",
       "</div>"
      ],
      "text/plain": [
       "  symbol  ranking by market cap       name   market cap      price  \\\n",
       "0    XBY                    190  XtraBYtes  $7,422,935   $0.011420   \n",
       "1    CPN                    637  CompuCoin     $57,962   $0.002955   \n",
       "2  CHEAP                    976  Cheapcoin           ?   $0.000112   \n",
       "3   BLAS                    700  BlakeStar     $27,044   $0.000112   \n",
       "4    CPC                    341  Capricoin    $848,890   $0.426568   \n",
       "\n",
       "  circulating supply   volume     % 1h   % 24h    % 1wk  \n",
       "0        650,000,000        *  $16,273  -1.36%   -0.03%  \n",
       "1         19,615,019  Low Vol    0.34%  -4.69%  -31.49%  \n",
       "2                  ?        *  Low Vol   0.02%  105.40%  \n",
       "3        242,418,240  Low Vol    0.02%  -5.80%        ?  \n",
       "4          1,990,045        *  $18,457  -0.49%    3.66%  "
      ]
     },
     "execution_count": 221,
     "metadata": {},
     "output_type": "execute_result"
    }
   ],
   "source": [
    "# Let's take a quick look at what the data looks like:\n",
    "df2.head(5)"
   ]
  },
  {
   "cell_type": "markdown",
   "metadata": {},
   "source": [
    "Distribution graphs (histogram/bar graph) of sampled columns:"
   ]
  },
  {
   "cell_type": "code",
   "execution_count": 222,
   "metadata": {
    "_kg_hide-input": false,
    "collapsed": false,
    "jupyter": {
     "outputs_hidden": false
    },
    "pycharm": {
     "is_executing": true
    }
   },
   "outputs": [],
   "source": [
    "# plot_per_column_distribution(df2, 10, 5)"
   ]
  },
  {
   "cell_type": "code",
   "execution_count": 223,
   "metadata": {
    "collapsed": false,
    "jupyter": {
     "outputs_hidden": false
    },
    "pycharm": {
     "is_executing": true,
     "name": "#%%\n"
    }
   },
   "outputs": [
    {
     "name": "stdout",
     "output_type": "stream",
     "text": [
      "(1000, 18)\n",
      "symbol          object\n",
      "ranking          int64\n",
      "by              object\n",
      "market          object\n",
      "cap             object\n",
      "name            object\n",
      "market.1        object\n",
      "cap.1           object\n",
      "price           object\n",
      "circulating     object\n",
      "supply          object\n",
      "volume          object\n",
      "%               object\n",
      "1h              object\n",
      "%.1            float64\n",
      "24h            float64\n",
      "%.2            float64\n",
      "1wk            float64\n",
      "dtype: object\n"
     ]
    }
   ],
   "source": [
    "print(df1.shape)\n",
    "print(df1.dtypes)"
   ]
  },
  {
   "cell_type": "code",
   "execution_count": 224,
   "metadata": {
    "collapsed": false,
    "jupyter": {
     "outputs_hidden": false
    },
    "pycharm": {
     "is_executing": true,
     "name": "#%%\n"
    }
   },
   "outputs": [
    {
     "name": "stdout",
     "output_type": "stream",
     "text": [
      "9432\n"
     ]
    }
   ],
   "source": [
    "# Given I have 26,000+ .csv files, I dont have enough GPU power to combine all of them\n",
    "# either in Kaggle Kernel or in my local Machine. Hence, I will take 9432 of those files.\n",
    "# There's no precise reason behind the number 9432 - I just could copy that many files at a time in my machine\n",
    "# combine those 9432 file's contents to a single pandas data-frame\n",
    "# So let's print all the files in the directory.\n",
    "\n",
    "!ls $file_dir | wc -l  # 9432\n"
   ]
  },
  {
   "cell_type": "code",
   "execution_count": 225,
   "metadata": {
    "collapsed": false,
    "jupyter": {
     "outputs_hidden": false
    },
    "pycharm": {
     "is_executing": true,
     "name": "#%%\n"
    }
   },
   "outputs": [
    {
     "data": {
      "text/html": [
       "<div>\n",
       "<style scoped>\n",
       "    .dataframe tbody tr th:only-of-type {\n",
       "        vertical-align: middle;\n",
       "    }\n",
       "\n",
       "    .dataframe tbody tr th {\n",
       "        vertical-align: top;\n",
       "    }\n",
       "\n",
       "    .dataframe thead th {\n",
       "        text-align: right;\n",
       "    }\n",
       "</style>\n",
       "<table border=\"1\" class=\"dataframe\">\n",
       "  <thead>\n",
       "    <tr style=\"text-align: right;\">\n",
       "      <th></th>\n",
       "      <th>symbol</th>\n",
       "      <th>ranking by market cap</th>\n",
       "      <th>name</th>\n",
       "      <th>market cap</th>\n",
       "      <th>price</th>\n",
       "      <th>circulating supply</th>\n",
       "      <th>volume</th>\n",
       "      <th>% 1h</th>\n",
       "      <th>% 24h</th>\n",
       "      <th>% 1wk</th>\n",
       "    </tr>\n",
       "  </thead>\n",
       "  <tbody>\n",
       "    <tr>\n",
       "      <th>0</th>\n",
       "      <td>XBY</td>\n",
       "      <td>224</td>\n",
       "      <td>XtraBYtes</td>\n",
       "      <td>$5,760,242</td>\n",
       "      <td>$0.008862</td>\n",
       "      <td>650,000,000</td>\n",
       "      <td>*</td>\n",
       "      <td>$10,278</td>\n",
       "      <td>-5.60%</td>\n",
       "      <td>-0.55%</td>\n",
       "    </tr>\n",
       "    <tr>\n",
       "      <th>1</th>\n",
       "      <td>CPN</td>\n",
       "      <td>698</td>\n",
       "      <td>CompuCoin</td>\n",
       "      <td>$59,253</td>\n",
       "      <td>$0.003021</td>\n",
       "      <td>19,615,019</td>\n",
       "      <td>Low Vol</td>\n",
       "      <td>-1.19%</td>\n",
       "      <td>-17.47%</td>\n",
       "      <td>14.35%</td>\n",
       "    </tr>\n",
       "    <tr>\n",
       "      <th>2</th>\n",
       "      <td>CHEAP</td>\n",
       "      <td>941</td>\n",
       "      <td>Cheapcoin</td>\n",
       "      <td>?</td>\n",
       "      <td>$0.000085</td>\n",
       "      <td>?</td>\n",
       "      <td>*</td>\n",
       "      <td>Low Vol</td>\n",
       "      <td>-2.59%</td>\n",
       "      <td>4.71%</td>\n",
       "    </tr>\n",
       "    <tr>\n",
       "      <th>3</th>\n",
       "      <td>BLAS</td>\n",
       "      <td>381</td>\n",
       "      <td>BlakeStar</td>\n",
       "      <td>$811,319</td>\n",
       "      <td>$0.003321</td>\n",
       "      <td>244,268,640</td>\n",
       "      <td>$81,686</td>\n",
       "      <td>-2.83%</td>\n",
       "      <td>15.00%</td>\n",
       "      <td>526.99%</td>\n",
       "    </tr>\n",
       "    <tr>\n",
       "      <th>4</th>\n",
       "      <td>CPC</td>\n",
       "      <td>386</td>\n",
       "      <td>Capricoin</td>\n",
       "      <td>$774,826</td>\n",
       "      <td>$0.389351</td>\n",
       "      <td>1,990,045</td>\n",
       "      <td>*</td>\n",
       "      <td>$24,731</td>\n",
       "      <td>-4.53%</td>\n",
       "      <td>-8.95%</td>\n",
       "    </tr>\n",
       "  </tbody>\n",
       "</table>\n",
       "</div>"
      ],
      "text/plain": [
       "  symbol  ranking by market cap       name   market cap      price  \\\n",
       "0    XBY                    224  XtraBYtes  $5,760,242   $0.008862   \n",
       "1    CPN                    698  CompuCoin     $59,253   $0.003021   \n",
       "2  CHEAP                    941  Cheapcoin           ?   $0.000085   \n",
       "3   BLAS                    381  BlakeStar    $811,319   $0.003321   \n",
       "4    CPC                    386  Capricoin    $774,826   $0.389351   \n",
       "\n",
       "  circulating supply   volume     % 1h    % 24h    % 1wk  \n",
       "0        650,000,000        *  $10,278   -5.60%   -0.55%  \n",
       "1         19,615,019  Low Vol   -1.19%  -17.47%   14.35%  \n",
       "2                  ?        *  Low Vol   -2.59%    4.71%  \n",
       "3        244,268,640  $81,686   -2.83%   15.00%  526.99%  \n",
       "4          1,990,045        *  $24,731   -4.53%   -8.95%  "
      ]
     },
     "execution_count": 225,
     "metadata": {},
     "output_type": "execute_result"
    }
   ],
   "source": [
    "# Defining a variable for to hold a Python-list of .csv files in that directory\n",
    "# files_list = glob.glob(os.path.join(file_dir, \"*.csv\"))\n",
    "all_files = glob.glob(os.path.join(file_dir, \"*.csv\"))\n",
    "\n",
    "# lets take the first 1400 .csv file (from which I shall create a combined-dataframe)\n",
    "# Note in the original .zipped folder (uploaded to Kaggle) there are 26,000+ files.\n",
    "# But for the sake of running this data in local file-system.\n",
    "files_list = all_files[:9432]\n",
    "\n",
    "# lets create dataframes and print them to see if it working\n",
    "\n",
    "df1 = pd.read_csv(files_list[0])\n",
    "df2 = pd.read_csv(files_list[1])\n",
    "\n",
    "df1.head()"
   ]
  },
  {
   "cell_type": "code",
   "execution_count": 226,
   "metadata": {
    "collapsed": false,
    "jupyter": {
     "outputs_hidden": false
    },
    "pycharm": {
     "is_executing": true,
     "name": "#%%\n"
    }
   },
   "outputs": [
    {
     "data": {
      "text/html": [
       "<div>\n",
       "<style scoped>\n",
       "    .dataframe tbody tr th:only-of-type {\n",
       "        vertical-align: middle;\n",
       "    }\n",
       "\n",
       "    .dataframe tbody tr th {\n",
       "        vertical-align: top;\n",
       "    }\n",
       "\n",
       "    .dataframe thead th {\n",
       "        text-align: right;\n",
       "    }\n",
       "</style>\n",
       "<table border=\"1\" class=\"dataframe\">\n",
       "  <thead>\n",
       "    <tr style=\"text-align: right;\">\n",
       "      <th></th>\n",
       "      <th>symbol</th>\n",
       "      <th>ranking by market cap</th>\n",
       "      <th>name</th>\n",
       "      <th>market cap</th>\n",
       "      <th>price</th>\n",
       "      <th>circulating supply</th>\n",
       "      <th>volume</th>\n",
       "      <th>% 1h</th>\n",
       "      <th>% 24h</th>\n",
       "      <th>% 1wk</th>\n",
       "    </tr>\n",
       "  </thead>\n",
       "  <tbody>\n",
       "    <tr>\n",
       "      <th>0</th>\n",
       "      <td>MIU</td>\n",
       "      <td>1043</td>\n",
       "      <td>MIYUCoin</td>\n",
       "      <td>?</td>\n",
       "      <td>$0.000047</td>\n",
       "      <td>?</td>\n",
       "      <td>Low Vol</td>\n",
       "      <td>0.53%</td>\n",
       "      <td>2.81%</td>\n",
       "      <td>11.19%</td>\n",
       "    </tr>\n",
       "    <tr>\n",
       "      <th>1</th>\n",
       "      <td>XBY</td>\n",
       "      <td>196</td>\n",
       "      <td>XTRABYTES</td>\n",
       "      <td>$11,860,841</td>\n",
       "      <td>$0.028140</td>\n",
       "      <td>421,500,000</td>\n",
       "      <td>*</td>\n",
       "      <td>$146,279</td>\n",
       "      <td>2.54%</td>\n",
       "      <td>21.30%</td>\n",
       "    </tr>\n",
       "    <tr>\n",
       "      <th>2</th>\n",
       "      <td>CPN</td>\n",
       "      <td>704</td>\n",
       "      <td>CompuCoin</td>\n",
       "      <td>$65,942</td>\n",
       "      <td>$0.003362</td>\n",
       "      <td>19,615,019</td>\n",
       "      <td>Low Vol</td>\n",
       "      <td>0.74%</td>\n",
       "      <td>7.33%</td>\n",
       "      <td>-16.30%</td>\n",
       "    </tr>\n",
       "    <tr>\n",
       "      <th>3</th>\n",
       "      <td>CHEAP</td>\n",
       "      <td>1094</td>\n",
       "      <td>Cheapcoin</td>\n",
       "      <td>?</td>\n",
       "      <td>$0.000092</td>\n",
       "      <td>?</td>\n",
       "      <td>*</td>\n",
       "      <td>Low Vol</td>\n",
       "      <td>?</td>\n",
       "      <td>1.15%</td>\n",
       "    </tr>\n",
       "    <tr>\n",
       "      <th>4</th>\n",
       "      <td>BLAS</td>\n",
       "      <td>479</td>\n",
       "      <td>BlakeStar</td>\n",
       "      <td>$155,576</td>\n",
       "      <td>$0.000630</td>\n",
       "      <td>246,894,112</td>\n",
       "      <td>$4,413</td>\n",
       "      <td>15.64%</td>\n",
       "      <td>6.42%</td>\n",
       "      <td>69.75%</td>\n",
       "    </tr>\n",
       "  </tbody>\n",
       "</table>\n",
       "</div>"
      ],
      "text/plain": [
       "  symbol  ranking by market cap       name    market cap      price  \\\n",
       "0    MIU                   1043   MIYUCoin            ?   $0.000047   \n",
       "1    XBY                    196  XTRABYTES  $11,860,841   $0.028140   \n",
       "2    CPN                    704  CompuCoin      $65,942   $0.003362   \n",
       "3  CHEAP                   1094  Cheapcoin            ?   $0.000092   \n",
       "4   BLAS                    479  BlakeStar     $155,576   $0.000630   \n",
       "\n",
       "  circulating supply   volume      % 1h  % 24h    % 1wk  \n",
       "0                  ?  Low Vol     0.53%  2.81%   11.19%  \n",
       "1        421,500,000        *  $146,279  2.54%   21.30%  \n",
       "2         19,615,019  Low Vol     0.74%  7.33%  -16.30%  \n",
       "3                  ?        *   Low Vol      ?    1.15%  \n",
       "4        246,894,112   $4,413    15.64%  6.42%   69.75%  "
      ]
     },
     "execution_count": 226,
     "metadata": {},
     "output_type": "execute_result"
    }
   ],
   "source": [
    "df2.head()"
   ]
  },
  {
   "cell_type": "markdown",
   "metadata": {
    "jupyter": {
     "outputs_hidden": false
    },
    "pycharm": {
     "name": "#%% md\n"
    }
   },
   "source": [
    "### Code to combine 9432 .csv files into a single dataframe and then\n",
    "### Filter data for 'Symbol' column == 'BTC'\n",
    "### generating a .csv file out that combined-single dataframe to work with.\n",
    "\n",
    "As we can see above, all these files have the same columns so it seems reasonable to concatenate everything into one dataframe. However, I want to keep track of the file names because that's the only reference to the date of the records.\n",
    "\n",
    "- First, creating a list of dataframes with the filenames in a \"file_name\" column\n",
    "- Then concatenate them all into one big dataframe\n",
    "\n",
    "#### The  below are the scripts for that, but I have commented-out all of these lines,\n",
    "#### as obviously I dont want to run this huge process-intensive steps every time\n",
    "#### of creating a single DataFrame out of 9432 .csv files."
   ]
  },
  {
   "cell_type": "code",
   "execution_count": 227,
   "metadata": {
    "collapsed": false,
    "jupyter": {
     "outputs_hidden": false
    },
    "pycharm": {
     "is_executing": true,
     "name": "#%%\n"
    }
   },
   "outputs": [],
   "source": [
    "# dataframes = [pd.read_csv(file).assign(file_name=os.path.basename(file).strip(\".csv\")) for file in files_list]\n",
    "# combined_df = pd.concat(dataframes, ignore_index=True)\n",
    "# combined_df.head()"
   ]
  },
  {
   "cell_type": "code",
   "execution_count": 228,
   "metadata": {
    "collapsed": false,
    "jupyter": {
     "outputs_hidden": false
    },
    "pycharm": {
     "is_executing": true,
     "name": "#%%\n"
    }
   },
   "outputs": [],
   "source": [
    "# combined_df.shape"
   ]
  },
  {
   "cell_type": "markdown",
   "metadata": {},
   "source": [
    "##### The above dataframe has all the SYMBOLS of all the crypto-currencies as was in the individual .csv files.\n",
    "##### But now I want to extract ONLY the symbol 'BTC' for Bitcoin for the further analysis.\n",
    "\n",
    "Below is the code for that."
   ]
  },
  {
   "cell_type": "code",
   "execution_count": 229,
   "metadata": {
    "collapsed": false,
    "jupyter": {
     "outputs_hidden": false
    },
    "pycharm": {
     "is_executing": true,
     "name": "#%%\n"
    }
   },
   "outputs": [],
   "source": [
    "# Creating a dataframe, by filtering only the rows where the column 'Symbol' is 'BTC'\n",
    "\n",
    "# btc_df = combined_df[combined_df['symbol'] == 'BTC']\n",
    "# btc_df.shape"
   ]
  },
  {
   "cell_type": "markdown",
   "metadata": {
    "pycharm": {
     "name": "#%% md\n"
    }
   },
   "source": [
    "#### Now generating a .csv file contain which will be used as a training dataset\n",
    "#### This file is created out that combined-single dataframe (that I earlier created from 9432 .csv files )\n",
    "as obviously I dont want to run this huge process-intensive step of creating a single\n",
    "Data-Frame out of 9432 .csv files.\n",
    "\n",
    "Below code is commented out as well, because I have run this script just once to create the file.\n",
    "And then I have saved the file (to be used as an input) both in Kaggle and also for my local machine"
   ]
  },
  {
   "cell_type": "code",
   "execution_count": 230,
   "metadata": {
    "collapsed": false,
    "jupyter": {
     "outputs_hidden": false
    },
    "pycharm": {
     "is_executing": true,
     "name": "#%%\n"
    }
   },
   "outputs": [],
   "source": [
    "# btc_df.to_csv(\"train_BTC_combined.csv\", index=False)\n",
    "\n",
    "# Passing index=False so as not to not write out an 'unnamed' index column to the combined dataframe"
   ]
  },
  {
   "cell_type": "code",
   "execution_count": 231,
   "metadata": {
    "collapsed": false,
    "jupyter": {
     "outputs_hidden": false
    },
    "pycharm": {
     "is_executing": true,
     "name": "#%%\n"
    }
   },
   "outputs": [
    {
     "data": {
      "text/html": [
       "<div>\n",
       "<style scoped>\n",
       "    .dataframe tbody tr th:only-of-type {\n",
       "        vertical-align: middle;\n",
       "    }\n",
       "\n",
       "    .dataframe tbody tr th {\n",
       "        vertical-align: top;\n",
       "    }\n",
       "\n",
       "    .dataframe thead th {\n",
       "        text-align: right;\n",
       "    }\n",
       "</style>\n",
       "<table border=\"1\" class=\"dataframe\">\n",
       "  <thead>\n",
       "    <tr style=\"text-align: right;\">\n",
       "      <th></th>\n",
       "      <th>symbol</th>\n",
       "      <th>ranking by market cap</th>\n",
       "      <th>name</th>\n",
       "      <th>market cap</th>\n",
       "      <th>price</th>\n",
       "      <th>circulating supply</th>\n",
       "      <th>volume</th>\n",
       "      <th>% 1h</th>\n",
       "      <th>% 24h</th>\n",
       "      <th>% 1wk</th>\n",
       "      <th>...</th>\n",
       "      <th>market.1</th>\n",
       "      <th>cap.1</th>\n",
       "      <th>circulating</th>\n",
       "      <th>supply</th>\n",
       "      <th>%</th>\n",
       "      <th>1h</th>\n",
       "      <th>%.1</th>\n",
       "      <th>24h</th>\n",
       "      <th>%.2</th>\n",
       "      <th>1wk</th>\n",
       "    </tr>\n",
       "  </thead>\n",
       "  <tbody>\n",
       "    <tr>\n",
       "      <th>0</th>\n",
       "      <td>BTC</td>\n",
       "      <td>1.0</td>\n",
       "      <td>Bitcoin</td>\n",
       "      <td>$70,846,063,125</td>\n",
       "      <td>$4291.75</td>\n",
       "      <td>16,507,500</td>\n",
       "      <td>$2,814,510,000</td>\n",
       "      <td>-2.16%</td>\n",
       "      <td>5.57%</td>\n",
       "      <td>24.99%</td>\n",
       "      <td>...</td>\n",
       "      <td>NaN</td>\n",
       "      <td>NaN</td>\n",
       "      <td>NaN</td>\n",
       "      <td>NaN</td>\n",
       "      <td>NaN</td>\n",
       "      <td>NaN</td>\n",
       "      <td>NaN</td>\n",
       "      <td>NaN</td>\n",
       "      <td>NaN</td>\n",
       "      <td>NaN</td>\n",
       "    </tr>\n",
       "    <tr>\n",
       "      <th>1</th>\n",
       "      <td>BTC</td>\n",
       "      <td>1.0</td>\n",
       "      <td>Bitcoin</td>\n",
       "      <td>$76,715,293,809</td>\n",
       "      <td>$4639.63</td>\n",
       "      <td>16,534,787</td>\n",
       "      <td>$1,731,360,000</td>\n",
       "      <td>0.56%</td>\n",
       "      <td>2.73%</td>\n",
       "      <td>10.53%</td>\n",
       "      <td>...</td>\n",
       "      <td>NaN</td>\n",
       "      <td>NaN</td>\n",
       "      <td>NaN</td>\n",
       "      <td>NaN</td>\n",
       "      <td>NaN</td>\n",
       "      <td>NaN</td>\n",
       "      <td>NaN</td>\n",
       "      <td>NaN</td>\n",
       "      <td>NaN</td>\n",
       "      <td>NaN</td>\n",
       "    </tr>\n",
       "    <tr>\n",
       "      <th>2</th>\n",
       "      <td>BTC</td>\n",
       "      <td>1.0</td>\n",
       "      <td>Bitcoin</td>\n",
       "      <td>$71,411,773,702</td>\n",
       "      <td>$4316.74</td>\n",
       "      <td>16,542,987</td>\n",
       "      <td>$2,080,400,000</td>\n",
       "      <td>-2.51%</td>\n",
       "      <td>-6.91%</td>\n",
       "      <td>0.54%</td>\n",
       "      <td>...</td>\n",
       "      <td>NaN</td>\n",
       "      <td>NaN</td>\n",
       "      <td>NaN</td>\n",
       "      <td>NaN</td>\n",
       "      <td>NaN</td>\n",
       "      <td>NaN</td>\n",
       "      <td>NaN</td>\n",
       "      <td>NaN</td>\n",
       "      <td>NaN</td>\n",
       "      <td>NaN</td>\n",
       "    </tr>\n",
       "    <tr>\n",
       "      <th>3</th>\n",
       "      <td>BTC</td>\n",
       "      <td>1.0</td>\n",
       "      <td>Bitcoin</td>\n",
       "      <td>$67,158,717,638</td>\n",
       "      <td>$4066.51</td>\n",
       "      <td>16,515,075</td>\n",
       "      <td>$2,796,620,000</td>\n",
       "      <td>-0.71%</td>\n",
       "      <td>-5.92%</td>\n",
       "      <td>9.26%</td>\n",
       "      <td>...</td>\n",
       "      <td>NaN</td>\n",
       "      <td>NaN</td>\n",
       "      <td>NaN</td>\n",
       "      <td>NaN</td>\n",
       "      <td>NaN</td>\n",
       "      <td>NaN</td>\n",
       "      <td>NaN</td>\n",
       "      <td>NaN</td>\n",
       "      <td>NaN</td>\n",
       "      <td>NaN</td>\n",
       "    </tr>\n",
       "    <tr>\n",
       "      <th>4</th>\n",
       "      <td>BTC</td>\n",
       "      <td>1.0</td>\n",
       "      <td>Bitcoin</td>\n",
       "      <td>$67,243,714,005</td>\n",
       "      <td>$4071.86</td>\n",
       "      <td>16,514,250</td>\n",
       "      <td>$2,611,450,000</td>\n",
       "      <td>-1.38%</td>\n",
       "      <td>-5.83%</td>\n",
       "      <td>13.93%</td>\n",
       "      <td>...</td>\n",
       "      <td>NaN</td>\n",
       "      <td>NaN</td>\n",
       "      <td>NaN</td>\n",
       "      <td>NaN</td>\n",
       "      <td>NaN</td>\n",
       "      <td>NaN</td>\n",
       "      <td>NaN</td>\n",
       "      <td>NaN</td>\n",
       "      <td>NaN</td>\n",
       "      <td>NaN</td>\n",
       "    </tr>\n",
       "  </tbody>\n",
       "</table>\n",
       "<p>5 rows × 25 columns</p>\n",
       "</div>"
      ],
      "text/plain": [
       "  symbol  ranking by market cap     name        market cap     price  \\\n",
       "0    BTC                    1.0  Bitcoin  $70,846,063,125   $4291.75   \n",
       "1    BTC                    1.0  Bitcoin  $76,715,293,809   $4639.63   \n",
       "2    BTC                    1.0  Bitcoin  $71,411,773,702   $4316.74   \n",
       "3    BTC                    1.0  Bitcoin  $67,158,717,638   $4066.51   \n",
       "4    BTC                    1.0  Bitcoin  $67,243,714,005   $4071.86   \n",
       "\n",
       "  circulating supply          volume    % 1h   % 24h   % 1wk  ... market.1  \\\n",
       "0         16,507,500  $2,814,510,000  -2.16%   5.57%  24.99%  ...      NaN   \n",
       "1         16,534,787  $1,731,360,000   0.56%   2.73%  10.53%  ...      NaN   \n",
       "2         16,542,987  $2,080,400,000  -2.51%  -6.91%   0.54%  ...      NaN   \n",
       "3         16,515,075  $2,796,620,000  -0.71%  -5.92%   9.26%  ...      NaN   \n",
       "4         16,514,250  $2,611,450,000  -1.38%  -5.83%  13.93%  ...      NaN   \n",
       "\n",
       "   cap.1 circulating supply   %  1h %.1 24h  %.2  1wk  \n",
       "0    NaN         NaN    NaN NaN NaN NaN NaN  NaN  NaN  \n",
       "1    NaN         NaN    NaN NaN NaN NaN NaN  NaN  NaN  \n",
       "2    NaN         NaN    NaN NaN NaN NaN NaN  NaN  NaN  \n",
       "3    NaN         NaN    NaN NaN NaN NaN NaN  NaN  NaN  \n",
       "4    NaN         NaN    NaN NaN NaN NaN NaN  NaN  NaN  \n",
       "\n",
       "[5 rows x 25 columns]"
      ]
     },
     "execution_count": 231,
     "metadata": {},
     "output_type": "execute_result"
    }
   ],
   "source": [
    "# Now that I have already created a .csv with the combined dataframe for BTC, lets use that going forward.\n",
    "original_btc_train = pd.read_csv(\"train_BTC_combined.csv\")\n",
    "\n",
    "# The same code above will be as below in Kaggle because of the Kaggle's file-tree-structure for uploaded input-data\n",
    "# original_btc_train = pd.read_csv(\"/kaggle/input/crypto-data/train_BTC_combined.csv\")\n",
    "\n",
    "original_btc_train.head()"
   ]
  },
  {
   "cell_type": "code",
   "execution_count": 232,
   "metadata": {
    "collapsed": false,
    "jupyter": {
     "outputs_hidden": false
    },
    "pycharm": {
     "is_executing": true,
     "name": "#%%\n"
    }
   },
   "outputs": [
    {
     "data": {
      "text/plain": [
       "(9431, 25)"
      ]
     },
     "execution_count": 232,
     "metadata": {},
     "output_type": "execute_result"
    }
   ],
   "source": [
    "original_btc_train.shape"
   ]
  },
  {
   "cell_type": "markdown",
   "metadata": {
    "pycharm": {
     "name": "#%% md\n"
    }
   },
   "source": [
    "Lets analyze the dataframe with .info() method. This method prints a concise summary of the data frame, including the column names and their data types, the number of non-null values, the amount of memory used by the data frame."
   ]
  },
  {
   "cell_type": "code",
   "execution_count": 233,
   "metadata": {
    "collapsed": false,
    "jupyter": {
     "outputs_hidden": false
    },
    "pycharm": {
     "name": "#%%\n"
    }
   },
   "outputs": [
    {
     "name": "stdout",
     "output_type": "stream",
     "text": [
      "<class 'pandas.core.frame.DataFrame'>\n",
      "RangeIndex: 9431 entries, 0 to 9430\n",
      "Data columns (total 25 columns):\n",
      " #   Column                 Non-Null Count  Dtype  \n",
      "---  ------                 --------------  -----  \n",
      " 0   symbol                 9431 non-null   object \n",
      " 1   ranking by market cap  9430 non-null   float64\n",
      " 2   name                   9431 non-null   object \n",
      " 3   market cap             9430 non-null   object \n",
      " 4   price                  9431 non-null   object \n",
      " 5   circulating supply     9430 non-null   object \n",
      " 6   volume                 9430 non-null   object \n",
      " 7   % 1h                   9430 non-null   object \n",
      " 8   % 24h                  9430 non-null   object \n",
      " 9   % 1wk                  9430 non-null   object \n",
      " 10  file_name              9431 non-null   object \n",
      " 11  ranking                1 non-null      float64\n",
      " 12  by                     1 non-null      object \n",
      " 13  market                 1 non-null      object \n",
      " 14  cap                    1 non-null      object \n",
      " 15  market.1               1 non-null      object \n",
      " 16  cap.1                  1 non-null      object \n",
      " 17  circulating            1 non-null      object \n",
      " 18  supply                 0 non-null      float64\n",
      " 19  %                      0 non-null      float64\n",
      " 20  1h                     0 non-null      float64\n",
      " 21  %.1                    0 non-null      float64\n",
      " 22  24h                    0 non-null      float64\n",
      " 23  %.2                    0 non-null      float64\n",
      " 24  1wk                    0 non-null      float64\n",
      "dtypes: float64(9), object(16)\n",
      "memory usage: 1.8+ MB\n"
     ]
    }
   ],
   "source": [
    "original_btc_train.info()"
   ]
  },
  {
   "cell_type": "markdown",
   "metadata": {
    "pycharm": {
     "name": "#%% md\n"
    }
   },
   "source": [
    "As shown above, the data sets do not contain null values but some of the columns where I expected numerical or float values, instead contain object Dtype like the 'market cap' column.\n",
    "\n",
    "Also starting with 'file_name' upto '1wk' columns dont have"
   ]
  },
  {
   "cell_type": "code",
   "execution_count": 234,
   "metadata": {
    "collapsed": false,
    "jupyter": {
     "outputs_hidden": false
    },
    "pycharm": {
     "is_executing": true,
     "name": "#%%\n"
    }
   },
   "outputs": [
    {
     "name": "stdout",
     "output_type": "stream",
     "text": [
      "All Features list ['symbol', 'ranking by market cap', 'name', 'market cap', 'price', 'circulating supply', 'volume', '% 1h', '% 24h', '% 1wk', 'file_name', 'ranking', 'by', 'market', 'cap', 'market.1', 'cap.1', 'circulating', 'supply', '%', '1h', '%.1', '24h', '%.2', '1wk']\n",
      "\n",
      "Missing Values symbol                   False\n",
      "ranking by market cap     True\n",
      "name                     False\n",
      "market cap                True\n",
      "price                    False\n",
      "circulating supply        True\n",
      "volume                    True\n",
      "% 1h                      True\n",
      "% 24h                     True\n",
      "% 1wk                     True\n",
      "file_name                False\n",
      "ranking                   True\n",
      "by                        True\n",
      "market                    True\n",
      "cap                       True\n",
      "market.1                  True\n",
      "cap.1                     True\n",
      "circulating               True\n",
      "supply                    True\n",
      "%                         True\n",
      "1h                        True\n",
      "%.1                       True\n",
      "24h                       True\n",
      "%.2                       True\n",
      "1wk                       True\n",
      "dtype: bool\n",
      "\n",
      "Unique Values  symbol                      1\n",
      "ranking by market cap       1\n",
      "name                        2\n",
      "market cap               9181\n",
      "price                    8789\n",
      "circulating supply       2001\n",
      "volume                   8969\n",
      "% 1h                      612\n",
      "% 24h                    2021\n",
      "% 1wk                    3370\n",
      "file_name                9431\n",
      "ranking                     1\n",
      "by                          1\n",
      "market                      1\n",
      "cap                         1\n",
      "market.1                    1\n",
      "cap.1                       1\n",
      "circulating                 1\n",
      "supply                      0\n",
      "%                           0\n",
      "1h                          0\n",
      "%.1                         0\n",
      "24h                         0\n",
      "%.2                         0\n",
      "1wk                         0\n",
      "dtype: int64\n"
     ]
    }
   ],
   "source": [
    "# All Features List\n",
    "print(\"All Features list\", original_btc_train.columns.tolist())\n",
    "print(\"\\nMissing Values\", original_btc_train.isnull().any())\n",
    "print(\"\\nUnique Values \", original_btc_train.nunique())"
   ]
  },
  {
   "cell_type": "code",
   "execution_count": 235,
   "metadata": {
    "collapsed": false,
    "jupyter": {
     "outputs_hidden": false
    },
    "pycharm": {
     "is_executing": true,
     "name": "#%%\n"
    }
   },
   "outputs": [
    {
     "data": {
      "text/plain": [
       "0       70846063125 \n",
       "1       76715293809 \n",
       "2       71411773702 \n",
       "3       67158717638 \n",
       "4       67243714005 \n",
       "            ...     \n",
       "9426    71308175058 \n",
       "9427    70475225454 \n",
       "9428    72348215185 \n",
       "9429    68520412389 \n",
       "9430    67490059171 \n",
       "Name: market cap, Length: 9431, dtype: object"
      ]
     },
     "execution_count": 235,
     "metadata": {},
     "output_type": "execute_result"
    }
   ],
   "source": [
    "# Remove the '$' and the extra commas from the 'market cap' column\n",
    "\n",
    "# In the real world data set, to see if there are are non-numeric values in the column.\n",
    "# my first approach was to try to use astype() as below commented out line\n",
    "# original_btc_train['market cap'].astype('float')\n",
    "# The output would be - could not convert string to float: '$70,846,063,125 '\n",
    "\n",
    "# So now, let’s try removing the ‘$’ and ‘,’ using str.replace :\n",
    "original_btc_train['market cap'] =original_btc_train['market cap'].str.replace(',', '')\n",
    "original_btc_train['market cap'] =original_btc_train['market cap'].str.replace('$', '')\n",
    "original_btc_train['market cap']"
   ]
  },
  {
   "cell_type": "code",
   "execution_count": 236,
   "metadata": {
    "collapsed": false,
    "jupyter": {
     "outputs_hidden": false
    },
    "pycharm": {
     "is_executing": true,
     "name": "#%%\n"
    }
   },
   "outputs": [
    {
     "data": {
      "text/html": [
       "<div>\n",
       "<style scoped>\n",
       "    .dataframe tbody tr th:only-of-type {\n",
       "        vertical-align: middle;\n",
       "    }\n",
       "\n",
       "    .dataframe tbody tr th {\n",
       "        vertical-align: top;\n",
       "    }\n",
       "\n",
       "    .dataframe thead th {\n",
       "        text-align: right;\n",
       "    }\n",
       "</style>\n",
       "<table border=\"1\" class=\"dataframe\">\n",
       "  <thead>\n",
       "    <tr style=\"text-align: right;\">\n",
       "      <th></th>\n",
       "      <th>symbol</th>\n",
       "      <th>ranking by market cap</th>\n",
       "      <th>name</th>\n",
       "      <th>market cap</th>\n",
       "      <th>price</th>\n",
       "      <th>circulating supply</th>\n",
       "      <th>volume</th>\n",
       "      <th>% 1h</th>\n",
       "      <th>% 24h</th>\n",
       "      <th>% 1wk</th>\n",
       "      <th>...</th>\n",
       "      <th>market.1</th>\n",
       "      <th>cap.1</th>\n",
       "      <th>circulating</th>\n",
       "      <th>supply</th>\n",
       "      <th>%</th>\n",
       "      <th>1h</th>\n",
       "      <th>%.1</th>\n",
       "      <th>24h</th>\n",
       "      <th>%.2</th>\n",
       "      <th>1wk</th>\n",
       "    </tr>\n",
       "  </thead>\n",
       "  <tbody>\n",
       "    <tr>\n",
       "      <th>0</th>\n",
       "      <td>BTC</td>\n",
       "      <td>1.0</td>\n",
       "      <td>Bitcoin</td>\n",
       "      <td>70846063125</td>\n",
       "      <td>$4291.75</td>\n",
       "      <td>16,507,500</td>\n",
       "      <td>$2,814,510,000</td>\n",
       "      <td>-2.16%</td>\n",
       "      <td>5.57%</td>\n",
       "      <td>24.99%</td>\n",
       "      <td>...</td>\n",
       "      <td>NaN</td>\n",
       "      <td>NaN</td>\n",
       "      <td>NaN</td>\n",
       "      <td>NaN</td>\n",
       "      <td>NaN</td>\n",
       "      <td>NaN</td>\n",
       "      <td>NaN</td>\n",
       "      <td>NaN</td>\n",
       "      <td>NaN</td>\n",
       "      <td>NaN</td>\n",
       "    </tr>\n",
       "    <tr>\n",
       "      <th>1</th>\n",
       "      <td>BTC</td>\n",
       "      <td>1.0</td>\n",
       "      <td>Bitcoin</td>\n",
       "      <td>76715293809</td>\n",
       "      <td>$4639.63</td>\n",
       "      <td>16,534,787</td>\n",
       "      <td>$1,731,360,000</td>\n",
       "      <td>0.56%</td>\n",
       "      <td>2.73%</td>\n",
       "      <td>10.53%</td>\n",
       "      <td>...</td>\n",
       "      <td>NaN</td>\n",
       "      <td>NaN</td>\n",
       "      <td>NaN</td>\n",
       "      <td>NaN</td>\n",
       "      <td>NaN</td>\n",
       "      <td>NaN</td>\n",
       "      <td>NaN</td>\n",
       "      <td>NaN</td>\n",
       "      <td>NaN</td>\n",
       "      <td>NaN</td>\n",
       "    </tr>\n",
       "    <tr>\n",
       "      <th>2</th>\n",
       "      <td>BTC</td>\n",
       "      <td>1.0</td>\n",
       "      <td>Bitcoin</td>\n",
       "      <td>71411773702</td>\n",
       "      <td>$4316.74</td>\n",
       "      <td>16,542,987</td>\n",
       "      <td>$2,080,400,000</td>\n",
       "      <td>-2.51%</td>\n",
       "      <td>-6.91%</td>\n",
       "      <td>0.54%</td>\n",
       "      <td>...</td>\n",
       "      <td>NaN</td>\n",
       "      <td>NaN</td>\n",
       "      <td>NaN</td>\n",
       "      <td>NaN</td>\n",
       "      <td>NaN</td>\n",
       "      <td>NaN</td>\n",
       "      <td>NaN</td>\n",
       "      <td>NaN</td>\n",
       "      <td>NaN</td>\n",
       "      <td>NaN</td>\n",
       "    </tr>\n",
       "    <tr>\n",
       "      <th>3</th>\n",
       "      <td>BTC</td>\n",
       "      <td>1.0</td>\n",
       "      <td>Bitcoin</td>\n",
       "      <td>67158717638</td>\n",
       "      <td>$4066.51</td>\n",
       "      <td>16,515,075</td>\n",
       "      <td>$2,796,620,000</td>\n",
       "      <td>-0.71%</td>\n",
       "      <td>-5.92%</td>\n",
       "      <td>9.26%</td>\n",
       "      <td>...</td>\n",
       "      <td>NaN</td>\n",
       "      <td>NaN</td>\n",
       "      <td>NaN</td>\n",
       "      <td>NaN</td>\n",
       "      <td>NaN</td>\n",
       "      <td>NaN</td>\n",
       "      <td>NaN</td>\n",
       "      <td>NaN</td>\n",
       "      <td>NaN</td>\n",
       "      <td>NaN</td>\n",
       "    </tr>\n",
       "    <tr>\n",
       "      <th>4</th>\n",
       "      <td>BTC</td>\n",
       "      <td>1.0</td>\n",
       "      <td>Bitcoin</td>\n",
       "      <td>67243714005</td>\n",
       "      <td>$4071.86</td>\n",
       "      <td>16,514,250</td>\n",
       "      <td>$2,611,450,000</td>\n",
       "      <td>-1.38%</td>\n",
       "      <td>-5.83%</td>\n",
       "      <td>13.93%</td>\n",
       "      <td>...</td>\n",
       "      <td>NaN</td>\n",
       "      <td>NaN</td>\n",
       "      <td>NaN</td>\n",
       "      <td>NaN</td>\n",
       "      <td>NaN</td>\n",
       "      <td>NaN</td>\n",
       "      <td>NaN</td>\n",
       "      <td>NaN</td>\n",
       "      <td>NaN</td>\n",
       "      <td>NaN</td>\n",
       "    </tr>\n",
       "  </tbody>\n",
       "</table>\n",
       "<p>5 rows × 25 columns</p>\n",
       "</div>"
      ],
      "text/plain": [
       "  symbol  ranking by market cap     name    market cap     price  \\\n",
       "0    BTC                    1.0  Bitcoin  70846063125   $4291.75   \n",
       "1    BTC                    1.0  Bitcoin  76715293809   $4639.63   \n",
       "2    BTC                    1.0  Bitcoin  71411773702   $4316.74   \n",
       "3    BTC                    1.0  Bitcoin  67158717638   $4066.51   \n",
       "4    BTC                    1.0  Bitcoin  67243714005   $4071.86   \n",
       "\n",
       "  circulating supply          volume    % 1h   % 24h   % 1wk  ... market.1  \\\n",
       "0         16,507,500  $2,814,510,000  -2.16%   5.57%  24.99%  ...      NaN   \n",
       "1         16,534,787  $1,731,360,000   0.56%   2.73%  10.53%  ...      NaN   \n",
       "2         16,542,987  $2,080,400,000  -2.51%  -6.91%   0.54%  ...      NaN   \n",
       "3         16,515,075  $2,796,620,000  -0.71%  -5.92%   9.26%  ...      NaN   \n",
       "4         16,514,250  $2,611,450,000  -1.38%  -5.83%  13.93%  ...      NaN   \n",
       "\n",
       "   cap.1 circulating supply   %  1h %.1 24h  %.2  1wk  \n",
       "0    NaN         NaN    NaN NaN NaN NaN NaN  NaN  NaN  \n",
       "1    NaN         NaN    NaN NaN NaN NaN NaN  NaN  NaN  \n",
       "2    NaN         NaN    NaN NaN NaN NaN NaN  NaN  NaN  \n",
       "3    NaN         NaN    NaN NaN NaN NaN NaN  NaN  NaN  \n",
       "4    NaN         NaN    NaN NaN NaN NaN NaN  NaN  NaN  \n",
       "\n",
       "[5 rows x 25 columns]"
      ]
     },
     "execution_count": 236,
     "metadata": {},
     "output_type": "execute_result"
    }
   ],
   "source": [
    "original_btc_train.head()"
   ]
  },
  {
   "cell_type": "code",
   "execution_count": 237,
   "metadata": {
    "collapsed": false,
    "jupyter": {
     "outputs_hidden": false
    },
    "pycharm": {
     "is_executing": true,
     "name": "#%%\n"
    }
   },
   "outputs": [
    {
     "data": {
      "text/plain": [
       "0       7.084606e+10\n",
       "1       7.671529e+10\n",
       "2       7.141177e+10\n",
       "3       6.715872e+10\n",
       "4       6.724371e+10\n",
       "            ...     \n",
       "9426    7.130818e+10\n",
       "9427    7.047523e+10\n",
       "9428    7.234822e+10\n",
       "9429    6.852041e+10\n",
       "9430    6.749006e+10\n",
       "Name: market cap, Length: 9431, dtype: float64"
      ]
     },
     "execution_count": 237,
     "metadata": {},
     "output_type": "execute_result"
    }
   ],
   "source": [
    "# and now if I run below\n",
    "original_btc_train['market cap'].astype('float')"
   ]
  },
  {
   "cell_type": "code",
   "execution_count": 238,
   "metadata": {
    "collapsed": false,
    "jupyter": {
     "outputs_hidden": false
    },
    "pycharm": {
     "is_executing": true,
     "name": "#%%\n"
    }
   },
   "outputs": [
    {
     "data": {
      "text/html": [
       "<div>\n",
       "<style scoped>\n",
       "    .dataframe tbody tr th:only-of-type {\n",
       "        vertical-align: middle;\n",
       "    }\n",
       "\n",
       "    .dataframe tbody tr th {\n",
       "        vertical-align: top;\n",
       "    }\n",
       "\n",
       "    .dataframe thead th {\n",
       "        text-align: right;\n",
       "    }\n",
       "</style>\n",
       "<table border=\"1\" class=\"dataframe\">\n",
       "  <thead>\n",
       "    <tr style=\"text-align: right;\">\n",
       "      <th></th>\n",
       "      <th>symbol</th>\n",
       "      <th>ranking by market cap</th>\n",
       "      <th>name</th>\n",
       "      <th>market cap</th>\n",
       "      <th>price</th>\n",
       "      <th>circulating supply</th>\n",
       "      <th>volume</th>\n",
       "      <th>% 1h</th>\n",
       "      <th>% 24h</th>\n",
       "      <th>% 1wk</th>\n",
       "      <th>...</th>\n",
       "      <th>market.1</th>\n",
       "      <th>cap.1</th>\n",
       "      <th>circulating</th>\n",
       "      <th>supply</th>\n",
       "      <th>%</th>\n",
       "      <th>1h</th>\n",
       "      <th>%.1</th>\n",
       "      <th>24h</th>\n",
       "      <th>%.2</th>\n",
       "      <th>1wk</th>\n",
       "    </tr>\n",
       "    <tr>\n",
       "      <th>file_name</th>\n",
       "      <th></th>\n",
       "      <th></th>\n",
       "      <th></th>\n",
       "      <th></th>\n",
       "      <th></th>\n",
       "      <th></th>\n",
       "      <th></th>\n",
       "      <th></th>\n",
       "      <th></th>\n",
       "      <th></th>\n",
       "      <th></th>\n",
       "      <th></th>\n",
       "      <th></th>\n",
       "      <th></th>\n",
       "      <th></th>\n",
       "      <th></th>\n",
       "      <th></th>\n",
       "      <th></th>\n",
       "      <th></th>\n",
       "      <th></th>\n",
       "      <th></th>\n",
       "    </tr>\n",
       "  </thead>\n",
       "  <tbody>\n",
       "    <tr>\n",
       "      <th>r_20170815-071005</th>\n",
       "      <td>BTC</td>\n",
       "      <td>1.0</td>\n",
       "      <td>Bitcoin</td>\n",
       "      <td>70846063125</td>\n",
       "      <td>$4291.75</td>\n",
       "      <td>16,507,500</td>\n",
       "      <td>$2,814,510,000</td>\n",
       "      <td>-2.16%</td>\n",
       "      <td>5.57%</td>\n",
       "      <td>24.99%</td>\n",
       "      <td>...</td>\n",
       "      <td>NaN</td>\n",
       "      <td>NaN</td>\n",
       "      <td>NaN</td>\n",
       "      <td>NaN</td>\n",
       "      <td>NaN</td>\n",
       "      <td>NaN</td>\n",
       "      <td>NaN</td>\n",
       "      <td>NaN</td>\n",
       "      <td>NaN</td>\n",
       "      <td>NaN</td>\n",
       "    </tr>\n",
       "    <tr>\n",
       "      <th>r_20170831-114005</th>\n",
       "      <td>BTC</td>\n",
       "      <td>1.0</td>\n",
       "      <td>Bitcoin</td>\n",
       "      <td>76715293809</td>\n",
       "      <td>$4639.63</td>\n",
       "      <td>16,534,787</td>\n",
       "      <td>$1,731,360,000</td>\n",
       "      <td>0.56%</td>\n",
       "      <td>2.73%</td>\n",
       "      <td>10.53%</td>\n",
       "      <td>...</td>\n",
       "      <td>NaN</td>\n",
       "      <td>NaN</td>\n",
       "      <td>NaN</td>\n",
       "      <td>NaN</td>\n",
       "      <td>NaN</td>\n",
       "      <td>NaN</td>\n",
       "      <td>NaN</td>\n",
       "      <td>NaN</td>\n",
       "      <td>NaN</td>\n",
       "      <td>NaN</td>\n",
       "    </tr>\n",
       "    <tr>\n",
       "      <th>r_20170904-085005</th>\n",
       "      <td>BTC</td>\n",
       "      <td>1.0</td>\n",
       "      <td>Bitcoin</td>\n",
       "      <td>71411773702</td>\n",
       "      <td>$4316.74</td>\n",
       "      <td>16,542,987</td>\n",
       "      <td>$2,080,400,000</td>\n",
       "      <td>-2.51%</td>\n",
       "      <td>-6.91%</td>\n",
       "      <td>0.54%</td>\n",
       "      <td>...</td>\n",
       "      <td>NaN</td>\n",
       "      <td>NaN</td>\n",
       "      <td>NaN</td>\n",
       "      <td>NaN</td>\n",
       "      <td>NaN</td>\n",
       "      <td>NaN</td>\n",
       "      <td>NaN</td>\n",
       "      <td>NaN</td>\n",
       "      <td>NaN</td>\n",
       "      <td>NaN</td>\n",
       "    </tr>\n",
       "    <tr>\n",
       "      <th>r_20170819-065505</th>\n",
       "      <td>BTC</td>\n",
       "      <td>1.0</td>\n",
       "      <td>Bitcoin</td>\n",
       "      <td>67158717638</td>\n",
       "      <td>$4066.51</td>\n",
       "      <td>16,515,075</td>\n",
       "      <td>$2,796,620,000</td>\n",
       "      <td>-0.71%</td>\n",
       "      <td>-5.92%</td>\n",
       "      <td>9.26%</td>\n",
       "      <td>...</td>\n",
       "      <td>NaN</td>\n",
       "      <td>NaN</td>\n",
       "      <td>NaN</td>\n",
       "      <td>NaN</td>\n",
       "      <td>NaN</td>\n",
       "      <td>NaN</td>\n",
       "      <td>NaN</td>\n",
       "      <td>NaN</td>\n",
       "      <td>NaN</td>\n",
       "      <td>NaN</td>\n",
       "    </tr>\n",
       "    <tr>\n",
       "      <th>r_20170818-210005</th>\n",
       "      <td>BTC</td>\n",
       "      <td>1.0</td>\n",
       "      <td>Bitcoin</td>\n",
       "      <td>67243714005</td>\n",
       "      <td>$4071.86</td>\n",
       "      <td>16,514,250</td>\n",
       "      <td>$2,611,450,000</td>\n",
       "      <td>-1.38%</td>\n",
       "      <td>-5.83%</td>\n",
       "      <td>13.93%</td>\n",
       "      <td>...</td>\n",
       "      <td>NaN</td>\n",
       "      <td>NaN</td>\n",
       "      <td>NaN</td>\n",
       "      <td>NaN</td>\n",
       "      <td>NaN</td>\n",
       "      <td>NaN</td>\n",
       "      <td>NaN</td>\n",
       "      <td>NaN</td>\n",
       "      <td>NaN</td>\n",
       "      <td>NaN</td>\n",
       "    </tr>\n",
       "  </tbody>\n",
       "</table>\n",
       "<p>5 rows × 24 columns</p>\n",
       "</div>"
      ],
      "text/plain": [
       "                  symbol  ranking by market cap     name    market cap  \\\n",
       "file_name                                                                \n",
       "r_20170815-071005    BTC                    1.0  Bitcoin  70846063125    \n",
       "r_20170831-114005    BTC                    1.0  Bitcoin  76715293809    \n",
       "r_20170904-085005    BTC                    1.0  Bitcoin  71411773702    \n",
       "r_20170819-065505    BTC                    1.0  Bitcoin  67158717638    \n",
       "r_20170818-210005    BTC                    1.0  Bitcoin  67243714005    \n",
       "\n",
       "                      price circulating supply          volume    % 1h  \\\n",
       "file_name                                                                \n",
       "r_20170815-071005  $4291.75         16,507,500  $2,814,510,000  -2.16%   \n",
       "r_20170831-114005  $4639.63         16,534,787  $1,731,360,000   0.56%   \n",
       "r_20170904-085005  $4316.74         16,542,987  $2,080,400,000  -2.51%   \n",
       "r_20170819-065505  $4066.51         16,515,075  $2,796,620,000  -0.71%   \n",
       "r_20170818-210005  $4071.86         16,514,250  $2,611,450,000  -1.38%   \n",
       "\n",
       "                    % 24h   % 1wk  ...  market.1 cap.1 circulating supply   %  \\\n",
       "file_name                          ...                                          \n",
       "r_20170815-071005   5.57%  24.99%  ...       NaN   NaN         NaN    NaN NaN   \n",
       "r_20170831-114005   2.73%  10.53%  ...       NaN   NaN         NaN    NaN NaN   \n",
       "r_20170904-085005  -6.91%   0.54%  ...       NaN   NaN         NaN    NaN NaN   \n",
       "r_20170819-065505  -5.92%   9.26%  ...       NaN   NaN         NaN    NaN NaN   \n",
       "r_20170818-210005  -5.83%  13.93%  ...       NaN   NaN         NaN    NaN NaN   \n",
       "\n",
       "                   1h %.1  24h  %.2  1wk  \n",
       "file_name                                 \n",
       "r_20170815-071005 NaN NaN  NaN  NaN  NaN  \n",
       "r_20170831-114005 NaN NaN  NaN  NaN  NaN  \n",
       "r_20170904-085005 NaN NaN  NaN  NaN  NaN  \n",
       "r_20170819-065505 NaN NaN  NaN  NaN  NaN  \n",
       "r_20170818-210005 NaN NaN  NaN  NaN  NaN  \n",
       "\n",
       "[5 rows x 24 columns]"
      ]
     },
     "execution_count": 238,
     "metadata": {},
     "output_type": "execute_result"
    }
   ],
   "source": [
    "btc_train = original_btc_train.set_index('file_name')\n",
    "btc_train.head()"
   ]
  },
  {
   "cell_type": "code",
   "execution_count": 239,
   "metadata": {
    "collapsed": false,
    "jupyter": {
     "outputs_hidden": false
    },
    "pycharm": {
     "is_executing": true,
     "name": "#%%\n"
    }
   },
   "outputs": [
    {
     "data": {
      "text/html": [
       "<div>\n",
       "<style scoped>\n",
       "    .dataframe tbody tr th:only-of-type {\n",
       "        vertical-align: middle;\n",
       "    }\n",
       "\n",
       "    .dataframe tbody tr th {\n",
       "        vertical-align: top;\n",
       "    }\n",
       "\n",
       "    .dataframe thead th {\n",
       "        text-align: right;\n",
       "    }\n",
       "</style>\n",
       "<table border=\"1\" class=\"dataframe\">\n",
       "  <thead>\n",
       "    <tr style=\"text-align: right;\">\n",
       "      <th></th>\n",
       "      <th>market cap</th>\n",
       "    </tr>\n",
       "    <tr>\n",
       "      <th>file_name</th>\n",
       "      <th></th>\n",
       "    </tr>\n",
       "  </thead>\n",
       "  <tbody>\n",
       "    <tr>\n",
       "      <th>r_20170815-071005</th>\n",
       "      <td>70846063125</td>\n",
       "    </tr>\n",
       "    <tr>\n",
       "      <th>r_20170831-114005</th>\n",
       "      <td>76715293809</td>\n",
       "    </tr>\n",
       "    <tr>\n",
       "      <th>r_20170904-085005</th>\n",
       "      <td>71411773702</td>\n",
       "    </tr>\n",
       "    <tr>\n",
       "      <th>r_20170819-065505</th>\n",
       "      <td>67158717638</td>\n",
       "    </tr>\n",
       "    <tr>\n",
       "      <th>r_20170818-210005</th>\n",
       "      <td>67243714005</td>\n",
       "    </tr>\n",
       "  </tbody>\n",
       "</table>\n",
       "</div>"
      ],
      "text/plain": [
       "                     market cap\n",
       "file_name                      \n",
       "r_20170815-071005  70846063125 \n",
       "r_20170831-114005  76715293809 \n",
       "r_20170904-085005  71411773702 \n",
       "r_20170819-065505  67158717638 \n",
       "r_20170818-210005  67243714005 "
      ]
     },
     "execution_count": 239,
     "metadata": {},
     "output_type": "execute_result"
    }
   ],
   "source": [
    "market_cap = btc_train[['market cap']]\n",
    "market_cap.head()"
   ]
  },
  {
   "cell_type": "markdown",
   "metadata": {
    "pycharm": {
     "name": "#%% md\n"
    }
   },
   "source": [
    "### Rolling Mean (Moving Average) — to determine trend\n",
    "\n",
    "A simple moving average, also called a rolling or running average is formed by computing the average price of a security over a specific number of periods. Most moving averages are based on closing prices; for example, a 5-day simple moving average is the five-day sum of closing prices divided by five. As its name implies, a moving average is an average that moves. Old data is dropped as new data becomes available, causing the average to move along the time scale. The example below shows a 5-day moving average evolving over three days.\n",
    "\n",
    "```\n",
    "Daily Closing Prices: 11,12,13,14,15,16,17\n",
    "\n",
    "First day of 5-day SMA: (11 + 12 + 13 + 14 + 15) / 5 = 13\n",
    "\n",
    "Second day of 5-day SMA: (12 + 13 + 14 + 15 + 16) / 5 = 14\n",
    "\n",
    "Third day of 5-day SMA: (13 + 14 + 15 + 16 + 17) / 5 = 15\n",
    "```\n",
    "\n",
    "![img](https://i.imgur.com/TpOZqYb.png)\n",
    "\n",
    "The first day of the moving average simply covers the last five days. The second day of the moving average drops the first data point (11) and adds the new data point (16).\n",
    "\n",
    "So the simple moving average is the unweighted mean of the previous M data points. The selection of M (sliding window) depends on the amount of smoothing desired since increasing the value of M improves the smoothing at the expense of accuracy.\n",
    "\n",
    "The moving average is used to analyze the time-series data by calculating averages of different subsets of the complete dataset. Since it involves taking the average of the dataset over time, it is also called a moving mean (MM) or rolling mean. Moving averages are widely used in finance to determine trends in the market and in environmental engineering to evaluate standards for environmental quality such as the concentration of pollutants.\n",
    "\n",
    "The easiest way to calculate the simple moving average is by using the pandas.Series.rolling method. This method provides rolling windows over the data. On the resulting windows, we can perform calculations using a statistical function (in this case the mean). The size of the window (number of periods) is specified in the argument window."
   ]
  },
  {
   "cell_type": "code",
   "execution_count": 240,
   "metadata": {
    "collapsed": false,
    "jupyter": {
     "outputs_hidden": false
    },
    "pycharm": {
     "is_executing": true,
     "name": "#%%\n"
    }
   },
   "outputs": [
    {
     "data": {
      "text/html": [
       "<div>\n",
       "<style scoped>\n",
       "    .dataframe tbody tr th:only-of-type {\n",
       "        vertical-align: middle;\n",
       "    }\n",
       "\n",
       "    .dataframe tbody tr th {\n",
       "        vertical-align: top;\n",
       "    }\n",
       "\n",
       "    .dataframe thead th {\n",
       "        text-align: right;\n",
       "    }\n",
       "</style>\n",
       "<table border=\"1\" class=\"dataframe\">\n",
       "  <thead>\n",
       "    <tr style=\"text-align: right;\">\n",
       "      <th></th>\n",
       "      <th>market cap</th>\n",
       "    </tr>\n",
       "    <tr>\n",
       "      <th>file_name</th>\n",
       "      <th></th>\n",
       "    </tr>\n",
       "  </thead>\n",
       "  <tbody>\n",
       "    <tr>\n",
       "      <th>r_20170815-071005</th>\n",
       "      <td>NaN</td>\n",
       "    </tr>\n",
       "    <tr>\n",
       "      <th>r_20170831-114005</th>\n",
       "      <td>NaN</td>\n",
       "    </tr>\n",
       "    <tr>\n",
       "      <th>r_20170904-085005</th>\n",
       "      <td>7.299104e+10</td>\n",
       "    </tr>\n",
       "    <tr>\n",
       "      <th>r_20170819-065505</th>\n",
       "      <td>7.176193e+10</td>\n",
       "    </tr>\n",
       "    <tr>\n",
       "      <th>r_20170818-210005</th>\n",
       "      <td>6.860474e+10</td>\n",
       "    </tr>\n",
       "    <tr>\n",
       "      <th>...</th>\n",
       "      <td>...</td>\n",
       "    </tr>\n",
       "    <tr>\n",
       "      <th>r_20170904-132006</th>\n",
       "      <td>7.052990e+10</td>\n",
       "    </tr>\n",
       "    <tr>\n",
       "      <th>r_20170817-190505</th>\n",
       "      <td>6.962013e+10</td>\n",
       "    </tr>\n",
       "    <tr>\n",
       "      <th>r_20170829-064005</th>\n",
       "      <td>7.137721e+10</td>\n",
       "    </tr>\n",
       "    <tr>\n",
       "      <th>r_20170824-044005</th>\n",
       "      <td>7.044795e+10</td>\n",
       "    </tr>\n",
       "    <tr>\n",
       "      <th>r_20170821-103506</th>\n",
       "      <td>6.945290e+10</td>\n",
       "    </tr>\n",
       "  </tbody>\n",
       "</table>\n",
       "<p>9431 rows × 1 columns</p>\n",
       "</div>"
      ],
      "text/plain": [
       "                     market cap\n",
       "file_name                      \n",
       "r_20170815-071005           NaN\n",
       "r_20170831-114005           NaN\n",
       "r_20170904-085005  7.299104e+10\n",
       "r_20170819-065505  7.176193e+10\n",
       "r_20170818-210005  6.860474e+10\n",
       "...                         ...\n",
       "r_20170904-132006  7.052990e+10\n",
       "r_20170817-190505  6.962013e+10\n",
       "r_20170829-064005  7.137721e+10\n",
       "r_20170824-044005  7.044795e+10\n",
       "r_20170821-103506  6.945290e+10\n",
       "\n",
       "[9431 rows x 1 columns]"
      ]
     },
     "execution_count": 240,
     "metadata": {},
     "output_type": "execute_result"
    }
   ],
   "source": [
    "market_cap.rolling(window=3).mean()"
   ]
  },
  {
   "cell_type": "code",
   "execution_count": 241,
   "metadata": {
    "collapsed": false,
    "jupyter": {
     "outputs_hidden": false
    },
    "pycharm": {
     "is_executing": true,
     "name": "#%%\n"
    }
   },
   "outputs": [
    {
     "name": "stderr",
     "output_type": "stream",
     "text": [
      "/home/paul/anaconda3/lib/python3.7/site-packages/ipykernel_launcher.py:1: SettingWithCopyWarning: \n",
      "A value is trying to be set on a copy of a slice from a DataFrame.\n",
      "Try using .loc[row_indexer,col_indexer] = value instead\n",
      "\n",
      "See the caveats in the documentation: https://pandas.pydata.org/pandas-docs/stable/user_guide/indexing.html#returning-a-view-versus-a-copy\n",
      "  \"\"\"Entry point for launching an IPython kernel.\n",
      "/home/paul/anaconda3/lib/python3.7/site-packages/ipykernel_launcher.py:2: SettingWithCopyWarning: \n",
      "A value is trying to be set on a copy of a slice from a DataFrame.\n",
      "Try using .loc[row_indexer,col_indexer] = value instead\n",
      "\n",
      "See the caveats in the documentation: https://pandas.pydata.org/pandas-docs/stable/user_guide/indexing.html#returning-a-view-versus-a-copy\n",
      "  \n",
      "/home/paul/anaconda3/lib/python3.7/site-packages/ipykernel_launcher.py:3: SettingWithCopyWarning: \n",
      "A value is trying to be set on a copy of a slice from a DataFrame.\n",
      "Try using .loc[row_indexer,col_indexer] = value instead\n",
      "\n",
      "See the caveats in the documentation: https://pandas.pydata.org/pandas-docs/stable/user_guide/indexing.html#returning-a-view-versus-a-copy\n",
      "  This is separate from the ipykernel package so we can avoid doing imports until\n"
     ]
    },
    {
     "data": {
      "text/html": [
       "<div>\n",
       "<style scoped>\n",
       "    .dataframe tbody tr th:only-of-type {\n",
       "        vertical-align: middle;\n",
       "    }\n",
       "\n",
       "    .dataframe tbody tr th {\n",
       "        vertical-align: top;\n",
       "    }\n",
       "\n",
       "    .dataframe thead th {\n",
       "        text-align: right;\n",
       "    }\n",
       "</style>\n",
       "<table border=\"1\" class=\"dataframe\">\n",
       "  <thead>\n",
       "    <tr style=\"text-align: right;\">\n",
       "      <th></th>\n",
       "      <th>market cap</th>\n",
       "      <th>ma_rolling_3-Day</th>\n",
       "      <th>ma_rolling_30-Day</th>\n",
       "      <th>ma_rolling_3-Months</th>\n",
       "    </tr>\n",
       "    <tr>\n",
       "      <th>file_name</th>\n",
       "      <th></th>\n",
       "      <th></th>\n",
       "      <th></th>\n",
       "      <th></th>\n",
       "    </tr>\n",
       "  </thead>\n",
       "  <tbody>\n",
       "    <tr>\n",
       "      <th>r_20170815-071005</th>\n",
       "      <td>70846063125</td>\n",
       "      <td>NaN</td>\n",
       "      <td>NaN</td>\n",
       "      <td>NaN</td>\n",
       "    </tr>\n",
       "    <tr>\n",
       "      <th>r_20170831-114005</th>\n",
       "      <td>76715293809</td>\n",
       "      <td>NaN</td>\n",
       "      <td>NaN</td>\n",
       "      <td>NaN</td>\n",
       "    </tr>\n",
       "    <tr>\n",
       "      <th>r_20170904-085005</th>\n",
       "      <td>71411773702</td>\n",
       "      <td>NaN</td>\n",
       "      <td>NaN</td>\n",
       "      <td>NaN</td>\n",
       "    </tr>\n",
       "    <tr>\n",
       "      <th>r_20170819-065505</th>\n",
       "      <td>67158717638</td>\n",
       "      <td>7.299104e+10</td>\n",
       "      <td>NaN</td>\n",
       "      <td>NaN</td>\n",
       "    </tr>\n",
       "    <tr>\n",
       "      <th>r_20170818-210005</th>\n",
       "      <td>67243714005</td>\n",
       "      <td>7.176193e+10</td>\n",
       "      <td>NaN</td>\n",
       "      <td>NaN</td>\n",
       "    </tr>\n",
       "    <tr>\n",
       "      <th>...</th>\n",
       "      <td>...</td>\n",
       "      <td>...</td>\n",
       "      <td>...</td>\n",
       "      <td>...</td>\n",
       "    </tr>\n",
       "    <tr>\n",
       "      <th>r_20170904-132006</th>\n",
       "      <td>71308175058</td>\n",
       "      <td>6.985996e+10</td>\n",
       "      <td>6.701422e+10</td>\n",
       "      <td>6.704794e+10</td>\n",
       "    </tr>\n",
       "    <tr>\n",
       "      <th>r_20170817-190505</th>\n",
       "      <td>70475225454</td>\n",
       "      <td>7.052990e+10</td>\n",
       "      <td>6.752149e+10</td>\n",
       "      <td>6.724237e+10</td>\n",
       "    </tr>\n",
       "    <tr>\n",
       "      <th>r_20170829-064005</th>\n",
       "      <td>72348215185</td>\n",
       "      <td>6.962013e+10</td>\n",
       "      <td>6.799893e+10</td>\n",
       "      <td>6.726716e+10</td>\n",
       "    </tr>\n",
       "    <tr>\n",
       "      <th>r_20170824-044005</th>\n",
       "      <td>68520412389</td>\n",
       "      <td>7.137721e+10</td>\n",
       "      <td>6.867417e+10</td>\n",
       "      <td>6.740239e+10</td>\n",
       "    </tr>\n",
       "    <tr>\n",
       "      <th>r_20170821-103506</th>\n",
       "      <td>67490059171</td>\n",
       "      <td>7.044795e+10</td>\n",
       "      <td>6.869882e+10</td>\n",
       "      <td>6.738047e+10</td>\n",
       "    </tr>\n",
       "  </tbody>\n",
       "</table>\n",
       "<p>9431 rows × 4 columns</p>\n",
       "</div>"
      ],
      "text/plain": [
       "                     market cap  ma_rolling_3-Day  ma_rolling_30-Day  \\\n",
       "file_name                                                              \n",
       "r_20170815-071005  70846063125                NaN                NaN   \n",
       "r_20170831-114005  76715293809                NaN                NaN   \n",
       "r_20170904-085005  71411773702                NaN                NaN   \n",
       "r_20170819-065505  67158717638       7.299104e+10                NaN   \n",
       "r_20170818-210005  67243714005       7.176193e+10                NaN   \n",
       "...                         ...               ...                ...   \n",
       "r_20170904-132006  71308175058       6.985996e+10       6.701422e+10   \n",
       "r_20170817-190505  70475225454       7.052990e+10       6.752149e+10   \n",
       "r_20170829-064005  72348215185       6.962013e+10       6.799893e+10   \n",
       "r_20170824-044005  68520412389       7.137721e+10       6.867417e+10   \n",
       "r_20170821-103506  67490059171       7.044795e+10       6.869882e+10   \n",
       "\n",
       "                   ma_rolling_3-Months  \n",
       "file_name                               \n",
       "r_20170815-071005                  NaN  \n",
       "r_20170831-114005                  NaN  \n",
       "r_20170904-085005                  NaN  \n",
       "r_20170819-065505                  NaN  \n",
       "r_20170818-210005                  NaN  \n",
       "...                                ...  \n",
       "r_20170904-132006         6.704794e+10  \n",
       "r_20170817-190505         6.724237e+10  \n",
       "r_20170829-064005         6.726716e+10  \n",
       "r_20170824-044005         6.740239e+10  \n",
       "r_20170821-103506         6.738047e+10  \n",
       "\n",
       "[9431 rows x 4 columns]"
      ]
     },
     "execution_count": 241,
     "metadata": {},
     "output_type": "execute_result"
    }
   ],
   "source": [
    "market_cap['ma_rolling_3-Day'] = market_cap['market cap'].rolling(window=3).mean().shift(1)\n",
    "market_cap['ma_rolling_30-Day'] = market_cap['market cap'].rolling(window=30).mean().shift(1)\n",
    "market_cap['ma_rolling_3-Months'] = market_cap['market cap'].rolling(window=90).mean().shift(1)\n",
    "market_cap"
   ]
  },
  {
   "cell_type": "code",
   "execution_count": 242,
   "metadata": {
    "collapsed": false,
    "jupyter": {
     "outputs_hidden": false
    },
    "pycharm": {
     "is_executing": true,
     "name": "#%%\n"
    }
   },
   "outputs": [
    {
     "data": {
      "text/plain": [
       "<matplotlib.axes._subplots.AxesSubplot at 0x7f2fd1907210>"
      ]
     },
     "execution_count": 242,
     "metadata": {},
     "output_type": "execute_result"
    },
    {
     "data": {
      "image/png": "[encoded data removed]",
      "text/plain": [
       "<Figure size 1440x432 with 1 Axes>"
      ]
     },
     "metadata": {
      "needs_background": "light"
     },
     "output_type": "display_data"
    }
   ],
   "source": [
    "colors = ['steelblue', 'red', 'purple', 'black']\n",
    "\n",
    "market_cap.plot(color=colors, linewidth=2, figsize=(20,6))\n"
   ]
  },
  {
   "cell_type": "markdown",
   "metadata": {
    "pycharm": {
     "name": "#%% md\n"
    }
   },
   "source": [
    "### Weighted moving average\n",
    "\n",
    "Weighted moving average = (t weighting factor) + ((t-1) weighting factor-1) + ((t-n) * weighting factor-n)/n\n",
    "\n",
    "**weighted moving average assigns a specific weight or frequency to each observation, with the most recent observation being assigned a greater weight than those in the distant past to obtain the average.**\n",
    "\n",
    "**Example**\n",
    "\n",
    "Assume that the number of periods is 10, and we want a weighted moving average of four stock prices of $70, $66, $68, and $69, with the first price being the most recent.\n",
    "\n",
    "Using the information given, the most recent weighting will be 4/10, the previous period before that will be 3/10, and the next period before that will be 2/10, and the initial period weighting will be 1/10.\n",
    "\n",
    "The weighting average for the four different prices will be calculated as follows:\n",
    "\n",
    "#### WMA = [70 x (4/10)] + [66 x (3/10)] + [68 x (2/10)] + [69 x (1/10)]\n",
    "\n",
    "WMA = $28 + $19.80 + $13.60 + $6.90 = $68.30\n",
    "\n",
    "![img](https://i.imgur.com/MZO1bbC.png)\n",
    "\n",
    "The accuracy of this model depends largely on your choice of weighting factors. If the time series pattern changes, you must also adapt the weighting factors.\n",
    "\n",
    "When creating a weighting group, you enter the weighting factors as percentages. The sum of the weighting factors does not have to be 100%."
   ]
  },
  {
   "cell_type": "code",
   "execution_count": 243,
   "metadata": {
    "collapsed": false,
    "jupyter": {
     "outputs_hidden": false
    },
    "pycharm": {
     "name": "#%%\n"
    }
   },
   "outputs": [
    {
     "name": "stderr",
     "output_type": "stream",
     "text": [
      "/home/paul/anaconda3/lib/python3.7/site-packages/ipykernel_launcher.py:8: SettingWithCopyWarning: \n",
      "A value is trying to be set on a copy of a slice from a DataFrame.\n",
      "Try using .loc[row_indexer,col_indexer] = value instead\n",
      "\n",
      "See the caveats in the documentation: https://pandas.pydata.org/pandas-docs/stable/user_guide/indexing.html#returning-a-view-versus-a-copy\n",
      "  \n"
     ]
    },
    {
     "data": {
      "text/plain": [
       "<matplotlib.axes._subplots.AxesSubplot at 0x7f2fd167f750>"
      ]
     },
     "execution_count": 243,
     "metadata": {},
     "output_type": "execute_result"
    },
    {
     "data": {
      "image/png": "[encoded data removed]",
      "text/plain": [
       "<Figure size 1440x432 with 1 Axes>"
      ]
     },
     "metadata": {
      "needs_background": "light"
     },
     "output_type": "display_data"
    }
   ],
   "source": [
    "def weighted_mov_avg(weights):\n",
    "    def calc(x):\n",
    "        return (weights*x).mean()\n",
    "    return calc\n",
    "\n",
    "market_cap['market cap'].rolling(window=3).apply(weighted_mov_avg(np.array([0.5,1,1.5]))).shift(1)\n",
    "\n",
    "market_cap['wma_rolling_3'] = market_cap['market cap'].rolling(window=3).apply(weighted_mov_avg(np.array([0.5,1,1.5]))).shift(1)\n",
    "market_cap.plot(color=colors, linewidth=2, figsize=(20,6))"
   ]
  },
  {
   "cell_type": "markdown",
   "metadata": {
    "pycharm": {
     "name": "#%% md\n"
    }
   },
   "source": [
    "### Exponentially weighted moving average (EMA)\n",
    "\n",
    "![img](https://i.imgur.com/bFRUfN3.png)\n",
    "\n",
    "The formula states that the value of the moving average(S) at time t is a mix between the value of raw signal(x) at time t and the previous value of the moving average itself i.e. t-1. It is basically a value between the previous EMA and the current price The degree of mixing is controlled by the parameter a (value between 0–1).\n",
    "\n",
    "The 'a' in the above is called the smoothing factor and sometime also denonted as  **𝛼** ( alpha ) is defined as:\n",
    "\n",
    "![img](https://i.imgur.com/DCXU7Vc.jpg)\n",
    "\n",
    "where 𝑛 is the number of days in our span. Therefore, a 10-day EMA will have a smoothing factor:\n",
    "\n",
    "So the above Formulae can also be written as by simpley re-arranging the terms in the above formulae\n",
    "\n",
    "### Exponential moving average = (Closing Price - Previous EMA) * (2/(Alpha + 1)) + Previous EMA\n",
    "\n",
    "So,\n",
    "- if a = 10%(small), most of the contribution will come from the previous value of the signal. In this case, “smoothing” will be very strong.\n",
    "- if a = 90%(large), most of the contribution will come from the current value of the signal. In this case, “smoothing” will be minimum.\n"
   ]
  },
  {
   "cell_type": "markdown",
   "metadata": {
    "pycharm": {
     "name": "#%% md\n"
    }
   },
   "source": [
    "By looking at the documentation, we can note that the .ewm() method has an adjust parameter that defaults to True. This parameter adjusts the weights to account for the imbalance in the beginning periods (if you need more detail, see the Exponentially weighted windows section in the [pandas documentation](https://pandas.pydata.org/pandas-docs/stable/user_guide/computation.html#exponentially-weighted-windows))."
   ]
  },
  {
   "cell_type": "code",
   "execution_count": 244,
   "metadata": {
    "collapsed": false,
    "jupyter": {
     "outputs_hidden": false
    },
    "pycharm": {
     "name": "#%%\n"
    }
   },
   "outputs": [
    {
     "data": {
      "text/plain": [
       "file_name\n",
       "r_20170815-071005    7.084606e+10\n",
       "r_20170831-114005    7.378068e+10\n",
       "r_20170904-085005    7.259623e+10\n",
       "r_20170819-065505    6.987747e+10\n",
       "r_20170818-210005    6.856059e+10\n",
       "                         ...     \n",
       "r_20170904-132006    6.978009e+10\n",
       "r_20170817-190505    7.012766e+10\n",
       "r_20170829-064005    7.123794e+10\n",
       "r_20170824-044005    6.987917e+10\n",
       "r_20170821-103506    6.868462e+10\n",
       "Name: market cap, Length: 9431, dtype: float64"
      ]
     },
     "execution_count": 244,
     "metadata": {},
     "output_type": "execute_result"
    }
   ],
   "source": [
    "# Now lets implement the ewm() function of Pandas\n",
    "market_cap['market cap'].ewm(span=3, adjust=False, min_periods=0).mean()"
   ]
  },
  {
   "cell_type": "code",
   "execution_count": 245,
   "metadata": {
    "collapsed": false,
    "jupyter": {
     "outputs_hidden": false
    },
    "pycharm": {
     "name": "#%%\n"
    }
   },
   "outputs": [
    {
     "name": "stderr",
     "output_type": "stream",
     "text": [
      "/home/paul/anaconda3/lib/python3.7/site-packages/ipykernel_launcher.py:1: SettingWithCopyWarning: \n",
      "A value is trying to be set on a copy of a slice from a DataFrame.\n",
      "Try using .loc[row_indexer,col_indexer] = value instead\n",
      "\n",
      "See the caveats in the documentation: https://pandas.pydata.org/pandas-docs/stable/user_guide/indexing.html#returning-a-view-versus-a-copy\n",
      "  \"\"\"Entry point for launching an IPython kernel.\n"
     ]
    },
    {
     "data": {
      "text/html": [
       "<div>\n",
       "<style scoped>\n",
       "    .dataframe tbody tr th:only-of-type {\n",
       "        vertical-align: middle;\n",
       "    }\n",
       "\n",
       "    .dataframe tbody tr th {\n",
       "        vertical-align: top;\n",
       "    }\n",
       "\n",
       "    .dataframe thead th {\n",
       "        text-align: right;\n",
       "    }\n",
       "</style>\n",
       "<table border=\"1\" class=\"dataframe\">\n",
       "  <thead>\n",
       "    <tr style=\"text-align: right;\">\n",
       "      <th></th>\n",
       "      <th>market cap</th>\n",
       "      <th>ma_rolling_3-Day</th>\n",
       "      <th>ma_rolling_30-Day</th>\n",
       "      <th>ma_rolling_3-Months</th>\n",
       "      <th>wma_rolling_3</th>\n",
       "      <th>ewm_window_3</th>\n",
       "    </tr>\n",
       "    <tr>\n",
       "      <th>file_name</th>\n",
       "      <th></th>\n",
       "      <th></th>\n",
       "      <th></th>\n",
       "      <th></th>\n",
       "      <th></th>\n",
       "      <th></th>\n",
       "    </tr>\n",
       "  </thead>\n",
       "  <tbody>\n",
       "    <tr>\n",
       "      <th>r_20170815-071005</th>\n",
       "      <td>70846063125</td>\n",
       "      <td>NaN</td>\n",
       "      <td>NaN</td>\n",
       "      <td>NaN</td>\n",
       "      <td>NaN</td>\n",
       "      <td>NaN</td>\n",
       "    </tr>\n",
       "    <tr>\n",
       "      <th>r_20170831-114005</th>\n",
       "      <td>76715293809</td>\n",
       "      <td>NaN</td>\n",
       "      <td>NaN</td>\n",
       "      <td>NaN</td>\n",
       "      <td>NaN</td>\n",
       "      <td>7.084606e+10</td>\n",
       "    </tr>\n",
       "    <tr>\n",
       "      <th>r_20170904-085005</th>\n",
       "      <td>71411773702</td>\n",
       "      <td>NaN</td>\n",
       "      <td>NaN</td>\n",
       "      <td>NaN</td>\n",
       "      <td>NaN</td>\n",
       "      <td>7.378068e+10</td>\n",
       "    </tr>\n",
       "    <tr>\n",
       "      <th>r_20170819-065505</th>\n",
       "      <td>67158717638</td>\n",
       "      <td>7.299104e+10</td>\n",
       "      <td>NaN</td>\n",
       "      <td>NaN</td>\n",
       "      <td>7.308533e+10</td>\n",
       "      <td>7.259623e+10</td>\n",
       "    </tr>\n",
       "    <tr>\n",
       "      <th>r_20170818-210005</th>\n",
       "      <td>67243714005</td>\n",
       "      <td>7.176193e+10</td>\n",
       "      <td>NaN</td>\n",
       "      <td>NaN</td>\n",
       "      <td>7.016917e+10</td>\n",
       "      <td>6.987747e+10</td>\n",
       "    </tr>\n",
       "    <tr>\n",
       "      <th>...</th>\n",
       "      <td>...</td>\n",
       "      <td>...</td>\n",
       "      <td>...</td>\n",
       "      <td>...</td>\n",
       "      <td>...</td>\n",
       "      <td>...</td>\n",
       "    </tr>\n",
       "    <tr>\n",
       "      <th>r_20170904-132006</th>\n",
       "      <td>71308175058</td>\n",
       "      <td>6.985996e+10</td>\n",
       "      <td>6.701422e+10</td>\n",
       "      <td>6.704794e+10</td>\n",
       "      <td>6.948973e+10</td>\n",
       "      <td>6.825201e+10</td>\n",
       "    </tr>\n",
       "    <tr>\n",
       "      <th>r_20170817-190505</th>\n",
       "      <td>70475225454</td>\n",
       "      <td>7.052990e+10</td>\n",
       "      <td>6.752149e+10</td>\n",
       "      <td>6.724237e+10</td>\n",
       "      <td>7.021384e+10</td>\n",
       "      <td>6.978009e+10</td>\n",
       "    </tr>\n",
       "    <tr>\n",
       "      <th>r_20170829-064005</th>\n",
       "      <td>72348215185</td>\n",
       "      <td>6.962013e+10</td>\n",
       "      <td>6.799893e+10</td>\n",
       "      <td>6.726716e+10</td>\n",
       "      <td>7.018650e+10</td>\n",
       "      <td>7.012766e+10</td>\n",
       "    </tr>\n",
       "    <tr>\n",
       "      <th>r_20170824-044005</th>\n",
       "      <td>68520412389</td>\n",
       "      <td>7.137721e+10</td>\n",
       "      <td>6.867417e+10</td>\n",
       "      <td>6.740239e+10</td>\n",
       "      <td>7.155055e+10</td>\n",
       "      <td>7.123794e+10</td>\n",
       "    </tr>\n",
       "    <tr>\n",
       "      <th>r_20170821-103506</th>\n",
       "      <td>67490059171</td>\n",
       "      <td>7.044795e+10</td>\n",
       "      <td>6.869882e+10</td>\n",
       "      <td>6.738047e+10</td>\n",
       "      <td>7.012215e+10</td>\n",
       "      <td>6.987917e+10</td>\n",
       "    </tr>\n",
       "  </tbody>\n",
       "</table>\n",
       "<p>9431 rows × 6 columns</p>\n",
       "</div>"
      ],
      "text/plain": [
       "                     market cap  ma_rolling_3-Day  ma_rolling_30-Day  \\\n",
       "file_name                                                              \n",
       "r_20170815-071005  70846063125                NaN                NaN   \n",
       "r_20170831-114005  76715293809                NaN                NaN   \n",
       "r_20170904-085005  71411773702                NaN                NaN   \n",
       "r_20170819-065505  67158717638       7.299104e+10                NaN   \n",
       "r_20170818-210005  67243714005       7.176193e+10                NaN   \n",
       "...                         ...               ...                ...   \n",
       "r_20170904-132006  71308175058       6.985996e+10       6.701422e+10   \n",
       "r_20170817-190505  70475225454       7.052990e+10       6.752149e+10   \n",
       "r_20170829-064005  72348215185       6.962013e+10       6.799893e+10   \n",
       "r_20170824-044005  68520412389       7.137721e+10       6.867417e+10   \n",
       "r_20170821-103506  67490059171       7.044795e+10       6.869882e+10   \n",
       "\n",
       "                   ma_rolling_3-Months  wma_rolling_3  ewm_window_3  \n",
       "file_name                                                            \n",
       "r_20170815-071005                  NaN            NaN           NaN  \n",
       "r_20170831-114005                  NaN            NaN  7.084606e+10  \n",
       "r_20170904-085005                  NaN            NaN  7.378068e+10  \n",
       "r_20170819-065505                  NaN   7.308533e+10  7.259623e+10  \n",
       "r_20170818-210005                  NaN   7.016917e+10  6.987747e+10  \n",
       "...                                ...            ...           ...  \n",
       "r_20170904-132006         6.704794e+10   6.948973e+10  6.825201e+10  \n",
       "r_20170817-190505         6.724237e+10   7.021384e+10  6.978009e+10  \n",
       "r_20170829-064005         6.726716e+10   7.018650e+10  7.012766e+10  \n",
       "r_20170824-044005         6.740239e+10   7.155055e+10  7.123794e+10  \n",
       "r_20170821-103506         6.738047e+10   7.012215e+10  6.987917e+10  \n",
       "\n",
       "[9431 rows x 6 columns]"
      ]
     },
     "execution_count": 245,
     "metadata": {},
     "output_type": "execute_result"
    }
   ],
   "source": [
    "market_cap['ewm_window_3'] = market_cap['market cap'].ewm(span=3, adjust=False, min_periods=0).mean().shift(1)\n",
    "market_cap"
   ]
  },
  {
   "cell_type": "code",
   "execution_count": 246,
   "metadata": {
    "collapsed": false,
    "jupyter": {
     "outputs_hidden": false
    },
    "pycharm": {
     "name": "#%%\n"
    }
   },
   "outputs": [
    {
     "data": {
      "text/plain": [
       "<matplotlib.axes._subplots.AxesSubplot at 0x7f2fd1953190>"
      ]
     },
     "execution_count": 246,
     "metadata": {},
     "output_type": "execute_result"
    },
    {
     "data": {
      "image/png": "[encoded data removed]",
      "text/plain": [
       "<Figure size 1440x432 with 1 Axes>"
      ]
     },
     "metadata": {
      "needs_background": "light"
     },
     "output_type": "display_data"
    }
   ],
   "source": [
    "# market_cap.plot(color=colors, linewidth=2, figsize=(20,6))\n",
    "# Now that we have quite a few columns in the 'market_cap' dataframe\n",
    "# if I plot the moving averages of all of them, it would become so dense\n",
    "# and can not separately visible\n",
    "# so lets plot only the column 'ewm_window_3'\n",
    "market_cap[['ewm_window_3']].plot(color=colors, linewidth=2, figsize=(20,6))"
   ]
  },
  {
   "cell_type": "markdown",
   "source": [
    "### What Is Exponential Smoothing?\n",
    "Exponential smoothing is a time series forecasting method for univariate data. Exponential smoothing forecasting is a weighted sum of past observations, but the model explicitly uses an exponentially decreasing weight for past observations. Specifically, past observations are weighted with a geometrically decreasing ratio.\n",
    "\n",
    "The underlying idea of an exponential smoothing model is that, at each period, the model will learn a bit from the most recent demand observation and remember a bit of the last forecast it did.\n",
    "\n",
    "The smoothing parameter (or learning rate) alpha will determine how much importance is given to the most recent demand observation.\n",
    "\n",
    "![img](https://i.imgur.com/eL82Ugp.jpg)\n",
    "\n",
    "Where 0 <= alpha <= 1\n",
    "\n",
    "alpha is a ratio (or a percentage) and  of how much importance the model will allocate to the most recent observation compared to the importance of demand history. The one-step-ahead forecast for time  T+1 is a weighted average of all of the observations in the series  y1,…,yT"
   ],
   "metadata": {
    "collapsed": false,
    "pycharm": {
     "name": "#%% md\n"
    }
   }
  },
  {
   "cell_type": "code",
   "execution_count": null,
   "outputs": [],
   "source": [
    "market_cap['market cap'].ewm(alpha=0.7, adjust=False, min_periods=3).mean()\n"
   ],
   "metadata": {
    "collapsed": false,
    "pycharm": {
     "name": "#%%\n"
    }
   }
  }
 ],
 "metadata": {
  "kernelspec": {
   "display_name": "Python 3",
   "language": "python",
   "name": "python3"
  },
  "language_info": {
   "codemirror_mode": {
    "name": "ipython",
    "version": 3
   },
   "file_extension": ".py",
   "mimetype": "text/x-python",
   "name": "python",
   "nbconvert_exporter": "python",
   "pygments_lexer": "ipython3",
   "version": "3.7.6"
  }
 },
 "nbformat": 4,
 "nbformat_minor": 4
}