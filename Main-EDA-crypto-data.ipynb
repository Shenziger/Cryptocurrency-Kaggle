{
 "cells": [
  {
   "cell_type": "markdown",
   "metadata": {},
   "source": [
    "## Introduction\n",
    "EDA Notebook on Cryptcurrency Data\n",
    "There are 26000+ csv files in the current version of the dataset:"
   ]
  },
  {
   "cell_type": "code",
   "execution_count": 54,
   "metadata": {
    "_kg_hide-input": false,
    "collapsed": false,
    "jupyter": {
     "outputs_hidden": false
    }
   },
   "outputs": [],
   "source": [
    "from mpl_toolkits.mplot3d import Axes3D\n",
    "from sklearn.preprocessing import StandardScaler\n",
    "import matplotlib.pyplot as plt # plotting\n",
    "import numpy as np\n",
    "import os # for accessing directory structure\n",
    "import pandas as pd"
   ]
  },
  {
   "cell_type": "code",
   "execution_count": 55,
   "metadata": {
    "_kg_hide-input": false,
    "collapsed": false,
    "jupyter": {
     "outputs_hidden": false
    }
   },
   "outputs": [],
   "source": [
    "#for dirname, _, filenames in os.walk('/kaggle/input'):\n",
    "#    for filename in filenames:\n",
    "#         print(os.path.join(dirname, filename))\n",
    "\n",
    "\n",
    "# Above code will print it all like below, this was just for the initial checking\n",
    "# I am commenting out as this folder has 26000+ file names to pring\n",
    "# /kaggle/input/crypto-data/cr_20170822-152505.csv\n",
    "# /kaggle/input/crypto-data/cr_20170812-020505.csv\n",
    "# /kaggle/input/crypto-data/cr_20170813-065506.csv\n",
    "# /kaggle/input/crypto-data/cr_20171005-012506.csv"
   ]
  },
  {
   "cell_type": "code",
   "execution_count": 56,
   "metadata": {
    "_kg_hide-input": true
   },
   "outputs": [],
   "source": [
    "# Distribution graphs (histogram/bar graph) of column data\n",
    "def plotPerColumnDistribution(df, nGraphShown, nGraphPerRow):\n",
    "    nunique = df.nunique()\n",
    "    df = df[[col for col in df if nunique[col] > 1 and nunique[col] < 50]] # For displaying purposes, pick columns that have between 1 and 50 unique values\n",
    "    nRow, nCol = df.shape\n",
    "    columnNames = list(df)\n",
    "    nGraphRow = (nCol + nGraphPerRow - 1) / nGraphPerRow\n",
    "    plt.figure(num = None, figsize = (6 * nGraphPerRow, 8 * nGraphRow), dpi = 80, facecolor = 'w', edgecolor = 'k')\n",
    "    for i in range(min(nCol, nGraphShown)):\n",
    "        plt.subplot(nGraphRow, nGraphPerRow, i + 1)\n",
    "        columnDf = df.iloc[:, i]\n",
    "        if (not np.issubdtype(type(columnDf.iloc[0]), np.number)):\n",
    "            valueCounts = columnDf.value_counts()\n",
    "            valueCounts.plot.bar()\n",
    "        else:\n",
    "            columnDf.hist()\n",
    "        plt.ylabel('counts')\n",
    "        plt.xticks(rotation = 90)\n",
    "        plt.title(f'{columnNames[i]} (column {i})')\n",
    "    plt.tight_layout(pad = 1.0, w_pad = 1.0, h_pad = 1.0)\n",
    "    plt.show()\n"
   ]
  },
  {
   "cell_type": "code",
   "execution_count": 57,
   "metadata": {
    "_kg_hide-input": true
   },
   "outputs": [],
   "source": [
    "# Correlation matrix\n",
    "def plotCorrelationMatrix(df, graphWidth):\n",
    "    filename = df.dataframeName\n",
    "    df = df.dropna('columns') # drop columns with NaN\n",
    "    df = df[[col for col in df if df[col].nunique() > 1]] # keep columns where there are more than 1 unique values\n",
    "    if df.shape[1] < 2:\n",
    "        print(f'No correlation plots shown: The number of non-NaN or constant columns ({df.shape[1]}) is less than 2')\n",
    "        return\n",
    "    corr = df.corr()\n",
    "    plt.figure(num=None, figsize=(graphWidth, graphWidth), dpi=80, facecolor='w', edgecolor='k')\n",
    "    corrMat = plt.matshow(corr, fignum = 1)\n",
    "    plt.xticks(range(len(corr.columns)), corr.columns, rotation=90)\n",
    "    plt.yticks(range(len(corr.columns)), corr.columns)\n",
    "    plt.gca().xaxis.tick_bottom()\n",
    "    plt.colorbar(corrMat)\n",
    "    plt.title(f'Correlation Matrix for {filename}', fontsize=15)\n",
    "    plt.show()\n"
   ]
  },
  {
   "cell_type": "code",
   "execution_count": 58,
   "metadata": {
    "_kg_hide-input": true
   },
   "outputs": [],
   "source": [
    "# Scatter and density plots\n",
    "def plotScatterMatrix(df, plotSize, textSize):\n",
    "    df = df.select_dtypes(include =[np.number]) # keep only numerical columns\n",
    "    # Remove rows and columns that would lead to df being singular\n",
    "    df = df.dropna('columns')\n",
    "    df = df[[col for col in df if df[col].nunique() > 1]] # keep columns where there are more than 1 unique values\n",
    "    columnNames = list(df)\n",
    "    if len(columnNames) > 10: # reduce the number of columns for matrix inversion of kernel density plots\n",
    "        columnNames = columnNames[:10]\n",
    "    df = df[columnNames]\n",
    "    ax = pd.plotting.scatter_matrix(df, alpha=0.75, figsize=[plotSize, plotSize], diagonal='kde')\n",
    "    corrs = df.corr().values\n",
    "    for i, j in zip(*plt.np.triu_indices_from(ax, k = 1)):\n",
    "        ax[i, j].annotate('Corr. coef = %.3f' % corrs[i, j], (0.8, 0.2), xycoords='axes fraction', ha='center', va='center', size=textSize)\n",
    "    plt.suptitle('Scatter and Density Plot')\n",
    "    plt.show()"
   ]
  },
  {
   "cell_type": "code",
   "execution_count": 59,
   "metadata": {
    "collapsed": false,
    "jupyter": {
     "outputs_hidden": false
    },
    "pycharm": {
     "name": "#%%\n"
    }
   },
   "outputs": [],
   "source": [
    "# Define varable for the first 3 files\n",
    "\n",
    "nRowsRead = 1000 # specify 'None' if want to read whole file\n",
    "# These .csv may have more rows in reality, but we are only loading/previewing the first 1000 rows\n",
    "df1 = pd.read_csv('./kaggle/input/crypto-data/cr_20170804-034052.csv', delimiter=',', nrows = nRowsRead)\n",
    "df2 = pd.read_csv('./kaggle/input/crypto-data/cr_20170804-035004.csv', delimiter=',', nrows = nRowsRead)\n",
    "df3 = pd.read_csv('./kaggle/input/crypto-data/cr_20170804-040006.csv', delimiter=',', nrows = nRowsRead)"
   ]
  },
  {
   "cell_type": "code",
   "execution_count": 60,
   "metadata": {
    "_kg_hide-input": false,
    "collapsed": false,
    "jupyter": {
     "outputs_hidden": false
    }
   },
   "outputs": [
    {
     "name": "stdout",
     "output_type": "stream",
     "text": [
      "There are 1000 rows and 10 columns\n"
     ]
    }
   ],
   "source": [
    "# Let's check 1st file: /kaggle/input/crypto-data/cr_20170804-034052.csv\n",
    "nRowsRead = 1000 # specify 'None' if want to read whole file\n",
    "# cr_20170804-034052.csv may have more rows in reality, but we are only loading/previewing the first 1000 rows\n",
    "# df1.dataframeName = 'cr_20170804-034052.csv'\n",
    "nRow, nCol = df1.shape\n",
    "print(f'There are {nRow} rows and {nCol} columns')"
   ]
  },
  {
   "cell_type": "code",
   "execution_count": 61,
   "metadata": {
    "_kg_hide-input": false,
    "collapsed": false,
    "jupyter": {
     "outputs_hidden": false
    }
   },
   "outputs": [
    {
     "data": {
      "text/html": [
       "<div>\n",
       "<style scoped>\n",
       "    .dataframe tbody tr th:only-of-type {\n",
       "        vertical-align: middle;\n",
       "    }\n",
       "\n",
       "    .dataframe tbody tr th {\n",
       "        vertical-align: top;\n",
       "    }\n",
       "\n",
       "    .dataframe thead th {\n",
       "        text-align: right;\n",
       "    }\n",
       "</style>\n",
       "<table border=\"1\" class=\"dataframe\">\n",
       "  <thead>\n",
       "    <tr style=\"text-align: right;\">\n",
       "      <th></th>\n",
       "      <th>symbol</th>\n",
       "      <th>ranking by market cap</th>\n",
       "      <th>name</th>\n",
       "      <th>market cap</th>\n",
       "      <th>price</th>\n",
       "      <th>circulating supply</th>\n",
       "      <th>volume</th>\n",
       "      <th>% 1h</th>\n",
       "      <th>% 24h</th>\n",
       "      <th>% 1wk</th>\n",
       "    </tr>\n",
       "  </thead>\n",
       "  <tbody>\n",
       "    <tr>\n",
       "      <th>0</th>\n",
       "      <td>GMB</td>\n",
       "      <td>1011</td>\n",
       "      <td>Gambleo</td>\n",
       "      <td>?</td>\n",
       "      <td>$0.000895</td>\n",
       "      <td>?</td>\n",
       "      <td>*</td>\n",
       "      <td>Low Vol</td>\n",
       "      <td>?</td>\n",
       "      <td>?</td>\n",
       "    </tr>\n",
       "    <tr>\n",
       "      <th>1</th>\n",
       "      <td>FTC</td>\n",
       "      <td>164</td>\n",
       "      <td>Feathercoin</td>\n",
       "      <td>$9,481,236</td>\n",
       "      <td>$0.055794</td>\n",
       "      <td>169,932,600</td>\n",
       "      <td>$1,267,140</td>\n",
       "      <td>-0.05%</td>\n",
       "      <td>10.49%</td>\n",
       "      <td>4.99%</td>\n",
       "    </tr>\n",
       "    <tr>\n",
       "      <th>2</th>\n",
       "      <td>HCC</td>\n",
       "      <td>953</td>\n",
       "      <td>Happy Creator...</td>\n",
       "      <td>?</td>\n",
       "      <td>$0.000108</td>\n",
       "      <td>?</td>\n",
       "      <td>*</td>\n",
       "      <td>Low Vol</td>\n",
       "      <td>-0.02%</td>\n",
       "      <td>8.39%</td>\n",
       "    </tr>\n",
       "    <tr>\n",
       "      <th>3</th>\n",
       "      <td>BRX</td>\n",
       "      <td>288</td>\n",
       "      <td>Breakout Stake</td>\n",
       "      <td>$1,793,819</td>\n",
       "      <td>$0.286183</td>\n",
       "      <td>6,268,082</td>\n",
       "      <td>*</td>\n",
       "      <td>$4,778</td>\n",
       "      <td>-4.53%</td>\n",
       "      <td>3.35%</td>\n",
       "    </tr>\n",
       "    <tr>\n",
       "      <th>4</th>\n",
       "      <td>UNRC</td>\n",
       "      <td>872</td>\n",
       "      <td>UniversalRoya...</td>\n",
       "      <td>?</td>\n",
       "      <td>$0.005857</td>\n",
       "      <td>?</td>\n",
       "      <td>*</td>\n",
       "      <td>$664</td>\n",
       "      <td>3.98%</td>\n",
       "      <td>-7.83%</td>\n",
       "    </tr>\n",
       "  </tbody>\n",
       "</table>\n",
       "</div>"
      ],
      "text/plain": [
       "  symbol  ranking by market cap              name   market cap      price  \\\n",
       "0    GMB                   1011           Gambleo           ?   $0.000895   \n",
       "1    FTC                    164       Feathercoin  $9,481,236   $0.055794   \n",
       "2    HCC                    953  Happy Creator...           ?   $0.000108   \n",
       "3    BRX                    288    Breakout Stake  $1,793,819   $0.286183   \n",
       "4   UNRC                    872  UniversalRoya...           ?   $0.005857   \n",
       "\n",
       "  circulating supply      volume     % 1h   % 24h   % 1wk  \n",
       "0                  ?           *  Low Vol       ?       ?  \n",
       "1        169,932,600  $1,267,140   -0.05%  10.49%   4.99%  \n",
       "2                  ?           *  Low Vol  -0.02%   8.39%  \n",
       "3          6,268,082           *   $4,778  -4.53%   3.35%  \n",
       "4                  ?           *     $664   3.98%  -7.83%  "
      ]
     },
     "execution_count": 61,
     "metadata": {},
     "output_type": "execute_result"
    }
   ],
   "source": [
    "# Let's take a quick look at what the data looks like:\n",
    "df1.head(5)"
   ]
  },
  {
   "cell_type": "markdown",
   "metadata": {},
   "source": [
    "Distribution graphs (histogram/bar graph) of sampled columns:"
   ]
  },
  {
   "cell_type": "code",
   "execution_count": 62,
   "metadata": {
    "_kg_hide-input": false,
    "collapsed": false,
    "jupyter": {
     "outputs_hidden": false
    }
   },
   "outputs": [
    {
     "data": {
      "text/plain": [
       "<Figure size 2400x512 with 0 Axes>"
      ]
     },
     "metadata": {},
     "output_type": "display_data"
    }
   ],
   "source": [
    "plotPerColumnDistribution(df1, 10, 5)"
   ]
  },
  {
   "cell_type": "code",
   "execution_count": 63,
   "metadata": {
    "_kg_hide-input": false,
    "collapsed": false,
    "jupyter": {
     "outputs_hidden": false
    }
   },
   "outputs": [
    {
     "name": "stdout",
     "output_type": "stream",
     "text": [
      "There are 1000 rows and 10 columns\n"
     ]
    }
   ],
   "source": [
    "# Let's check 2nd file: /kaggle/input/crypto-data/cr_20170804-035004.csv\n",
    "df2.dataframeName = 'cr_20170804-035004.csv'\n",
    "nRow, nCol = df2.shape\n",
    "print(f'There are {nRow} rows and {nCol} columns')"
   ]
  },
  {
   "cell_type": "code",
   "execution_count": 64,
   "metadata": {
    "_kg_hide-input": false,
    "collapsed": false,
    "jupyter": {
     "outputs_hidden": false
    }
   },
   "outputs": [
    {
     "data": {
      "text/html": [
       "<div>\n",
       "<style scoped>\n",
       "    .dataframe tbody tr th:only-of-type {\n",
       "        vertical-align: middle;\n",
       "    }\n",
       "\n",
       "    .dataframe tbody tr th {\n",
       "        vertical-align: top;\n",
       "    }\n",
       "\n",
       "    .dataframe thead th {\n",
       "        text-align: right;\n",
       "    }\n",
       "</style>\n",
       "<table border=\"1\" class=\"dataframe\">\n",
       "  <thead>\n",
       "    <tr style=\"text-align: right;\">\n",
       "      <th></th>\n",
       "      <th>symbol</th>\n",
       "      <th>ranking by market cap</th>\n",
       "      <th>name</th>\n",
       "      <th>market cap</th>\n",
       "      <th>price</th>\n",
       "      <th>circulating supply</th>\n",
       "      <th>volume</th>\n",
       "      <th>% 1h</th>\n",
       "      <th>% 24h</th>\n",
       "      <th>% 1wk</th>\n",
       "    </tr>\n",
       "  </thead>\n",
       "  <tbody>\n",
       "    <tr>\n",
       "      <th>0</th>\n",
       "      <td>XBY</td>\n",
       "      <td>190</td>\n",
       "      <td>XtraBYtes</td>\n",
       "      <td>$7,422,935</td>\n",
       "      <td>$0.011420</td>\n",
       "      <td>650,000,000</td>\n",
       "      <td>*</td>\n",
       "      <td>$16,273</td>\n",
       "      <td>-1.36%</td>\n",
       "      <td>-0.03%</td>\n",
       "    </tr>\n",
       "    <tr>\n",
       "      <th>1</th>\n",
       "      <td>CPN</td>\n",
       "      <td>637</td>\n",
       "      <td>CompuCoin</td>\n",
       "      <td>$57,962</td>\n",
       "      <td>$0.002955</td>\n",
       "      <td>19,615,019</td>\n",
       "      <td>Low Vol</td>\n",
       "      <td>0.34%</td>\n",
       "      <td>-4.69%</td>\n",
       "      <td>-31.49%</td>\n",
       "    </tr>\n",
       "    <tr>\n",
       "      <th>2</th>\n",
       "      <td>CHEAP</td>\n",
       "      <td>976</td>\n",
       "      <td>Cheapcoin</td>\n",
       "      <td>?</td>\n",
       "      <td>$0.000112</td>\n",
       "      <td>?</td>\n",
       "      <td>*</td>\n",
       "      <td>Low Vol</td>\n",
       "      <td>0.02%</td>\n",
       "      <td>105.40%</td>\n",
       "    </tr>\n",
       "    <tr>\n",
       "      <th>3</th>\n",
       "      <td>BLAS</td>\n",
       "      <td>700</td>\n",
       "      <td>BlakeStar</td>\n",
       "      <td>$27,044</td>\n",
       "      <td>$0.000112</td>\n",
       "      <td>242,418,240</td>\n",
       "      <td>Low Vol</td>\n",
       "      <td>0.02%</td>\n",
       "      <td>-5.80%</td>\n",
       "      <td>?</td>\n",
       "    </tr>\n",
       "    <tr>\n",
       "      <th>4</th>\n",
       "      <td>CPC</td>\n",
       "      <td>341</td>\n",
       "      <td>Capricoin</td>\n",
       "      <td>$848,890</td>\n",
       "      <td>$0.426568</td>\n",
       "      <td>1,990,045</td>\n",
       "      <td>*</td>\n",
       "      <td>$18,457</td>\n",
       "      <td>-0.49%</td>\n",
       "      <td>3.66%</td>\n",
       "    </tr>\n",
       "  </tbody>\n",
       "</table>\n",
       "</div>"
      ],
      "text/plain": [
       "  symbol  ranking by market cap       name   market cap      price  \\\n",
       "0    XBY                    190  XtraBYtes  $7,422,935   $0.011420   \n",
       "1    CPN                    637  CompuCoin     $57,962   $0.002955   \n",
       "2  CHEAP                    976  Cheapcoin           ?   $0.000112   \n",
       "3   BLAS                    700  BlakeStar     $27,044   $0.000112   \n",
       "4    CPC                    341  Capricoin    $848,890   $0.426568   \n",
       "\n",
       "  circulating supply   volume     % 1h   % 24h    % 1wk  \n",
       "0        650,000,000        *  $16,273  -1.36%   -0.03%  \n",
       "1         19,615,019  Low Vol    0.34%  -4.69%  -31.49%  \n",
       "2                  ?        *  Low Vol   0.02%  105.40%  \n",
       "3        242,418,240  Low Vol    0.02%  -5.80%        ?  \n",
       "4          1,990,045        *  $18,457  -0.49%    3.66%  "
      ]
     },
     "execution_count": 64,
     "metadata": {},
     "output_type": "execute_result"
    }
   ],
   "source": [
    "# Let's take a quick look at what the data looks like:\n",
    "df2.head(5)"
   ]
  },
  {
   "cell_type": "markdown",
   "metadata": {},
   "source": [
    "Distribution graphs (histogram/bar graph) of sampled columns:"
   ]
  },
  {
   "cell_type": "code",
   "execution_count": 65,
   "metadata": {
    "_kg_hide-input": false,
    "collapsed": false,
    "jupyter": {
     "outputs_hidden": false
    }
   },
   "outputs": [
    {
     "data": {
      "text/plain": [
       "<Figure size 2400x512 with 0 Axes>"
      ]
     },
     "metadata": {},
     "output_type": "display_data"
    }
   ],
   "source": [
    "plotPerColumnDistribution(df2, 10, 5)"
   ]
  },
  {
   "cell_type": "code",
   "execution_count": 66,
   "metadata": {
    "_kg_hide-input": false,
    "collapsed": false,
    "jupyter": {
     "outputs_hidden": false
    }
   },
   "outputs": [
    {
     "name": "stdout",
     "output_type": "stream",
     "text": [
      "There are 1000 rows and 10 columns\n"
     ]
    }
   ],
   "source": [
    "# Let's check 3rd file: /kaggle/input/crypto-data/cr_20170804-040006.csv\n",
    "df3.dataframeName = 'cr_20170804-040006.csv'\n",
    "nRow, nCol = df3.shape\n",
    "print(f'There are {nRow} rows and {nCol} columns')"
   ]
  },
  {
   "cell_type": "code",
   "execution_count": 67,
   "metadata": {
    "_kg_hide-input": false,
    "collapsed": false,
    "jupyter": {
     "outputs_hidden": false
    }
   },
   "outputs": [
    {
     "data": {
      "text/html": [
       "<div>\n",
       "<style scoped>\n",
       "    .dataframe tbody tr th:only-of-type {\n",
       "        vertical-align: middle;\n",
       "    }\n",
       "\n",
       "    .dataframe tbody tr th {\n",
       "        vertical-align: top;\n",
       "    }\n",
       "\n",
       "    .dataframe thead th {\n",
       "        text-align: right;\n",
       "    }\n",
       "</style>\n",
       "<table border=\"1\" class=\"dataframe\">\n",
       "  <thead>\n",
       "    <tr style=\"text-align: right;\">\n",
       "      <th></th>\n",
       "      <th>symbol</th>\n",
       "      <th>ranking by market cap</th>\n",
       "      <th>name</th>\n",
       "      <th>market cap</th>\n",
       "      <th>price</th>\n",
       "      <th>circulating supply</th>\n",
       "      <th>volume</th>\n",
       "      <th>% 1h</th>\n",
       "      <th>% 24h</th>\n",
       "      <th>% 1wk</th>\n",
       "    </tr>\n",
       "  </thead>\n",
       "  <tbody>\n",
       "    <tr>\n",
       "      <th>0</th>\n",
       "      <td>XBY</td>\n",
       "      <td>192</td>\n",
       "      <td>XtraBYtes</td>\n",
       "      <td>$7,322,055</td>\n",
       "      <td>$0.011265</td>\n",
       "      <td>650,000,000</td>\n",
       "      <td>*</td>\n",
       "      <td>$16,282</td>\n",
       "      <td>-1.93%</td>\n",
       "      <td>-1.53%</td>\n",
       "    </tr>\n",
       "    <tr>\n",
       "      <th>1</th>\n",
       "      <td>CPN</td>\n",
       "      <td>638</td>\n",
       "      <td>CompuCoin</td>\n",
       "      <td>$57,975</td>\n",
       "      <td>$0.002956</td>\n",
       "      <td>19,615,019</td>\n",
       "      <td>Low Vol</td>\n",
       "      <td>0.36%</td>\n",
       "      <td>-4.67%</td>\n",
       "      <td>-31.38%</td>\n",
       "    </tr>\n",
       "    <tr>\n",
       "      <th>2</th>\n",
       "      <td>CHEAP</td>\n",
       "      <td>978</td>\n",
       "      <td>Cheapcoin</td>\n",
       "      <td>?</td>\n",
       "      <td>$0.000112</td>\n",
       "      <td>?</td>\n",
       "      <td>*</td>\n",
       "      <td>Low Vol</td>\n",
       "      <td>0.17%</td>\n",
       "      <td>105.40%</td>\n",
       "    </tr>\n",
       "    <tr>\n",
       "      <th>3</th>\n",
       "      <td>BLAS</td>\n",
       "      <td>701</td>\n",
       "      <td>BlakeStar</td>\n",
       "      <td>$27,038</td>\n",
       "      <td>$0.000112</td>\n",
       "      <td>242,418,240</td>\n",
       "      <td>Low Vol</td>\n",
       "      <td>0.05%</td>\n",
       "      <td>-7.01%</td>\n",
       "      <td>?</td>\n",
       "    </tr>\n",
       "    <tr>\n",
       "      <th>4</th>\n",
       "      <td>CPC</td>\n",
       "      <td>341</td>\n",
       "      <td>Capricoin</td>\n",
       "      <td>$849,276</td>\n",
       "      <td>$0.426762</td>\n",
       "      <td>1,990,045</td>\n",
       "      <td>*</td>\n",
       "      <td>$18,466</td>\n",
       "      <td>-0.51%</td>\n",
       "      <td>3.91%</td>\n",
       "    </tr>\n",
       "  </tbody>\n",
       "</table>\n",
       "</div>"
      ],
      "text/plain": [
       "  symbol  ranking by market cap       name   market cap      price  \\\n",
       "0    XBY                    192  XtraBYtes  $7,322,055   $0.011265   \n",
       "1    CPN                    638  CompuCoin     $57,975   $0.002956   \n",
       "2  CHEAP                    978  Cheapcoin           ?   $0.000112   \n",
       "3   BLAS                    701  BlakeStar     $27,038   $0.000112   \n",
       "4    CPC                    341  Capricoin    $849,276   $0.426762   \n",
       "\n",
       "  circulating supply   volume     % 1h   % 24h    % 1wk  \n",
       "0        650,000,000        *  $16,282  -1.93%   -1.53%  \n",
       "1         19,615,019  Low Vol    0.36%  -4.67%  -31.38%  \n",
       "2                  ?        *  Low Vol   0.17%  105.40%  \n",
       "3        242,418,240  Low Vol    0.05%  -7.01%        ?  \n",
       "4          1,990,045        *  $18,466  -0.51%    3.91%  "
      ]
     },
     "execution_count": 67,
     "metadata": {},
     "output_type": "execute_result"
    }
   ],
   "source": [
    "# Let's take a quick look at what the data looks like:\n",
    "df3.head(5)"
   ]
  },
  {
   "cell_type": "code",
   "execution_count": 68,
   "metadata": {
    "_kg_hide-input": false,
    "collapsed": false,
    "jupyter": {
     "outputs_hidden": false
    },
    "pycharm": {
     "name": "#%%\n"
    }
   },
   "outputs": [
    {
     "data": {
      "text/plain": [
       "<Figure size 2400x512 with 0 Axes>"
      ]
     },
     "metadata": {},
     "output_type": "display_data"
    }
   ],
   "source": [
    "# Distribution graphs (histogram/bar graph) of sampled columns:\n",
    "plotPerColumnDistribution(df3, 10, 5)"
   ]
  }
 ],
 "metadata": {
  "kernelspec": {
   "display_name": "Python 3",
   "language": "python",
   "name": "python3"
  },
  "language_info": {
   "codemirror_mode": {
    "name": "ipython",
    "version": 3
   },
   "file_extension": ".py",
   "mimetype": "text/x-python",
   "name": "python",
   "nbconvert_exporter": "python",
   "pygments_lexer": "ipython3",
   "version": "3.7.6"
  }
 },
 "nbformat": 4,
 "nbformat_minor": 4
}